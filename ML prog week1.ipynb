{
 "cells": [
  {
   "cell_type": "code",
   "execution_count": 2,
   "metadata": {
    "ExecuteTime": {
     "end_time": "2019-04-15T06:11:50.960414Z",
     "start_time": "2019-04-15T06:11:47.878586Z"
    }
   },
   "outputs": [
    {
     "name": "stdout",
     "output_type": "stream",
     "text": [
      "First Name : s\n",
      "Last Name : k\n",
      "User Name in Reverse Order :  k s \n",
      "\n"
     ]
    }
   ],
   "source": [
    "###############################################################################################################\n",
    "# @SANTOSHI KALASKAR\n",
    "# @version python 3.6.0\n",
    "# @since 15-04-2019\n",
    "# All first week basic programs.\n",
    "###############################################################################################################\n",
    "#1. Write a Python program which accepts the user's first and last name and print them in reverse order with a space between them.\n",
    "fName = input(\"First Name : \")\n",
    "lName = input(\"Last Name : \")\n",
    "rev = lName +\" \"+fName\n",
    "print(\"User Name in Reverse Order : \", rev, '\\n')\n"
   ]
  },
  {
   "cell_type": "code",
   "execution_count": 3,
   "metadata": {
    "ExecuteTime": {
     "end_time": "2019-04-15T06:15:18.120462Z",
     "start_time": "2019-04-15T06:15:13.613282Z"
    }
   },
   "outputs": [
    {
     "name": "stdout",
     "output_type": "stream",
     "text": [
      "Provide sequence of comma-separated numbers : 1,2,34\n",
      "Input as List =  ['1', '2', '34'] \n",
      "\n",
      "Input as Tuple =  ('1', '2', '34')\n"
     ]
    }
   ],
   "source": [
    "# 2. Write a Python program which accepts a sequence of comma-separated numbers from user and generate a list and a tuple with those numbers. \n",
    "element = input(\"Provide sequence of comma-separated numbers : \")\n",
    "listelement = element.split(\",\")\n",
    "print(\"Input as List = \", listelement, '\\n')\n",
    "print(\"Input as Tuple = \", tuple(listelement))\n",
    "\n"
   ]
  },
  {
   "cell_type": "code",
   "execution_count": 4,
   "metadata": {
    "ExecuteTime": {
     "end_time": "2019-04-15T06:15:30.624597Z",
     "start_time": "2019-04-15T06:15:30.618844Z"
    }
   },
   "outputs": [
    {
     "name": "stdout",
     "output_type": "stream",
     "text": [
      "-------------------Color Problem ------------------------\n",
      "Color List ::  ['Red', 'Green', 'White', 'Black']\n",
      "First Color of List is : Red  and Last color of list is :  Black \n",
      "\n"
     ]
    }
   ],
   "source": [
    "#3. Write a Python program to display the first and last colors from the following list.\n",
    "print(\"-------------------Color Problem ------------------------\")\n",
    "color_list = [\"Red\", \"Green\", \"White\", \"Black\"]\n",
    "print(\"Color List :: \",color_list)\n",
    "print(\"First Color of List is :\", color_list[0], \" and Last color of list is : \", color_list[-1], '\\n')\n"
   ]
  },
  {
   "cell_type": "code",
   "execution_count": 5,
   "metadata": {
    "ExecuteTime": {
     "end_time": "2019-04-15T06:15:58.954389Z",
     "start_time": "2019-04-15T06:15:55.838491Z"
    }
   },
   "outputs": [
    {
     "name": "stdout",
     "output_type": "stream",
     "text": [
      "Enter the value : 4.5\n",
      "Absolute value of Argument is :  4.5 \n",
      "\n",
      "Return the absolute value of the argument.\n"
     ]
    }
   ],
   "source": [
    "# 4. Write a Python program to print the documents (syntax, description etc.) of Python built-in function(s).\n",
    "arg = float(input(\"Enter the value : \"))\n",
    "print(\"Absolute value of Argument is : \", abs(arg), '\\n')\n",
    "print(abs.__doc__)\n"
   ]
  },
  {
   "cell_type": "code",
   "execution_count": 6,
   "metadata": {
    "ExecuteTime": {
     "end_time": "2019-04-15T06:20:08.110648Z",
     "start_time": "2019-04-15T06:20:02.911062Z"
    }
   },
   "outputs": [
    {
     "name": "stdout",
     "output_type": "stream",
     "text": [
      "-------------------Calendar Problem------------------------\n",
      "Enter the Month : 7\n",
      "Enter the Year : 2019\n",
      "The month 7 th of 2019 is :\n",
      "     July 2019\n",
      "Mo Tu We Th Fr Sa Su\n",
      " 1  2  3  4  5  6  7\n",
      " 8  9 10 11 12 13 14\n",
      "15 16 17 18 19 20 21\n",
      "22 23 24 25 26 27 28\n",
      "29 30 31\n",
      " \n",
      "\n"
     ]
    }
   ],
   "source": [
    "# 5. Write a Python program to print the calendar of a given month and year.\n",
    "import calendar\n",
    "print(\"-------------------Calendar Problem------------------------\")\n",
    "month = int(input(\"Enter the Month : \"))\n",
    "year = int(input(\"Enter the Year : \"))\n",
    "print(\"The month\", month, \"th of\", year,  \"is :\")\n",
    "print(calendar.month(year, month), '\\n')\n"
   ]
  },
  {
   "cell_type": "code",
   "execution_count": 7,
   "metadata": {
    "ExecuteTime": {
     "end_time": "2019-04-15T06:24:00.486498Z",
     "start_time": "2019-04-15T06:23:39.285472Z"
    }
   },
   "outputs": [
    {
     "name": "stdout",
     "output_type": "stream",
     "text": [
      "-------------------Date Difference Problem------------------------\n",
      "Enter the first Date in DD/MM/YYYY : 11/11/1996\n",
      "Enter the Second Date in DD/MM/YYYY : 12/12/1996\n",
      "Difference Between the  11/11/1996  and  12/12/1996  is  31 days \n",
      "\n"
     ]
    }
   ],
   "source": [
    "# 6. Write a Python program to calculate number of days between two dates.\n",
    "\n",
    "import datetime\n",
    "import calendar\n",
    "print(\"-------------------Date Difference Problem------------------------\")\n",
    "Edate1 = input(\"Enter the first Date in DD/MM/YYYY : \")\n",
    "dt = Edate1.split(\"/\")\n",
    "date = int(dt[0])\n",
    "month = int(dt[1])\n",
    "year = int(dt[2])\n",
    "\n",
    "Edate2 = input(\"Enter the Second Date in DD/MM/YYYY : \")\n",
    "dt1 = Edate2.split(\"/\")\n",
    "date1 = int(dt1[0])\n",
    "month1 = int(dt1[1])\n",
    "year1 = int(dt1[2])\n",
    "\n",
    "indate1 = datetime.date(year, month, date)\n",
    "indate2 = datetime.date(year1, month1, date1)\n",
    "print(\"Difference Between the \", Edate1, \" and \", Edate2, \" is \",abs((indate2-indate1).days), \"days\", '\\n')\n"
   ]
  },
  {
   "cell_type": "code",
   "execution_count": 12,
   "metadata": {
    "ExecuteTime": {
     "end_time": "2019-04-16T07:16:59.199680Z",
     "start_time": "2019-04-16T07:16:52.436226Z"
    }
   },
   "outputs": [
    {
     "name": "stdout",
     "output_type": "stream",
     "text": [
      "-----------------------is Particular data is present in Data Set------------------------- \n",
      "\n",
      "Enter a list element separated by space 2 3 4\n",
      "False\n"
     ]
    }
   ],
   "source": [
    "\n",
    "# 7. Write a Python program to check whether a specified value is contained in a group of values.\n",
    "def isdatapresent(sublist,list1):\n",
    "    for elem in sublist:\n",
    "        if elem not in list1:\n",
    "            return False\n",
    "    return True\n",
    "print(\"-----------------------is Particular data is present in Data Set-------------------------\", '\\n')\n",
    "x= isdatapresent([2,3,4],[1, 2, 3, 4, 5, 6, 7, 8, 9, 10, 11, 12, 13])\n",
    "print(x)"
   ]
  },
  {
   "cell_type": "markdown",
   "metadata": {
    "ExecuteTime": {
     "end_time": "2019-04-15T06:32:30.662191Z",
     "start_time": "2019-04-15T06:32:23.220663Z"
    }
   },
   "source": [
    "# 8. Write a Python program to create a histogram from a given list of integers.\n",
    "def generatinghistogram(list):\n",
    "        for i in range(len(list)):\n",
    "            for j in range(list[i]):\n",
    "                print('*',end='')\n",
    "            print(' ')\n",
    "list = []\n",
    "print(\"-----------------------Generating Histogram from Given List------------------------------\", '\\n')\n",
    "n = int(input(\"Enter the number of list Element :\"))\n",
    "for i in range(n):\n",
    "    element = int(input(\"Element :\"))\n",
    "    list.append(element)\n",
    "print(\"Given Array:\", list)\n",
    "generatinghistogram(list)"
   ]
  },
  {
   "cell_type": "code",
   "execution_count": 16,
   "metadata": {
    "ExecuteTime": {
     "end_time": "2019-04-15T06:35:29.721163Z",
     "start_time": "2019-04-15T06:35:14.696882Z"
    }
   },
   "outputs": [
    {
     "name": "stdout",
     "output_type": "stream",
     "text": [
      "------------------------Concate The element of given list------------------ \n",
      "\n",
      "Enter the number of list Element :3\n",
      "Element :abc\n",
      "Element :xyz\n",
      "Element :pqr\n",
      "Given Array: ['abc', 'xyz', 'pqr']\n",
      "Output as String is:  abcxyzpqr\n"
     ]
    }
   ],
   "source": [
    "# 9. Write a Python program to concatenate all elements in a list into a string and return it.\n",
    "print(\"------------------------Concate The element of given list------------------\", '\\n')\n",
    "list = []\n",
    "string = \"\"\n",
    "n = int(input(\"Enter the number of list Element :\"))\n",
    "for i in range(n):\n",
    "    element = input(\"Element :\")\n",
    "    list.append(element)\n",
    "print(\"Given Array:\", list)\n",
    "for i in range(len(list)):\n",
    "    string = string + list[i]\n",
    "print(\"Output as String is: \", string)\n"
   ]
  },
  {
   "cell_type": "code",
   "execution_count": 17,
   "metadata": {
    "ExecuteTime": {
     "end_time": "2019-04-15T06:37:16.068990Z",
     "start_time": "2019-04-15T06:37:16.062127Z"
    }
   },
   "outputs": [
    {
     "name": "stdout",
     "output_type": "stream",
     "text": [
      "-----------------------Getting the Different Element from list----------------- \n",
      "\n",
      "First List : {'Red', 'Black', 'White'}\n",
      "Second List : {'Red', 'Green'} \n",
      "\n",
      "Unique Element from Lists : {'Black', 'White'}\n"
     ]
    }
   ],
   "source": [
    "# 10. Write a Python program to print out a set containing all the colors from color_list_1 which are not present in color_list_2. \n",
    "print(\"-----------------------Getting the Different Element from list-----------------\", '\\n')\n",
    "color_list_1 = set([\"White\", \"Black\", \"Red\"])\n",
    "color_list_2 = set([\"Red\", \"Green\"])\n",
    "print(\"First List :\", color_list_1)\n",
    "print(\"Second List :\", color_list_2, '\\n')\n",
    "print(\"Unique Element from Lists :\", color_list_1.difference(color_list_2))\n",
    "\n"
   ]
  },
  {
   "cell_type": "code",
   "execution_count": 18,
   "metadata": {
    "ExecuteTime": {
     "end_time": "2019-04-15T06:37:22.976600Z",
     "start_time": "2019-04-15T06:37:19.749063Z"
    }
   },
   "outputs": [
    {
     "name": "stdout",
     "output_type": "stream",
     "text": [
      "enter file name: a.txt\n",
      "False\n"
     ]
    }
   ],
   "source": [
    "# 11. Write a Python program to check whether a file exists.\n",
    "import os.path\n",
    "f=input(\"enter file name: \")\n",
    "print(os.path.isfile(f))"
   ]
  },
  {
   "cell_type": "code",
   "execution_count": 16,
   "metadata": {
    "ExecuteTime": {
     "end_time": "2019-04-15T10:55:14.033629Z",
     "start_time": "2019-04-15T10:55:14.015414Z"
    }
   },
   "outputs": [
    {
     "name": "stdout",
     "output_type": "stream",
     "text": [
      "     April 2019       \n",
      "Su Mo Tu We Th Fr Sa  \n",
      "    1  2  3  4  5  6  \n",
      " 7  8  9 10 11 12 13  \n",
      "14 _\b1_\b5 16 17 18 19 20  \n",
      "21 22 23 24 25 26 27  \n",
      "28 29 30              \n",
      "                      \n",
      "\n"
     ]
    }
   ],
   "source": [
    "# 12. Write a python program to call an external command in Python.\n",
    "\n",
    "import os\n",
    "import subprocess\n",
    "c=subprocess.check_output(\"cal\", shell=True, universal_newlines=True)\n",
    "print(c)\n"
   ]
  },
  {
   "cell_type": "code",
   "execution_count": 17,
   "metadata": {
    "ExecuteTime": {
     "end_time": "2019-04-16T07:20:37.492498Z",
     "start_time": "2019-04-16T07:20:37.488447Z"
    }
   },
   "outputs": [
    {
     "name": "stdout",
     "output_type": "stream",
     "text": [
      "3.5.6 |Anaconda, Inc.| (default, Aug 26 2018, 21:41:56) \n",
      "[GCC 7.3.0]\n",
      "\n",
      "No of cpu used:  1\n"
     ]
    }
   ],
   "source": [
    "# 13. Write a Python program to find out the number of CPUs using.\n",
    "import sys\n",
    "import multiprocessing\n",
    "print(sys.version+'\\n')\n",
    "print(\"No of cpu used: \",multiprocessing.cpu_count())\n"
   ]
  },
  {
   "cell_type": "code",
   "execution_count": 21,
   "metadata": {
    "ExecuteTime": {
     "end_time": "2019-04-16T07:22:37.251045Z",
     "start_time": "2019-04-16T07:22:37.246809Z"
    }
   },
   "outputs": [
    {
     "name": "stdout",
     "output_type": "stream",
     "text": [
      "['ML prog week1.ipynb']\n"
     ]
    }
   ],
   "source": [
    "# 14. Write a Python program to list all files in a directory in Python\n",
    "from os import listdir\n",
    "from os.path import isfile, join\n",
    "files_list = [f for f in listdir('/home/ubuntu/testingjupyterdata/Santoshi Kalskar/Week 1/') if isfile(join('/home/ubuntu/testingjupyterdata/Santoshi Kalskar/Week 1/', f))]\n",
    "print(files_list)"
   ]
  },
  {
   "cell_type": "code",
   "execution_count": 20,
   "metadata": {
    "ExecuteTime": {
     "end_time": "2019-04-16T07:22:14.511080Z",
     "start_time": "2019-04-16T07:22:14.506512Z"
    }
   },
   "outputs": [
    {
     "name": "stdout",
     "output_type": "stream",
     "text": [
      "['ML prog week1.ipynb']\n",
      "['ML prog week1-checkpoint.ipynb']\n"
     ]
    }
   ],
   "source": [
    "from os import walk\n",
    "for dirpath, dirname,filename in walk('/home/ubuntu/testingjupyterdata/Santoshi Kalskar/Week 1/'):\n",
    "    print(filename) \n"
   ]
  },
  {
   "cell_type": "code",
   "execution_count": 30,
   "metadata": {
    "ExecuteTime": {
     "end_time": "2019-04-15T06:43:44.560795Z",
     "start_time": "2019-04-15T06:43:44.545141Z"
    }
   },
   "outputs": [
    {
     "name": "stdout",
     "output_type": "stream",
     "text": [
      "*-----------------List of all Environment veriables-----------------*\n",
      "MPLBACKEND : module://ipykernel.pylab.backend_inline\n",
      "HOME : /home/ubuntu\n",
      "PATH : /usr/local/sbin:/usr/local/bin:/usr/sbin:/usr/bin:/sbin:/bin\n",
      "GIT_PAGER : cat\n",
      "PAGER : cat\n",
      "CLICOLOR : 1\n",
      "JOURNAL_STREAM : 9:17366\n",
      "INVOCATION_ID : ac444103887640248a2f6fc94a1695f2\n",
      "USER : ubuntu\n",
      "LOGNAME : ubuntu\n",
      "JPY_PARENT_PID : 819\n",
      "LANG : C.UTF-8\n",
      "TERM : xterm-color\n",
      "SHELL : /bin/bash\n",
      "*----------------Access a particular environment variable------------------*\n",
      "*-----------------PATH-----------------*\n",
      "/usr/local/sbin:/usr/local/bin:/usr/sbin:/usr/bin:/sbin:/bin\n"
     ]
    }
   ],
   "source": [
    "# 15. Write a python program to access environment variables.\n",
    "import os\n",
    "print('*-----------------List of all Environment veriables-----------------*')\n",
    "for s,n in os.environ.items():\n",
    "    print(s,\":\",n)\n",
    "print('*----------------Access a particular environment variable------------------*')\n",
    "print('*-----------------PATH-----------------*')\n",
    "print(os.environ['PATH'])"
   ]
  },
  {
   "cell_type": "code",
   "execution_count": 31,
   "metadata": {
    "ExecuteTime": {
     "end_time": "2019-04-15T06:43:50.060628Z",
     "start_time": "2019-04-15T06:43:50.055441Z"
    }
   },
   "outputs": [
    {
     "name": "stdout",
     "output_type": "stream",
     "text": [
      " correct user Name: ubuntu\n"
     ]
    }
   ],
   "source": [
    "# 16. Write a Python program to get the current username\n",
    "import getpass\n",
    "print(\" correct user Name: \"+getpass.getuser())\n"
   ]
  },
  {
   "cell_type": "code",
   "execution_count": 22,
   "metadata": {
    "ExecuteTime": {
     "end_time": "2019-04-16T07:23:39.785346Z",
     "start_time": "2019-04-16T07:23:39.779079Z"
    }
   },
   "outputs": [
    {
     "name": "stdout",
     "output_type": "stream",
     "text": [
      "\n",
      "Time to sum of 1 to  7  and required time to calculate is : (21, 1.0013580322265625e-05)  seconds \n"
     ]
    }
   ],
   "source": [
    "# 17. Write a program to get execution time for a Python method.\n",
    "import time\n",
    "def sum_of_n_numbers(n):\n",
    "    start_time = time.time()\n",
    "    s = 0\n",
    "    p=1;\n",
    "    for i in range(0,n):\n",
    "        s = s + i\n",
    "        p=p*i\n",
    "    end_time = time.time()\n",
    "    return s,end_time-start_time\n",
    "n = 7\n",
    "print(\"\\nTime to sum of 1 to \",n,\" and required time to calculate is :\",sum_of_n_numbers(n),\" seconds \")\n"
   ]
  },
  {
   "cell_type": "code",
   "execution_count": 33,
   "metadata": {
    "ExecuteTime": {
     "end_time": "2019-04-15T06:44:44.619262Z",
     "start_time": "2019-04-15T06:44:34.796348Z"
    }
   },
   "outputs": [
    {
     "name": "stdout",
     "output_type": "stream",
     "text": [
      "Enter file Name: a.txt\n",
      "Absolute file path:  /home/ubuntu/testingjupyterdata/Santoshi Kalskar/Week 1/a.txt\n"
     ]
    }
   ],
   "source": [
    "# 18. Write a Python program to get an absolute file path.\n",
    "import os\n",
    "f = input(\"Enter file Name: \")\n",
    "print(\"Absolute file path: \",os.path.abspath(f))"
   ]
  },
  {
   "cell_type": "code",
   "execution_count": 35,
   "metadata": {
    "ExecuteTime": {
     "end_time": "2019-04-15T06:46:09.193136Z",
     "start_time": "2019-04-15T06:46:05.772121Z"
    }
   },
   "outputs": [
    {
     "name": "stdout",
     "output_type": "stream",
     "text": [
      "enter a file name: \n",
      "a.txt\n",
      "Created Time:  Mon Apr 15 06:46:00 2019\n",
      "Last modified Time:  Mon Apr 15 06:45:51 2019\n"
     ]
    }
   ],
   "source": [
    "# 19. Write a Python program to get file creation and modification date/times.\n",
    "import os.path, time\n",
    "f= input(\"enter a file name: \\n\")\n",
    "print(\"Created Time: \" ,time.ctime(os.path.getctime(f)))\n",
    "print(\"Last modified Time: \" , time.ctime(os.path.getmtime(f)))\n"
   ]
  },
  {
   "cell_type": "code",
   "execution_count": 36,
   "metadata": {
    "ExecuteTime": {
     "end_time": "2019-04-15T06:46:22.483395Z",
     "start_time": "2019-04-15T06:46:17.417263Z"
    }
   },
   "outputs": [
    {
     "name": "stdout",
     "output_type": "stream",
     "text": [
      "Enter first number: 22\n",
      "Enter second number: 23\n",
      "Enter third number: 11\n",
      "Numbers in sorted order:  11 22 23\n"
     ]
    }
   ],
   "source": [
    "# 20. Write a Python program to sort three integers without using conditional statements and loops.\n",
    "x = int(input(\"Enter first number: \"))\n",
    "y = int(input(\"Enter second number: \"))\n",
    "z = int(input(\"Enter third number: \"))\n",
    "a1 = min(x, y, z)\n",
    "a3 = max(x, y, z)\n",
    "a2 = (x + y + z) - a1 - a3\n",
    "print(\"Numbers in sorted order: \", a1, a2, a3)"
   ]
  },
  {
   "cell_type": "code",
   "execution_count": 37,
   "metadata": {
    "ExecuteTime": {
     "end_time": "2019-04-15T06:46:44.266001Z",
     "start_time": "2019-04-15T06:46:44.261016Z"
    }
   },
   "outputs": [
    {
     "name": "stdout",
     "output_type": "stream",
     "text": [
      "a.txt\n"
     ]
    }
   ],
   "source": [
    "# 21. Write a Python program to sort files by date. \n",
    "import glob\n",
    "import os\n",
    "\n",
    "files = glob.glob(\"*.txt\")\n",
    "files.sort(key=os.path.getmtime)\n",
    "print(\"\\n\".join(files))\n"
   ]
  },
  {
   "cell_type": "code",
   "execution_count": 38,
   "metadata": {
    "ExecuteTime": {
     "end_time": "2019-04-15T06:46:59.784094Z",
     "start_time": "2019-04-15T06:46:59.778345Z"
    }
   },
   "outputs": [
    {
     "name": "stdout",
     "output_type": "stream",
     "text": [
      "This is the name/path of the script:\n",
      "Number of arguments: 3\n",
      "Argument List: ['/home/ubuntu/anaconda3/envs/testindatavenv/lib/python3.5/site-packages/ipykernel_launcher.py', '-f', '/home/ubuntu/.local/share/jupyter/runtime/kernel-b4897fbc-6c3d-4e47-85d3-50b523961281.json']\n"
     ]
    }
   ],
   "source": [
    "# 22. Write a Python program to get the command-line arguments (name of the script, the number of arguments, arguments) passed to a script. \n",
    "\n",
    "import sys\n",
    "print(\"This is the name/path of the script:\"),sys.argv[0]\n",
    "print(\"Number of arguments:\",len(sys.argv))\n",
    "print(\"Argument List:\",str(sys.argv))"
   ]
  },
  {
   "cell_type": "code",
   "execution_count": 5,
   "metadata": {
    "ExecuteTime": {
     "end_time": "2019-04-15T10:38:20.235334Z",
     "start_time": "2019-04-15T10:38:20.231344Z"
    }
   },
   "outputs": [
    {
     "name": "stdout",
     "output_type": "stream",
     "text": [
      "_ast,  _codecs,  _collections,  _functools,  _imp,  _io,  _locale,\n",
      "_operator,  _signal,  _sre,  _stat,  _string,  _symtable,  _thread,\n",
      "_tracemalloc,  _warnings,  _weakref,  atexit,  builtins,  errno,\n",
      "faulthandler,  gc,  itertools,  marshal,  posix,  pwd,  sys,  time,\n",
      "xxsubtype,  zipimport\n"
     ]
    }
   ],
   "source": [
    "#23. Write a Python program to find the available built-in modules. \n",
    "\n",
    "import sys\n",
    "import textwrap\n",
    "module_name = \", \".join(sorted(sys.builtin_module_names))\n",
    "print(textwrap.fill(module_name))\n"
   ]
  },
  {
   "cell_type": "code",
   "execution_count": 41,
   "metadata": {
    "ExecuteTime": {
     "end_time": "2019-04-15T06:48:58.680919Z",
     "start_time": "2019-04-15T06:48:58.673540Z"
    }
   },
   "outputs": [
    {
     "name": "stdout",
     "output_type": "stream",
     "text": [
      "\n",
      "Memory size of ' one ' = 52 bytes\n",
      "Memory size of ' 111 ' = 28 bytes\n",
      "Memory size of ' 21.2 ' = 24 bytes\n",
      "\n"
     ]
    }
   ],
   "source": [
    "#24. Write a Python program to get the size of an object in bytes. \n",
    "import sys\n",
    "str1 = \"one\"\n",
    "str2 = 111\n",
    "str3 = 21.2\n",
    "\n",
    "print(\"Memory size of '\",str1,\"' = \"+str(sys.getsizeof(str1))+ \" bytes\")\n",
    "print(\"Memory size of '\",str2,\"' = \"+str(sys.getsizeof(str2))+ \" bytes\")\n",
    "print(\"Memory size of '\",str3,\"' = \"+str(sys.getsizeof(str3))+ \" bytes\")\n"
   ]
  },
  {
   "cell_type": "code",
   "execution_count": 42,
   "metadata": {
    "ExecuteTime": {
     "end_time": "2019-04-15T06:49:38.389350Z",
     "start_time": "2019-04-15T06:49:38.385294Z"
    }
   },
   "outputs": [
    {
     "name": "stdout",
     "output_type": "stream",
     "text": [
      "Current value of the recursion limit:\n",
      "3000\n",
      "\n"
     ]
    }
   ],
   "source": [
    "#25. Write a Python program to get the current value of the recursion limit. \n",
    "import sys\n",
    "print(\"Current value of the recursion limit:\")\n",
    "print(sys.getrecursionlimit())"
   ]
  },
  {
   "cell_type": "code",
   "execution_count": 44,
   "metadata": {
    "ExecuteTime": {
     "end_time": "2019-04-15T06:52:09.726407Z",
     "start_time": "2019-04-15T06:52:05.098265Z"
    }
   },
   "outputs": [
    {
     "name": "stdout",
     "output_type": "stream",
     "text": [
      "Enter a charecter to be count the number occurrencee\n",
      "Occures at  3 time\n",
      "\n"
     ]
    }
   ],
   "source": [
    "#26. Write a Python program to count the number occurrence of a specific character in a string. \n",
    "\n",
    "s = \"The quick brown fox jumps over the lazy dog.\"\n",
    "c=input(\"Enter a charecter to be count the number occurrence: \")\n",
    "print(\"Occures at \",s.count(\"e\"),\"time\")\n",
    "print()"
   ]
  },
  {
   "cell_type": "code",
   "execution_count": 45,
   "metadata": {
    "ExecuteTime": {
     "end_time": "2019-04-15T06:52:49.761211Z",
     "start_time": "2019-04-15T06:52:49.757422Z"
    }
   },
   "outputs": [
    {
     "name": "stdout",
     "output_type": "stream",
     "text": [
      "system Time: \n",
      "Mon Apr 15 06:52:49 2019\n"
     ]
    }
   ],
   "source": [
    "#27. Write a Python program to get the system time. \n",
    "import time\n",
    "print(\"system Time: \")\n",
    "print(time.ctime())"
   ]
  },
  {
   "cell_type": "code",
   "execution_count": 3,
   "metadata": {
    "ExecuteTime": {
     "end_time": "2019-04-15T10:33:03.362573Z",
     "start_time": "2019-04-15T10:33:03.345302Z"
    }
   },
   "outputs": [
    {
     "name": "stdout",
     "output_type": "stream",
     "text": [
      "\u001b[H\u001b[2J\n"
     ]
    }
   ],
   "source": [
    "#28. Write a Python program to clear the screen or terminal. \n",
    "import subprocess\n",
    "returned_text = subprocess.check_output(\"clear\", shell=True, universal_newlines=True)\n",
    "print(returned_text)"
   ]
  },
  {
   "cell_type": "code",
   "execution_count": 2,
   "metadata": {
    "ExecuteTime": {
     "end_time": "2019-04-15T10:30:56.982497Z",
     "start_time": "2019-04-15T10:30:56.977948Z"
    }
   },
   "outputs": [
    {
     "name": "stdout",
     "output_type": "stream",
     "text": [
      "\n",
      "Host name: ip-172-31-21-248\n",
      "\n"
     ]
    }
   ],
   "source": [
    "#29. Write a Python program to get the name of the host on which the routine is running. \n",
    "import socket\n",
    "host_name = socket.gethostname()\n",
    "print(\"Host name:\", host_name)"
   ]
  },
  {
   "cell_type": "code",
   "execution_count": 1,
   "metadata": {
    "ExecuteTime": {
     "end_time": "2019-04-15T10:30:01.761694Z",
     "start_time": "2019-04-15T10:29:51.687726Z"
    }
   },
   "outputs": [
    {
     "name": "stdout",
     "output_type": "stream",
     "text": [
      "Enter a site name: www.google.com\n",
      "b'<!doctype html><html itemscope=\"\" itemtype=\"http://schema.org/WebPage\" lang=\"en-IN\"><head><meta content=\"text/html; charset=UTF-8\" http-equiv=\"Content-Type\"><meta content=\"/images/branding/googleg/1x/googleg_standard_color_128dp.png\" itemprop=\"image\"><title>Google</title><script nonce=\"GDGHG1qhOgZQqPSYPIxc1Q==\">(function(){window.google={kEI:\\'KV20XMXDKc3grQGdjqcg\\',kEXPI:\\'0,201959,1151787,58,1957,2423,697,528,731,223,1575,30,1227,1895,77,507,350,173,462,32,161,87,1135466,1197919,115,329376,1294,12383,4855,32692,15247,867,6056,6107,5281,1100,3335,2,2,6801,364,3319,1263,4242,224,2209,269,5107,575,835,284,2,578,728,2431,59,2,2,2,1297,4323,3698,1270,773,2252,975,430,2487,850,1146,5,2,2,1968,2590,2,3599,669,1050,1808,1397,81,7,3,488,620,29,1395,978,2632,410,1742,1,3146,1288,2,4007,796,1220,38,920,270,483,120,1217,1336,25,1614,2736,292,1266,1503,2,215,1,415,2562,2,4,2,678,38,4302,354,125,2367,240,12,620,2228,655,21,108,210,254,2,433,93,783,415,145,722,523,781,150,216,1016,14,288,578,27,98,756,98,398,23,400,992,456,648,13,168,8,85,27,184,831,82,153,78,365,367,115,335,174,564,323,80,50,551,11,14,10,54,304,215,1087,287,11,479,61,76,898,9,25,282,24,38,161,55,423,305,89,188,192,67,90,384,154,145,92,1,231,165,11,17,373,420,16,63,116,26,63,99,24,159,68,57,39,139,187,488,3,499,516,151,401,71,25,288,261,70,210,890,546,156,5945391,2554,5997912,2799874,194,1382,549,333,444,1,2,80,1,900,577,11,308,1,8,1,2,2132,1,1,1,1,1,414,1,748,141,59,726,3,7,563,1,1735,1,48,37,15,32,4,1,3338765,18966500\\',authuser:0,kscs:\\'c9c918f0_KV20XMXDKc3grQGdjqcg\\',kGL:\\'IN\\'};google.sn=\\'webhp\\';google.kHL=\\'en-IN\\';})();(function(){google.lc=[];google.li=0;google.getEI=function(a){for(var b;a&&(!a.getAttribute||!(b=a.getAttribute(\"eid\")));)a=a.parentNode;return b||google.kEI};google.getLEI=function(a){for(var b=null;a&&(!a.getAttribute||!(b=a.getAttribute(\"leid\")));)a=a.parentNode;return b};google.https=function(){return\"https:\"==window.location.protocol};google.ml=function(){return null};google.time=function(){return(new Date).getTime()};google.log=function(a,b,e,c,g){if(a=google.logUrl(a,b,e,c,g)){b=new Image;var d=google.lc,f=google.li;d[f]=b;b.onerror=b.onload=b.onabort=function(){delete d[f]};google.vel&&google.vel.lu&&google.vel.lu(a);b.src=a;google.li=f+1}};google.logUrl=function(a,b,e,c,g){var d=\"\",f=google.ls||\"\";e||-1!=b.search(\"&ei=\")||(d=\"&ei=\"+google.getEI(c),-1==b.search(\"&lei=\")&&(c=google.getLEI(c))&&(d+=\"&lei=\"+c));c=\"\";!e&&google.cshid&&-1==b.search(\"&cshid=\")&&\"slh\"!=a&&(c=\"&cshid=\"+google.cshid);a=e||\"/\"+(g||\"gen_204\")+\"?atyp=i&ct=\"+a+\"&cad=\"+b+d+f+\"&zx=\"+google.time()+c;/^http:/i.test(a)&&google.https()&&(google.ml(Error(\"a\"),!1,{src:a,glmm:1}),a=\"\");return a};}).call(this);(function(){google.y={};google.x=function(a,b){if(a)var c=a.id;else{do c=Math.random();while(google.y[c])}google.y[c]=[a,b];return!1};google.lm=[];google.plm=function(a){google.lm.push.apply(google.lm,a)};google.lq=[];google.load=function(a,b,c){google.lq.push([[a],b,c])};google.loadAll=function(a,b){google.lq.push([a,b])};}).call(this);google.f={};var a=window.location,b=a.href.indexOf(\"#\");if(0<=b){var c=a.href.substring(b+1);/(^|&)q=/.test(c)&&-1==c.indexOf(\"#\")&&a.replace(\"/search?\"+c.replace(/(^|&)fp=[^&]*/g,\"\")+\"&cad=h\")};</script><style>#gb{font:13px/27px Arial,sans-serif;height:30px}#gbz,#gbg{position:absolute;white-space:nowrap;top:0;height:30px;z-index:1000}#gbz{left:0;padding-left:4px}#gbg{right:0;padding-right:5px}#gbs{background:transparent;position:absolute;top:-999px;visibility:hidden;z-index:998;right:0}.gbto #gbs{background:#fff}#gbx3,#gbx4{background-color:#2d2d2d;background-image:none;_background-image:none;background-position:0 -138px;background-repeat:repeat-x;border-bottom:1px solid #000;font-size:24px;height:29px;_height:30px;opacity:1;filter:alpha(opacity=100);position:absolute;top:0;width:100%;z-index:990}#gbx3{left:0}#gbx4{right:0}#gbb{position:relative}#gbbw{left:0;position:absolute;top:30px;width:100%}.gbtcb{position:absolute;visibility:hidden}#gbz .gbtcb{right:0}#gbg .gbtcb{left:0}.gbxx{display:none !important}.gbxo{opacity:0 !important;filter:alpha(opacity=0) !important}.gbm{position:absolute;z-index:999;top:-999px;visibility:hidden;text-align:left;border:1px solid #bebebe;background:#fff;-moz-box-shadow:-1px 1px 1px rgba(0,0,0,.2);-webkit-box-shadow:0 2px 4px rgba(0,0,0,.2);box-shadow:0 2px 4px rgba(0,0,0,.2)}.gbrtl .gbm{-moz-box-shadow:1px 1px 1px rgba(0,0,0,.2)}.gbto .gbm,.gbto #gbs{top:29px;visibility:visible}#gbz .gbm{left:0}#gbg .gbm{right:0}.gbxms{background-color:#ccc;display:block;position:absolute;z-index:1;top:-1px;left:-2px;right:-2px;bottom:-2px;opacity:.4;-moz-border-radius:3px;filter:progid:DXImageTransform.Microsoft.Blur(pixelradius=5);*opacity:1;*top:-2px;*left:-5px;*right:5px;*bottom:4px;-ms-filter:\"progid:DXImageTransform.Microsoft.Blur(pixelradius=5)\";opacity:1\\\\0/;top:-4px\\\\0/;left:-6px\\\\0/;right:5px\\\\0/;bottom:4px\\\\0/}.gbma{position:relative;top:-1px;border-style:solid dashed dashed;border-color:transparent;border-top-color:#c0c0c0;display:-moz-inline-box;display:inline-block;font-size:0;height:0;line-height:0;width:0;border-width:3px 3px 0;padding-top:1px;left:4px}#gbztms1,#gbi4m1,#gbi4s,#gbi4t{zoom:1}.gbtc,.gbmc,.gbmcc{display:block;list-style:none;margin:0;padding:0}.gbmc{background:#fff;padding:10px 0;position:relative;z-index:2;zoom:1}.gbt{position:relative;display:-moz-inline-box;display:inline-block;line-height:27px;padding:0;vertical-align:top}.gbt{*display:inline}.gbto{box-shadow:0 2px 4px rgba(0,0,0,.2);-moz-box-shadow:0 2px 4px rgba(0,0,0,.2);-webkit-box-shadow:0 2px 4px rgba(0,0,0,.2)}.gbzt,.gbgt{cursor:pointer;display:block;text-decoration:none !important}span#gbg6,span#gbg4{cursor:default}.gbts{border-left:1px solid transparent;border-right:1px solid transparent;display:block;*display:inline-block;padding:0 5px;position:relative;z-index:1000}.gbts{*display:inline}.gbzt .gbts{display:inline;zoom:1}.gbto .gbts{background:#fff;border-color:#bebebe;color:#36c;padding-bottom:1px;padding-top:2px}.gbz0l .gbts{color:#fff;font-weight:bold}.gbtsa{padding-right:9px}#gbz .gbzt,#gbz .gbgt,#gbg .gbgt{color:#ccc!important}.gbtb2{display:block;border-top:2px solid transparent}.gbto .gbzt .gbtb2,.gbto .gbgt .gbtb2{border-top-width:0}.gbtb .gbts{background:url(https://ssl.gstatic.com/gb/images/b_8d5afc09.png);_background:url(https://ssl.gstatic.com/gb/images/b8_3615d64d.png);background-position:-27px -22px;border:0;font-size:0;padding:29px 0 0;*padding:27px 0 0;width:1px}.gbzt:hover,.gbzt:focus,.gbgt-hvr,.gbgt:focus{background-color:#4c4c4c;background-image:none;_background-image:none;background-position:0 -102px;background-repeat:repeat-x;outline:none;text-decoration:none !important}.gbpdjs .gbto .gbm{min-width:99%}.gbz0l .gbtb2{border-top-color:#dd4b39!important}#gbi4s,#gbi4s1{font-weight:bold}#gbg6.gbgt-hvr,#gbg6.gbgt:focus{background-color:transparent;background-image:none}.gbg4a{font-size:0;line-height:0}.gbg4a .gbts{padding:27px 5px 0;*padding:25px 5px 0}.gbto .gbg4a .gbts{padding:29px 5px 1px;*padding:27px 5px 1px}#gbi4i,#gbi4id{left:5px;border:0;height:24px;position:absolute;top:1px;width:24px}.gbto #gbi4i,.gbto #gbi4id{top:3px}.gbi4p{display:block;width:24px}#gbi4id{background-position:-44px -101px}#gbmpid{background-position:0 0}#gbmpi,#gbmpid{border:none;display:inline-block;height:48px;width:48px}#gbmpiw{display:inline-block;line-height:9px;padding-left:20px;margin-top:10px;position:relative}#gbmpi,#gbmpid,#gbmpiw{*display:inline}#gbg5{font-size:0}#gbgs5{padding:5px !important}.gbto #gbgs5{padding:7px 5px 6px !important}#gbi5{background:url(https://ssl.gstatic.com/gb/images/b_8d5afc09.png);_background:url(https://ssl.gstatic.com/gb/images/b8_3615d64d.png);background-position:0 0;display:block;font-size:0;height:17px;width:16px}.gbto #gbi5{background-position:-6px -22px}.gbn .gbmt,.gbn .gbmt:visited,.gbnd .gbmt,.gbnd .gbmt:visited{color:#dd8e27 !important}.gbf .gbmt,.gbf .gbmt:visited{color:#900 !important}.gbmt,.gbml1,.gbmlb,.gbmt:visited,.gbml1:visited,.gbmlb:visited{color:#36c !important;text-decoration:none !important}.gbmt,.gbmt:visited{display:block}.gbml1,.gbmlb,.gbml1:visited,.gbmlb:visited{display:inline-block;margin:0 10px}.gbml1,.gbmlb,.gbml1:visited,.gbmlb:visited{*display:inline}.gbml1,.gbml1:visited{padding:0 10px}.gbml1-hvr,.gbml1:focus{outline:none;text-decoration:underline !important}#gbpm .gbml1{display:inline;margin:0;padding:0;white-space:nowrap}.gbmlb,.gbmlb:visited{line-height:27px}.gbmlb-hvr,.gbmlb:focus{outline:none;text-decoration:underline !important}.gbmlbw{color:#ccc;margin:0 10px}.gbmt{padding:0 20px}.gbmt:hover,.gbmt:focus{background:#eee;cursor:pointer;outline:0 solid black;text-decoration:none !important}.gbm0l,.gbm0l:visited{color:#000 !important;font-weight:bold}.gbmh{border-top:1px solid #bebebe;font-size:0;margin:10px 0}#gbd4 .gbmc{background:#f5f5f5;padding-top:0}#gbd4 .gbsbic::-webkit-scrollbar-track:vertical{background-color:#f5f5f5;margin-top:2px}#gbmpdv{background:#fff;border-bottom:1px solid #bebebe;-moz-box-shadow:0 2px 4px rgba(0,0,0,.12);-o-box-shadow:0 2px 4px rgba(0,0,0,.12);-webkit-box-shadow:0 2px 4px rgba(0,0,0,.12);box-shadow:0 2px 4px rgba(0,0,0,.12);position:relative;z-index:1}#gbd4 .gbmh{margin:0}.gbmtc{padding:0;margin:0;line-height:27px}.GBMCC:last-child:after,#GBMPAL:last-child:after{content:\\'\\\\0A\\\\0A\\';white-space:pre;position:absolute}#gbmps{*zoom:1}#gbd4 .gbpc,#gbmpas .gbmt{line-height:17px}#gbd4 .gbpgs .gbmtc{line-height:27px}#gbd4 .gbmtc{border-bottom:1px solid #bebebe}#gbd4 .gbpc{display:inline-block;margin:16px 0 10px;padding-right:50px;vertical-align:top}#gbd4 .gbpc{*display:inline}.gbpc .gbps,.gbpc .gbps2{display:block;margin:0 20px}#gbmplp.gbps{margin:0 10px}.gbpc .gbps{color:#000;font-weight:bold}.gbpc .gbpd{margin-bottom:5px}.gbpd .gbmt,.gbpd .gbps{color:#666 !important}.gbpd .gbmt{opacity:.4;filter:alpha(opacity=40)}.gbps2{color:#666;display:block}.gbp0{display:none}.gbp0 .gbps2{font-weight:bold}#gbd4 .gbmcc{margin-top:5px}.gbpmc{background:#fef9db}.gbpmc .gbpmtc{padding:10px 20px}#gbpm{border:0;*border-collapse:collapse;border-spacing:0;margin:0;white-space:normal}#gbpm .gbpmtc{border-top:none;color:#000 !important;font:11px Arial,sans-serif}#gbpms{*white-space:nowrap}.gbpms2{font-weight:bold;white-space:nowrap}#gbmpal{*border-collapse:collapse;border-spacing:0;border:0;margin:0;white-space:nowrap;width:100%}.gbmpala,.gbmpalb{font:13px Arial,sans-serif;line-height:27px;padding:10px 20px 0;white-space:nowrap}.gbmpala{padding-left:0;text-align:left}.gbmpalb{padding-right:0;text-align:right}#gbmpasb .gbps{color:#000}#gbmpal .gbqfbb{margin:0 20px}.gbp0 .gbps{*display:inline}a.gbiba{margin:8px 20px 10px}.gbmpiaw{display:inline-block;padding-right:10px;margin-bottom:6px;margin-top:10px}.gbxv{visibility:hidden}.gbmpiaa{display:block;margin-top:10px}.gbmpia{border:none;display:block;height:48px;width:48px}.gbmpnw{display:inline-block;height:auto;margin:10px 0;vertical-align:top}\\n.gbqfb,.gbqfba,.gbqfbb{-moz-border-radius:2px;-webkit-border-radius:2px;border-radius:2px;cursor:default !important;display:inline-block;font-weight:bold;height:29px;line-height:29px;min-width:54px;*min-width:70px;padding:0 8px;text-align:center;text-decoration:none !important;-moz-user-select:none;-webkit-user-select:none}.gbqfb:focus,.gbqfba:focus,.gbqfbb:focus{border:1px solid #4d90fe;-moz-box-shadow:inset 0 0 0 1px rgba(255, 255, 255, 0.5);-webkit-box-shadow:inset 0 0 0 1px rgba(255, 255, 255, 0.5);box-shadow:inset 0 0 0 1px rgba(255, 255, 255, 0.5);outline:none}.gbqfb-hvr:focus,.gbqfba-hvr:focus,.gbqfbb-hvr:focus{-webkit-box-shadow:inset 0 0 0 1px #fff,0 1px 1px rgba(0,0,0,.1);-moz-box-shadow:inset 0 0 0 1px #fff,0 1px 1px rgba(0,0,0,.1);box-shadow:inset 0 0 0 1px #fff,0 1px 1px rgba(0,0,0,.1)}.gbqfb-no-focus:focus{border:1px solid #3079ed;-moz-box-shadow:none;-webkit-box-shadow:none;box-shadow:none}.gbqfb-hvr,.gbqfba-hvr,.gbqfbb-hvr{-webkit-box-shadow:0 1px 1px rgba(0,0,0,.1);-moz-box-shadow:0 1px 1px rgba(0,0,0,.1);box-shadow:0 1px 1px rgba(0,0,0,.1)}.gbqfb::-moz-focus-inner,.gbqfba::-moz-focus-inner,.gbqfbb::-moz-focus-inner{border:0}.gbqfba,.gbqfbb{border:1px solid #dcdcdc;border-color:rgba(0,0,0,.1);color:#444 !important;font-size:11px}.gbqfb{background-color:#4d90fe;background-image:-webkit-gradient(linear,left top,left bottom,from(#4d90fe),to(#4787ed));background-image:-webkit-linear-gradient(top,#4d90fe,#4787ed);background-image:-moz-linear-gradient(top,#4d90fe,#4787ed);background-image:-ms-linear-gradient(top,#4d90fe,#4787ed);background-image:-o-linear-gradient(top,#4d90fe,#4787ed);background-image:linear-gradient(top,#4d90fe,#4787ed);filter:progid:DXImageTransform.Microsoft.gradient(startColorStr=\\'#4d90fe\\',EndColorStr=\\'#4787ed\\');border:1px solid #3079ed;color:#fff!important;margin:0 0}.gbqfb-hvr{border-color:#2f5bb7}.gbqfb-hvr:focus{border-color:#2f5bb7}.gbqfb-hvr,.gbqfb-hvr:focus{background-color:#357ae8;background-image:-webkit-gradient(linear,left top,left bottom,from(#4d90fe),to(#357ae8));background-image:-webkit-linear-gradient(top,#4d90fe,#357ae8);background-image:-moz-linear-gradient(top,#4d90fe,#357ae8);background-image:-ms-linear-gradient(top,#4d90fe,#357ae8);background-image:-o-linear-gradient(top,#4d90fe,#357ae8);background-image:linear-gradient(top,#4d90fe,#357ae8)}.gbqfb:active{background-color:inherit;-webkit-box-shadow:inset 0 1px 2px rgba(0, 0, 0, 0.3);-moz-box-shadow:inset 0 1px 2px rgba(0, 0, 0, 0.3);box-shadow:inset 0 1px 2px rgba(0, 0, 0, 0.3)}.gbqfba{background-color:#f5f5f5;background-image:-webkit-gradient(linear,left top,left bottom,from(#f5f5f5),to(#f1f1f1));background-image:-webkit-linear-gradient(top,#f5f5f5,#f1f1f1);background-image:-moz-linear-gradient(top,#f5f5f5,#f1f1f1);background-image:-ms-linear-gradient(top,#f5f5f5,#f1f1f1);background-image:-o-linear-gradient(top,#f5f5f5,#f1f1f1);background-image:linear-gradient(top,#f5f5f5,#f1f1f1);filter:progid:DXImageTransform.Microsoft.gradient(startColorStr=\\'#f5f5f5\\',EndColorStr=\\'#f1f1f1\\')}.gbqfba-hvr,.gbqfba-hvr:active{background-color:#f8f8f8;background-image:-webkit-gradient(linear,left top,left bottom,from(#f8f8f8),to(#f1f1f1));background-image:-webkit-linear-gradient(top,#f8f8f8,#f1f1f1);background-image:-moz-linear-gradient(top,#f8f8f8,#f1f1f1);background-image:-ms-linear-gradient(top,#f8f8f8,#f1f1f1);background-image:-o-linear-gradient(top,#f8f8f8,#f1f1f1);background-image:linear-gradient(top,#f8f8f8,#f1f1f1);filter:progid:DXImageTransform.Microsoft.gradient(startColorStr=\\'#f8f8f8\\',EndColorStr=\\'#f1f1f1\\')}.gbqfbb{background-color:#fff;background-image:-webkit-gradient(linear,left top,left bottom,from(#fff),to(#fbfbfb));background-image:-webkit-linear-gradient(top,#fff,#fbfbfb);background-image:-moz-linear-gradient(top,#fff,#fbfbfb);background-image:-ms-linear-gradient(top,#fff,#fbfbfb);background-image:-o-linear-gradient(top,#fff,#fbfbfb);background-image:linear-gradient(top,#fff,#fbfbfb);filter:progid:DXImageTransform.Microsoft.gradient(startColorStr=\\'#ffffff\\',EndColorStr=\\'#fbfbfb\\')}.gbqfbb-hvr,.gbqfbb-hvr:active{background-color:#fff;background-image:-webkit-gradient(linear,left top,left bottom,from(#fff),to(#f8f8f8));background-image:-webkit-linear-gradient(top,#fff,#f8f8f8);background-image:-moz-linear-gradient(top,#fff,#f8f8f8);background-image:-ms-linear-gradient(top,#fff,#f8f8f8);background-image:-o-linear-gradient(top,#fff,#f8f8f8);background-image:linear-gradient(top,#fff,#f8f8f8);filter:progid:DXImageTransform.Microsoft.gradient(startColorStr=\\'#ffffff\\',EndColorStr=\\'#f8f8f8\\')}.gbqfba-hvr,.gbqfba-hvr:active,.gbqfbb-hvr,.gbqfbb-hvr:active{border-color:#c6c6c6;-webkit-box-shadow:0 1px 1px rgba(0,0,0,.1);-moz-box-shadow:0 1px 1px rgba(0,0,0,.1);box-shadow:0 1px 1px rgba(0,0,0,.1);color:#222 !important}.gbqfba:active,.gbqfbb:active{-webkit-box-shadow:inset 0 1px 2px rgba(0,0,0,.1);-moz-box-shadow:inset 0 1px 2px rgba(0,0,0,.1);box-shadow:inset 0 1px 2px rgba(0,0,0,.1)}\\n#gbmpas{max-height:220px}#gbmm{max-height:530px}.gbsb{-webkit-box-sizing:border-box;display:block;position:relative;*zoom:1}.gbsbic{overflow:auto}.gbsbis .gbsbt,.gbsbis .gbsbb{-webkit-mask-box-image:-webkit-gradient(linear,left top,right top,color-stop(0,rgba(0,0,0,.1)),color-stop(.5,rgba(0,0,0,.8)),color-stop(1,rgba(0,0,0,.1)));left:0;margin-right:0;opacity:0;position:absolute;width:100%}.gbsb .gbsbt:after,.gbsb .gbsbb:after{content:\"\";display:block;height:0;left:0;position:absolute;width:100%}.gbsbis .gbsbt{background:-webkit-gradient(linear,left top,left bottom,from(rgba(0,0,0,.2)),to(rgba(0,0,0,0)));background-image:-webkit-linear-gradient(top,rgba(0,0,0,.2),rgba(0,0,0,0));background-image:-moz-linear-gradient(top,rgba(0,0,0,.2),rgba(0,0,0,0));background-image:-ms-linear-gradient(top,rgba(0,0,0,.2),rgba(0,0,0,0));background-image:-o-linear-gradient(top,rgba(0,0,0,.2),rgba(0,0,0,0));background-image:linear-gradient(top,rgba(0,0,0,.2),rgba(0,0,0,0));height:6px;top:0}.gbsb .gbsbt:after{border-top:1px solid #ebebeb;border-color:rgba(0,0,0,.3);top:0}.gbsb .gbsbb{-webkit-mask-box-image:-webkit-gradient(linear,left top,right top,color-stop(0,rgba(0,0,0,.1)),color-stop(.5,rgba(0,0,0,.8)),color-stop(1,rgba(0,0,0,.1)));background:-webkit-gradient(linear,left bottom,left top,from(rgba(0,0,0,.2)),to(rgba(0,0,0,0)));background-image:-webkit-linear-gradient(bottom,rgba(0,0,0,.2),rgba(0,0,0,0));background-image:-moz-linear-gradient(bottom,rgba(0,0,0,.2),rgba(0,0,0,0));background-image:-ms-linear-gradient(bottom,rgba(0,0,0,.2),rgba(0,0,0,0));background-image:-o-linear-gradient(bottom,rgba(0,0,0,.2),rgba(0,0,0,0));background-image:linear-gradient(bottom,rgba(0,0,0,.2),rgba(0,0,0,0));bottom:0;height:4px}.gbsb .gbsbb:after{border-bottom:1px solid #ebebeb;border-color:rgba(0,0,0,.3);bottom:0}\\n</style><style>body,td,a,p,.h{font-family:arial,sans-serif}body{margin:0;overflow-y:scroll}#gog{padding:3px 8px 0}td{line-height:.8em}.gac_m td{line-height:17px}form{margin-bottom:20px}.h{color:#36c}.q{color:#00c}.ts td{padding:0}.ts{border-collapse:collapse}em{font-weight:bold;font-style:normal}.lst{height:25px;width:496px}.gsfi,.lst{font:18px arial,sans-serif}.gsfs{font:17px arial,sans-serif}.ds{display:inline-box;display:inline-block;margin:3px 0 4px;margin-left:4px}input{font-family:inherit}a.gb1,a.gb2,a.gb3,a.gb4{color:#11c !important}body{background:#fff;color:black}a{color:#11c;text-decoration:none}a:hover,a:active{text-decoration:underline}.fl a{color:#36c}a:visited{color:#551a8b}a.gb1,a.gb4{text-decoration:underline}a.gb3:hover{text-decoration:none}#ghead a.gb2:hover{color:#fff !important}.sblc{padding-top:5px}.sblc a{display:block;margin:2px 0;margin-left:13px;font-size:11px}.lsbb{background:#eee;border:solid 1px;border-color:#ccc #999 #999 #ccc;height:30px}.lsbb{display:block}.ftl,#fll a{display:inline-block;margin:0 12px}.lsb{background:url(/images/nav_logo229.png) 0 -261px repeat-x;border:none;color:#000;cursor:pointer;height:30px;margin:0;outline:0;font:15px arial,sans-serif;vertical-align:top}.lsb:active{background:#ccc}.lst:focus{outline:none}</style><script nonce=\"GDGHG1qhOgZQqPSYPIxc1Q==\">(function(){try{var e=this;var aa=function(a,b,c,d){d=d||{};d._sn=[\"cfg\",b,c].join(\".\");window.gbar.logger.ml(a,d)};var g=window.gbar=window.gbar||{},h=window.gbar.i=window.gbar.i||{},ba;function _tvn(a,b){a=parseInt(a,10);return isNaN(a)?b:a}function _tvf(a,b){a=parseFloat(a);return isNaN(a)?b:a}function _tvv(a){return!!a}function p(a,b,c){(c||g)[a]=b}g.bv={n:_tvn(\"2\",0),r:\"\",f:\".66.41.\",e:\"1300102,3700324,3700439\",m:_tvn(\"1\",1)};\\nfunction ca(a,b,c){var d=\"on\"+b;if(a.addEventListener)a.addEventListener(b,c,!1);else if(a.attachEvent)a.attachEvent(d,c);else{var f=a[d];a[d]=function(){var k=f.apply(this,arguments),m=c.apply(this,arguments);return void 0==k?m:void 0==m?k:m&&k}}}var da=function(a){return function(){return g.bv.m==a}},ea=da(1),fa=da(2);p(\"sb\",ea);p(\"kn\",fa);h.a=_tvv;h.b=_tvf;h.c=_tvn;h.i=aa;var r=window.gbar.i.i;var t=function(){},ha=function(){},ka=function(a){var b=new Image,c=ia;b.onerror=b.onload=b.onabort=function(){try{delete ja[c]}catch(d){}};ja[c]=b;b.src=a;ia=c+1},ja=[],ia=0;p(\"logger\",{il:ha,ml:t,log:ka});var u=window.gbar.logger;var v={},la={},w=[],ma=h.b(\"0.1\",.1),na=h.a(\"1\",!0),oa=function(a,b){w.push([a,b])},pa=function(a,b){v[a]=b},qa=function(a){return a in v},x={},A=function(a,b){x[a]||(x[a]=[]);x[a].push(b)},B=function(a){A(\"m\",a)},ra=function(a,b){var c=document.createElement(\"script\");c.src=a;c.async=na;Math.random()<ma&&(c.onerror=function(){c.onerror=null;t(Error(\"Bundle load failed: name=\"+(b||\"UNK\")+\" url=\"+a))});(document.getElementById(\"xjsc\")||document.getElementsByTagName(\"body\")[0]||\\ndocument.getElementsByTagName(\"head\")[0]).appendChild(c)},D=function(a){for(var b=0,c;(c=w[b])&&c[0]!=a;++b);!c||c[1].l||c[1].s||(c[1].s=!0,sa(2,a),c[1].url&&ra(c[1].url,a),c[1].libs&&C&&C(c[1].libs))},ta=function(a){A(\"gc\",a)},ua=null,va=function(a){ua=a},sa=function(a,b,c){if(ua){a={t:a,b:b};if(c)for(var d in c)a[d]=c[d];try{ua(a)}catch(f){}}};p(\"mdc\",v);p(\"mdi\",la);p(\"bnc\",w);p(\"qGC\",ta);p(\"qm\",B);p(\"qd\",x);p(\"lb\",D);p(\"mcf\",pa);p(\"bcf\",oa);p(\"aq\",A);p(\"mdd\",\"\");\\np(\"has\",qa);p(\"trh\",va);p(\"tev\",sa);if(h.a(\"m;/_/scs/abc-static/_/js/k=gapi.gapi.en.NqPOw1G8B3I.O/rt=j/d=1/rs=AHpOoo9Un2bnlKyVHr37bEqQCNKVG9ZmzA/m=__features__\")){var F=function(a,b){return wa?a||b:b},xa=h.a(\"1\"),ya=h.a(\"\"),za=h.a(\"\"),wa=h.a(\"\"),Aa=window.gapi=F(window.gapi,{}),Ba=function(a,b){var c=function(){g.dgl(a,b)};xa?B(c):(A(\"gl\",c),D(\"gl\"))},Ca={},Da=function(a){a=a.split(\":\");for(var b;(b=a.pop())&&Ca[b];);return!b},C=function(a){function b(){for(var c=a.split(\":\"),d=0,f;f=c[d];++d)Ca[f]=1;for(c=0;d=w[c];++c)d=d[1],(f=d.libs)&&!d.l&&d.i&&\\nDa(f)&&d.i()}g.dgl(a,b)},G=window.___jsl=F(window.___jsl,{});G.h=F(G.h,\"m;/_/scs/abc-static/_/js/k=gapi.gapi.en.NqPOw1G8B3I.O/rt=j/d=1/rs=AHpOoo9Un2bnlKyVHr37bEqQCNKVG9ZmzA/m=__features__\");G.ms=F(G.ms,\"https://apis.google.com\");G.m=F(G.m,\"\");G.l=F(G.l,[]);G.dpo=F(G.dpo,\"\");xa||w.push([\"gl\",{url:\"//ssl.gstatic.com/gb/js/abc/glm_e7bb39a7e1a24581ff4f8d199678b1b9.js\"}]);var Ea={pu:ya,sh:\"\",si:za,hl:\"en\"};v.gl=Ea;wa?Aa.load||p(\"load\",Ba,Aa):p(\"load\",Ba,Aa);p(\"dgl\",Ba);p(\"agl\",Da);h.o=xa};var Fa=h.b(\"0.1\",.001),Ga=0;\\nfunction _mlToken(a,b){try{if(1>Ga){Ga++;var c=a;b=b||{};var d=encodeURIComponent,f=[\"//www.google.com/gen_204?atyp=i&zx=\",(new Date).getTime(),\"&jexpid=\",d(\"28834\"),\"&srcpg=\",d(\"prop=1\"),\"&jsr=\",Math.round(1/Fa),\"&ogev=\",d(\"KV20XPW2Kpa7rQGCyreQDw\"),\"&ogf=\",g.bv.f,\"&ogrp=\",d(\"\"),\"&ogv=\",d(\"243042219.0\"),\"&oggv=\"+d(\"es_plusone_gc_20190408.0_p0\"),\"&ogd=\",d(\"com\"),\"&ogc=\",d(\"IND\"),\"&ogl=\",d(\"en\")];b._sn&&(b._sn=\\n\"og.\"+b._sn);for(var k in b)f.push(\"&\"),f.push(d(k)),f.push(\"=\"),f.push(d(b[k]));f.push(\"&emsg=\");f.push(d(c.name+\":\"+c.message));var m=f.join(\"\");Ha(m)&&(m=m.substr(0,2E3));var n=m;var l=window.gbar.logger._aem(a,n);ka(l)}}catch(q){}}var Ha=function(a){return 2E3<=a.length},Ia=function(a,b){return b};function Ja(a){t=a;p(\"_itl\",Ha,u);p(\"_aem\",Ia,u);p(\"ml\",t,u);a={};v.er=a}h.a(\"\")?Ja(function(a){throw a;}):h.a(\"1\")&&Math.random()<Fa&&Ja(_mlToken);var _E=\"left\",Ka=h.a(\"\"),J=function(a,b){var c=a.className;H(a,b)||(a.className+=(\"\"!=c?\" \":\"\")+b)},K=function(a,b){var c=a.className;b=new RegExp(\"\\\\\\\\s?\\\\\\\\b\"+b+\"\\\\\\\\b\");c&&c.match(b)&&(a.className=c.replace(b,\"\"))},H=function(a,b){b=new RegExp(\"\\\\\\\\b\"+b+\"\\\\\\\\b\");a=a.className;return!(!a||!a.match(b))},La=function(a,b){H(a,b)?K(a,b):J(a,b)},Ma=function(a,b){a[b]=function(c){var d=arguments;g.qm(function(){a[b].apply(this,d)})}},Na=function(){return\"1\"},\\nOa=function(a){a=[\"//www.gstatic.com\",\"/og/_/js/d=1/k=\",\"og.og2.en_US.nPjvEaU0Ols.O\",\"/rt=j/m=\",a,\"/rs=\",\"AA2YrTtnrdQDk7IlEpvNh-PMsZiXvDTfAQ\"];Ka&&a.push(\"?host=www.gstatic.com&bust=og.og2.en_US.xZ4zHpBr7H0.DU\");a=a.join(\"\");ra(a)};p(\"ca\",J);p(\"cr\",K);p(\"cc\",H);h.k=J;h.l=K;h.m=H;h.n=La;h.p=Oa;h.q=Ma;h.r=Na;var Pa=[\"gb_71\",\"gb_155\"],Qa;function Ra(a){Qa=a}function Sa(a){var b=Qa&&!a.href.match(/.*\\\\/accounts\\\\/ClearSID[?]/)&&encodeURIComponent(Qa());b&&(a.href=a.href.replace(/([?&]continue=)[^&]*/,\"$1\"+b))}function Ta(a){window.gApplication&&(a.href=window.gApplication.getTabUrl(a.href))}function Ua(a){try{var b=(document.forms[0].q||\"\").value;b&&(a.href=a.href.replace(/([?&])q=[^&]*|$/,function(c,d){return(d||\"&\")+\"q=\"+encodeURIComponent(b)}))}catch(c){r(c,\"sb\",\"pq\")}}\\nvar Va=function(){for(var a=[],b=0,c;c=Pa[b];++b)(c=document.getElementById(c))&&a.push(c);return a},Wa=function(){var a=Va();return 0<a.length?a[0]:null},Xa=function(){return document.getElementById(\"gb_70\")},L={},M={},Ya={},N={},O=void 0,cb=function(a,b){try{var c=document.getElementById(\"gb\");J(c,\"gbpdjs\");P();Za(document.getElementById(\"gb\"))&&J(c,\"gbrtl\");if(b&&b.getAttribute){var d=b.getAttribute(\"aria-owns\");if(d.length){var f=document.getElementById(d);if(f){var k=b.parentNode;if(O==d)O=void 0,\\nK(k,\"gbto\");else{if(O){var m=document.getElementById(O);if(m&&m.getAttribute){var n=m.getAttribute(\"aria-owner\");if(n.length){var l=document.getElementById(n);l&&l.parentNode&&K(l.parentNode,\"gbto\")}}}$a(f)&&ab(f);O=d;J(k,\"gbto\")}}}}B(function(){g.tg(a,b,!0)});bb(a)}catch(q){r(q,\"sb\",\"tg\")}},db=function(a){B(function(){g.close(a)})},eb=function(a){B(function(){g.rdd(a)})},Za=function(a){var b,c=document.defaultView;c&&c.getComputedStyle?(a=c.getComputedStyle(a,\"\"))&&(b=a.direction):b=a.currentStyle?\\na.currentStyle.direction:a.style.direction;return\"rtl\"==b},gb=function(a,b,c){if(a)try{var d=document.getElementById(\"gbd5\");if(d){var f=d.firstChild,k=f.firstChild,m=document.createElement(\"li\");m.className=b+\" gbmtc\";m.id=c;a.className=\"gbmt\";m.appendChild(a);if(k.hasChildNodes()){c=[[\"gbkc\"],[\"gbf\",\"gbe\",\"gbn\"],[\"gbkp\"],[\"gbnd\"]];d=0;var n=k.childNodes.length;f=!1;for(var l=-1,q=0,E;E=c[q];q++){for(var U=0,I;I=E[U];U++){for(;d<n&&H(k.childNodes[d],I);)d++;if(I==b){k.insertBefore(m,k.childNodes[d]||\\nnull);f=!0;break}}if(f){if(d+1<k.childNodes.length){var V=k.childNodes[d+1];H(V.firstChild,\"gbmh\")||fb(V,E)||(l=d+1)}else if(0<=d-1){var W=k.childNodes[d-1];H(W.firstChild,\"gbmh\")||fb(W,E)||(l=d)}break}0<d&&d+1<n&&d++}if(0<=l){var y=document.createElement(\"li\"),z=document.createElement(\"div\");y.className=\"gbmtc\";z.className=\"gbmt gbmh\";y.appendChild(z);k.insertBefore(y,k.childNodes[l])}g.addHover&&g.addHover(a)}else k.appendChild(m)}}catch(Eb){r(Eb,\"sb\",\"al\")}},fb=function(a,b){for(var c=b.length,\\nd=0;d<c;d++)if(H(a,b[d]))return!0;return!1},hb=function(a,b,c){gb(a,b,c)},ib=function(a,b){gb(a,\"gbe\",b)},jb=function(){B(function(){g.pcm&&g.pcm()})},kb=function(){B(function(){g.pca&&g.pca()})},lb=function(a,b,c,d,f,k,m,n,l,q){B(function(){g.paa&&g.paa(a,b,c,d,f,k,m,n,l,q)})},mb=function(a,b){L[a]||(L[a]=[]);L[a].push(b)},nb=function(a,b){M[a]||(M[a]=[]);M[a].push(b)},ob=function(a,b){Ya[a]=b},pb=function(a,b){N[a]||(N[a]=[]);N[a].push(b)},bb=function(a){a.preventDefault&&a.preventDefault();a.returnValue=\\n!1;a.cancelBubble=!0},qb=null,ab=function(a,b){P();if(a){rb(a,\"Opening&hellip;\");Q(a,!0);b=\"undefined\"!=typeof b?b:1E4;var c=function(){sb(a)};qb=window.setTimeout(c,b)}},tb=function(a){P();a&&(Q(a,!1),rb(a,\"\"))},sb=function(a){try{P();var b=a||document.getElementById(O);b&&(rb(b,\"This service is currently unavailable.%1$sPlease try again later.\",\"%1$s\"),Q(b,!0))}catch(c){r(c,\"sb\",\"sdhe\")}},rb=function(a,b,c){if(a&&b){var d=$a(a);if(d){if(c){d.innerHTML=\"\";b=b.split(c);c=0;for(var f;f=b[c];c++){var k=document.createElement(\"div\");\\nk.innerHTML=f;d.appendChild(k)}}else d.innerHTML=b;Q(a,!0)}}},Q=function(a,b){(b=void 0!==b?b:!0)?J(a,\"gbmsgo\"):K(a,\"gbmsgo\")},$a=function(a){for(var b=0,c;c=a.childNodes[b];b++)if(H(c,\"gbmsg\"))return c},P=function(){qb&&window.clearTimeout(qb)},ub=function(a){var b=\"inner\"+a;a=\"offset\"+a;return window[b]?window[b]:document.documentElement&&document.documentElement[a]?document.documentElement[a]:0},vb=function(){return!1},wb=function(){return!!O};p(\"so\",Wa);p(\"sos\",Va);p(\"si\",Xa);p(\"tg\",cb);\\np(\"close\",db);p(\"rdd\",eb);p(\"addLink\",hb);p(\"addExtraLink\",ib);p(\"pcm\",jb);p(\"pca\",kb);p(\"paa\",lb);p(\"ddld\",ab);p(\"ddrd\",tb);p(\"dderr\",sb);p(\"rtl\",Za);p(\"op\",wb);p(\"bh\",L);p(\"abh\",mb);p(\"dh\",M);p(\"adh\",nb);p(\"ch\",N);p(\"ach\",pb);p(\"eh\",Ya);p(\"aeh\",ob);ba=h.a(\"\")?Ta:Ua;p(\"qs\",ba);p(\"setContinueCb\",Ra);p(\"pc\",Sa);p(\"bsy\",vb);h.d=bb;h.j=ub;var xb={};v.base=xb;w.push([\"m\",{url:\"//ssl.gstatic.com/gb/js/sem_5d0e9a88d640580d12b41844f0901e23.js\"}]);g.sg={c:\"1\"};p(\"wg\",{rg:{}});var yb={tiw:h.c(\"15000\",0),tie:h.c(\"30000\",0)};v.wg=yb;var zb={thi:h.c(\"10000\",0),thp:h.c(\"180000\",0),tho:h.c(\"5000\",0),tet:h.b(\"0.5\",0)};v.wm=zb;if(h.a(\"1\")){var Ab=h.a(\"\");w.push([\"gc\",{auto:Ab,url:\"//ssl.gstatic.com/gb/js/abc/gci_91f30755d6a6b787dcc2a4062e6e9824.js\",libs:\"googleapis.client:plusone:gapi.iframes\"}]);var Bb={version:\"gci_91f30755d6a6b787dcc2a4062e6e9824.js\",index:\"\",lang:\"en\"};v.gc=Bb;var Cb=function(a){window.googleapis&&window.iframes?a&&a():(a&&ta(a),D(\"gc\"))};p(\"lGC\",Cb);h.a(\"1\")&&p(\"lPWF\",Cb)};window.__PVT=\"\";if(h.a(\"1\")&&h.a(\"1\")){var Db=function(a){Cb(function(){A(\"pw\",a);D(\"pw\")})};p(\"lPW\",Db);w.push([\"pw\",{url:\"//ssl.gstatic.com/gb/js/abc/pwm_45f73e4df07a0e388b0fa1f3d30e7280.js\"}]);var Fb=[],Gb=function(a){Fb[0]=a},Hb=function(a,b){b=b||{};b._sn=\"pw\";t(a,b)},Ib={signed:Fb,elog:Hb,base:\"https://plusone.google.com/u/0\",loadTime:(new Date).getTime()};v.pw=Ib;var Jb=function(a,b){var c=b.split(\".\");b=function(){var m=arguments;a(function(){for(var n=g,l=0,q=c.length-1;l<q;++l)n=n[c[l]];n[c[l]].apply(n,m)})};for(var d=g,f=0,k=c.length-1;f<\\nk;++f)d=d[c[f]]=d[c[f]]||{};return d[c[f]]=b};Jb(Db,\"pw.clk\");Jb(Db,\"pw.hvr\");p(\"su\",Gb,g.pw)};var Kb=[1,2,3,4,5,6,9,10,11,13,14,28,29,30,34,35,37,38,39,40,41,42,43,48,49,500];var Lb=h.b(\"0.001\",1E-4),Mb=h.b(\"1\",1),Nb=!1,Ob=!1;if(h.a(\"1\")){var Pb=Math.random();Pb<Lb&&(Nb=!0);Pb<Mb&&(Ob=!0)}var R=null;\\nfunction Qb(a,b){var c=Lb,d=Nb;var f=a;if(!R){R={};for(var k=0;k<Kb.length;k++){var m=Kb[k];R[m]=!0}}if(f=!!R[f])c=Mb,d=Ob;if(d){d=encodeURIComponent;if(g.rp){var n=g.rp();n=\"-1\"!=n?n:\"\"}else n=\"\";f=(new Date).getTime();k=d(\"28834\");m=d(\"KV20XPW2Kpa7rQGCyreQDw\");var l=g.bv.f,q=d(\"1\");n=d(n);c=Math.round(1/c);var E=d(\"243042219.0\"),U=\"&oggv=\"+d(\"es_plusone_gc_20190408.0_p0\"),I=d(\"com\"),V=d(\"en\"),W=\\nd(\"IND\");var y=0;h.a(\"\")&&(y|=1);h.a(\"\")&&(y|=2);h.a(\"\")&&(y|=4);a=[\"//www.google.com/gen_204?atyp=i&zx=\",f,\"&oge=\",a,\"&ogex=\",k,\"&ogev=\",m,\"&ogf=\",l,\"&ogp=\",q,\"&ogrp=\",n,\"&ogsr=\",c,\"&ogv=\",E,U,\"&ogd=\",I,\"&ogl=\",V,\"&ogc=\",W,\"&ogus=\",y];if(b){\"ogw\"in b&&(a.push(\"&ogw=\"+b.ogw),delete b.ogw);f=[];for(z in b)0!=f.length&&f.push(\",\"),f.push(Rb(z)),f.push(\".\"),f.push(Rb(b[z]));var z=f.join(\"\");\"\"!=z&&(a.push(\"&ogad=\"),a.push(d(z)))}ka(a.join(\"\"))}}\\nfunction Rb(a){\"number\"==typeof a&&(a+=\"\");return\"string\"==typeof a?a.replace(\".\",\"%2E\").replace(\",\",\"%2C\"):a}ha=Qb;p(\"il\",ha,u);var Sb={};v.il=Sb;var Tb=function(a,b,c,d,f,k,m,n,l,q){B(function(){g.paa(a,b,c,d,f,k,m,n,l,q)})},Ub=function(){B(function(){g.prm()})},Vb=function(a){B(function(){g.spn(a)})},Wb=function(a){B(function(){g.sps(a)})},Xb=function(a){B(function(){g.spp(a)})},Yb={\"27\":\"https://ssl.gstatic.com/gb/images/silhouette_24.png\",\"27\":\"https://ssl.gstatic.com/gb/images/silhouette_24.png\",\"27\":\"https://ssl.gstatic.com/gb/images/silhouette_24.png\"},Zb=function(a){return(a=Yb[a])||\"https://ssl.gstatic.com/gb/images/silhouette_24.png\"},\\n$b=function(){B(function(){g.spd()})};p(\"spn\",Vb);p(\"spp\",Xb);p(\"sps\",Wb);p(\"spd\",$b);p(\"paa\",Tb);p(\"prm\",Ub);mb(\"gbd4\",Ub);\\nif(h.a(\"\")){var ac={d:h.a(\"\"),e:\"\",sanw:h.a(\"\"),p:\"https://ssl.gstatic.com/gb/images/silhouette_96.png\",cp:\"1\",xp:h.a(\"1\"),mg:\"%1$s (delegated)\",md:\"%1$s (default)\",mh:\"220\",s:\"1\",pp:Zb,ppl:h.a(\"\"),ppa:h.a(\"\"),\\nppm:\"Google+ page\"};v.prf=ac};var S,bc,T,cc,X=0,dc=function(a,b,c){if(a.indexOf)return a.indexOf(b,c);if(Array.indexOf)return Array.indexOf(a,b,c);for(c=null==c?0:0>c?Math.max(0,a.length+c):c;c<a.length;c++)if(c in a&&a[c]===b)return c;return-1},Y=function(a,b){return-1==dc(a,X)?(r(Error(X+\"_\"+b),\"up\",\"caa\"),!1):!0},fc=function(a,b){Y([1,2],\"r\")&&(S[a]=S[a]||[],S[a].push(b),2==X&&window.setTimeout(function(){b(ec(a))},0))},gc=function(a,b,c){if(Y([1],\"nap\")&&c){for(var d=0;d<c.length;d++)bc[c[d]]=!0;g.up.spl(a,b,\"nap\",c)}},hc=\\nfunction(a,b,c){if(Y([1],\"aop\")&&c){if(T)for(var d in T)T[d]=T[d]&&-1!=dc(c,d);else for(T={},d=0;d<c.length;d++)T[c[d]]=!0;g.up.spl(a,b,\"aop\",c)}},ic=function(){try{if(X=2,!cc){cc=!0;for(var a in S)for(var b=S[a],c=0;c<b.length;c++)try{b[c](ec(a))}catch(d){r(d,\"up\",\"tp\")}}}catch(d){r(d,\"up\",\"mtp\")}},ec=function(a){if(Y([2],\"ssp\")){var b=!bc[a];T&&(b=b&&!!T[a]);return b}};cc=!1;S={};bc={};T=null;X=1;\\nvar jc=function(a){var b=!1;try{b=a.cookie&&a.cookie.match(\"PREF\")}catch(c){}return!b},kc=function(){try{return!!e.localStorage&&\"object\"==typeof e.localStorage}catch(a){return!1}},lc=function(a){return a&&a.style&&a.style.behavior&&\"undefined\"!=typeof a.load},mc=function(a,b,c,d){try{jc(document)||(d||(b=\"og-up-\"+b),kc()?e.localStorage.setItem(b,c):lc(a)&&(a.setAttribute(b,c),a.save(a.id)))}catch(f){f.code!=DOMException.QUOTA_EXCEEDED_ERR&&r(f,\"up\",\"spd\")}},nc=function(a,b,c){try{if(jc(document))return\"\";\\nc||(b=\"og-up-\"+b);if(kc())return e.localStorage.getItem(b);if(lc(a))return a.load(a.id),a.getAttribute(b)}catch(d){d.code!=DOMException.QUOTA_EXCEEDED_ERR&&r(d,\"up\",\"gpd\")}return\"\"},oc=function(a,b,c){a.addEventListener?a.addEventListener(b,c,!1):a.attachEvent&&a.attachEvent(\"on\"+b,c)},pc=function(a){for(var b=0,c;c=a[b];b++){var d=g.up;c=c in d&&d[c];if(!c)return!1}return!0},qc=function(a,b){try{if(jc(a))return-1;var c=a.cookie.match(/OGPC=([^;]*)/);if(c&&c[1]){var d=c[1].match(new RegExp(\"\\\\\\\\b\"+\\nb+\"-([0-9]+):\"));if(d&&d[1])return parseInt(d[1],10)}}catch(f){f.code!=DOMException.QUOTA_EXCEEDED_ERR&&r(f,\"up\",\"gcc\")}return-1};p(\"up\",{r:fc,nap:gc,aop:hc,tp:ic,ssp:ec,spd:mc,gpd:nc,aeh:oc,aal:pc,gcc:qc});var Z=function(a,b){a[b]=function(c){var d=arguments;g.qm(function(){a[b].apply(this,d)})}};Z(g.up,\"sl\");Z(g.up,\"si\");Z(g.up,\"spl\");Z(g.up,\"dpc\");Z(g.up,\"iic\");g.mcf(\"up\",{sp:h.b(\"0.01\",1),tld:\"co.in\",prid:\"1\"});function rc(){function a(){for(var l;(l=k[m++])&&\"m\"!=l[0]&&!l[1].auto;);l&&(sa(2,l[0]),l[1].url&&ra(l[1].url,l[0]),l[1].libs&&C&&C(l[1].libs));m<k.length&&setTimeout(a,0)}function b(){0<f--?setTimeout(b,0):a()}var c=h.a(\"1\"),d=h.a(\"\"),f=3,k=w,m=0,n=window.gbarOnReady;if(n)try{n()}catch(l){r(l,\"ml\",\"or\")}d?p(\"ldb\",a):c?ca(window,\"load\",b):b()}p(\"rdl\",rc);}catch(e){window.gbar&&gbar.logger&&gbar.logger.ml(e,{\"_sn\":\"cfg.init\"});}})();\\n(function(){try{var a=window.gbar;a.mcf(\"pm\",{p:\"\"});}catch(e){window.gbar&&gbar.logger&&gbar.logger.ml(e,{\"_sn\":\"cfg.init\"});}})();\\n(function(){try{var a=window.gbar;a.mcf(\"mm\",{s:\"1\"});}catch(e){window.gbar&&gbar.logger&&gbar.logger.ml(e,{\"_sn\":\"cfg.init\"});}})();\\n(function(){try{var d=window.gbar.i.i;var e=window.gbar;var f=e.i;var g=f.c(\"1\",0),h=/\\\\bgbmt\\\\b/,k=function(a){try{var b=document.getElementById(\"gb_\"+g),c=document.getElementById(\"gb_\"+a);b&&f.l(b,h.test(b.className)?\"gbm0l\":\"gbz0l\");c&&f.k(c,h.test(c.className)?\"gbm0l\":\"gbz0l\")}catch(l){d(l,\"sj\",\"ssp\")}g=a},m=e.qs,n=function(a){var b=a.href;var c=window.location.href.match(/.*?:\\\\/\\\\/[^\\\\/]*/)[0];c=new RegExp(\"^\"+c+\"/search\\\\\\\\?\");(b=c.test(b))&&!/(^|\\\\\\\\?|&)ei=/.test(a.href)&&(b=window.google)&&b.kEXPI&&(a.href+=\"&ei=\"+b.kEI)},p=function(a){m(a);\\nn(a)},q=function(){if(window.google&&window.google.sn){var a=/.*hp$/;return a.test(window.google.sn)?\"\":\"1\"}return\"-1\"};e.rp=q;e.slp=k;e.qs=p;e.qsi=n;}catch(e){window.gbar&&gbar.logger&&gbar.logger.ml(e,{\"_sn\":\"cfg.init\"});}})();\\n(function(){try{var a=this;var b=window.gbar;var c=b.i;var d=c.a,e=c.c,f={cty:\"IND\",cv:\"243042219\",dbg:d(\"\"),ecv:\"0\",ei:e(\"KV20XPW2Kpa7rQGCyreQDw\"),ele:d(\"1\"),esr:e(\"0.1\"),evts:[\"mousedown\",\"touchstart\",\"touchmove\",\"wheel\",\"keydown\"],gbl:\"es_plusone_gc_20190408.0_p0\",hd:\"com\",hl:\"en\",irp:d(\"\"),pid:e(\"1\"),\\nsnid:e(\"28834\"),to:e(\"300000\"),u:e(\"\"),vf:\".66.41.\"},g=f,h=[\"bndcfg\"],k=a;h[0]in k||\"undefined\"==typeof k.execScript||k.execScript(\"var \"+h[0]);for(var l;h.length&&(l=h.shift());)h.length||void 0===g?k=k[l]&&k[l]!==Object.prototype[l]?k[l]:k[l]={}:k[l]=g;}catch(e){window.gbar&&gbar.logger&&gbar.logger.ml(e,{\"_sn\":\"cfg.init\"});}})();\\n(function(){try{window.gbar.rdl();}catch(e){window.gbar&&gbar.logger&&gbar.logger.ml(e,{\"_sn\":\"cfg.init\"});}})();\\n</script></head><body bgcolor=\"#fff\"><script nonce=\"GDGHG1qhOgZQqPSYPIxc1Q==\">(function(){var src=\\'/images/nav_logo229.png\\';var iesg=false;document.body.onload = function(){window.n && window.n();if (document.images){new Image().src=src;}\\nif (!iesg){document.f&&document.f.q.focus();document.gbqf&&document.gbqf.q.focus();}\\n}\\n})();</script><div id=\"mngb\"> <div id=gb><script>window.gbar&&gbar.eli&&gbar.eli()</script><div id=gbw><div id=gbz><span class=gbtcb></span><ol id=gbzc class=gbtc><li class=gbt><a onclick=gbar.logger.il(1,{t:1}); class=\"gbzt gbz0l gbp1\" id=gb_1 href=\"https://www.google.co.in/webhp?tab=ww\"><span class=gbtb2></span><span class=gbts>Search</span></a></li><li class=gbt><a onclick=gbar.logger.il(1,{t:2}); class=gbzt id=gb_2 href=\"http://www.google.co.in/imghp?hl=en&tab=wi\"><span class=gbtb2></span><span class=gbts>Images</span></a></li><li class=gbt><a onclick=gbar.logger.il(1,{t:8}); class=gbzt id=gb_8 href=\"http://maps.google.co.in/maps?hl=en&tab=wl\"><span class=gbtb2></span><span class=gbts>Maps</span></a></li><li class=gbt><a onclick=gbar.logger.il(1,{t:78}); class=gbzt id=gb_78 href=\"https://play.google.com/?hl=en&tab=w8\"><span class=gbtb2></span><span class=gbts>Play</span></a></li><li class=gbt><a onclick=gbar.logger.il(1,{t:36}); class=gbzt id=gb_36 href=\"http://www.youtube.com/?gl=IN&tab=w1\"><span class=gbtb2></span><span class=gbts>YouTube</span></a></li><li class=gbt><a onclick=gbar.logger.il(1,{t:5}); class=gbzt id=gb_5 href=\"http://news.google.co.in/nwshp?hl=en&tab=wn\"><span class=gbtb2></span><span class=gbts>News</span></a></li><li class=gbt><a onclick=gbar.logger.il(1,{t:23}); class=gbzt id=gb_23 href=\"https://mail.google.com/mail/?tab=wm\"><span class=gbtb2></span><span class=gbts>Gmail</span></a></li><li class=gbt><a onclick=gbar.logger.il(1,{t:49}); class=gbzt id=gb_49 href=\"https://drive.google.com/?tab=wo\"><span class=gbtb2></span><span class=gbts>Drive</span></a></li><li class=gbt><a class=gbgt id=gbztm href=\"https://www.google.co.in/intl/en/about/products?tab=wh\" onclick=\"gbar.tg(event,this)\" aria-haspopup=true aria-owns=gbd><span class=gbtb2></span><span id=gbztms class=\"gbts gbtsa\"><span id=gbztms1>More</span><span class=gbma></span></span></a><div class=gbm id=gbd aria-owner=gbztm><div id=gbmmb class=\"gbmc gbsb gbsbis\"><ol id=gbmm class=\"gbmcc gbsbic\"><li class=gbmtc><a onclick=gbar.logger.il(1,{t:24}); class=gbmt id=gb_24 href=\"https://www.google.com/calendar?tab=wc\">Calendar</a></li><li class=gbmtc><a onclick=gbar.logger.il(1,{t:51}); class=gbmt id=gb_51 href=\"http://translate.google.co.in/?hl=en&tab=wT\">Translate</a></li><li class=gbmtc><a onclick=gbar.logger.il(1,{t:10}); class=gbmt id=gb_10 href=\"https://books.google.co.in/bkshp?hl=en&tab=wp\">Books</a></li><li class=gbmtc><a onclick=gbar.logger.il(1,{t:6}); class=gbmt id=gb_6 href=\"https://www.google.co.in/shopping?hl=en&source=og&tab=wf\">Shopping</a></li><li class=gbmtc><a onclick=gbar.logger.il(1,{t:30}); class=gbmt id=gb_30 href=\"http://www.blogger.com/?tab=wj\">Blogger</a></li><li class=gbmtc><a onclick=gbar.logger.il(1,{t:31}); class=gbmt id=gb_31 href=\"https://photos.google.com/?tab=wq&pageId=none\">Photos</a></li><li class=gbmtc><a onclick=gbar.logger.il(1,{t:25}); class=gbmt id=gb_25 href=\"https://docs.google.com/document/?usp=docs_alc\">Docs</a></li><li class=gbmtc><div class=\"gbmt gbmh\"></div></li><li class=gbmtc><a onclick=gbar.logger.il(1,{t:66}); href=\"https://www.google.co.in/intl/en/about/products?tab=wh\" class=gbmt>Even more &raquo;</a></li></ol><div class=gbsbt></div><div class=gbsbb></div></div></div></li></ol></div><div id=gbg><h2 class=gbxx>Account Options</h2><span class=gbtcb></span><ol class=gbtc><li class=gbt><a target=_top href=\"https://accounts.google.com/ServiceLogin?hl=en&passive=true&continue=http://www.google.com/\" onclick=\"gbar.logger.il(9,{l:\\'i\\'})\" id=gb_70 class=gbgt><span class=gbtb2></span><span id=gbgs4 class=gbts><span id=gbi4s1>Sign in</span></span></a></li><li class=\"gbt gbtb\"><span class=gbts></span></li><li class=gbt><a class=gbgt id=gbg5 href=\"http://www.google.co.in/preferences?hl=en\" title=\"Options\" onclick=\"gbar.tg(event,this)\" aria-haspopup=true aria-owns=gbd5><span class=gbtb2></span><span id=gbgs5 class=gbts><span id=gbi5></span></span></a><div class=gbm id=gbd5 aria-owner=gbg5><div class=gbmc><ol id=gbom class=gbmcc><li class=\"gbkc gbmtc\"><a  class=gbmt href=\"/preferences?hl=en\">Search settings</a></li><li class=gbmtc><div class=\"gbmt gbmh\"></div></li><li class=\"gbkp gbmtc\"><a class=gbmt href=\"http://www.google.co.in/history/optout?hl=en\">Web History</a></li></ol></div></div></li></ol></div></div><div id=gbx3></div><div id=gbx4></div><script>window.gbar&&gbar.elp&&gbar.elp()</script></div> </div><center><br clear=\"all\" id=\"lgpd\"><div id=\"lga\"><img alt=\"Google\" height=\"92\" src=\"/images/branding/googlelogo/1x/googlelogo_white_background_color_272x92dp.png\" style=\"padding:28px 0 14px\" width=\"272\" id=\"hplogo\" onload=\"window.lol&&lol()\"><br><br></div><form action=\"/search\" name=\"f\"><table cellpadding=\"0\" cellspacing=\"0\"><tr valign=\"top\"><td width=\"25%\">&nbsp;</td><td align=\"center\" nowrap=\"\"><input name=\"ie\" value=\"ISO-8859-1\" type=\"hidden\"><input value=\"en-IN\" name=\"hl\" type=\"hidden\"><input name=\"source\" type=\"hidden\" value=\"hp\"><input name=\"biw\" type=\"hidden\"><input name=\"bih\" type=\"hidden\"><div class=\"ds\" style=\"height:32px;margin:4px 0\"><input style=\"color:#000;margin:0;padding:5px 8px 0 6px;vertical-align:top\" autocomplete=\"off\" class=\"lst\" value=\"\" title=\"Google Search\" maxlength=\"2048\" name=\"q\" size=\"57\"></div><br style=\"line-height:0\"><span class=\"ds\"><span class=\"lsbb\"><input class=\"lsb\" value=\"Google Search\" name=\"btnG\" type=\"submit\"></span></span><span class=\"ds\"><span class=\"lsbb\"><input class=\"lsb\" value=\"I\\'m Feeling Lucky\" name=\"btnI\" onclick=\"if(this.form.q.value)this.checked=1; else top.location=\\'/doodles/\\'\" type=\"submit\"></span></span></td><td class=\"fl sblc\" align=\"left\" nowrap=\"\" width=\"25%\"><a href=\"/advanced_search?hl=en-IN&amp;authuser=0\">Advanced search</a><a href=\"/language_tools?hl=en-IN&amp;authuser=0\">Language tools</a></td></tr></table><input id=\"gbv\" name=\"gbv\" type=\"hidden\" value=\"1\"><script nonce=\"GDGHG1qhOgZQqPSYPIxc1Q==\">(function(){var a,b=\"1\";if(document&&document.getElementById)if(\"undefined\"!=typeof XMLHttpRequest)b=\"2\";else if(\"undefined\"!=typeof ActiveXObject){var c,d,e=[\"MSXML2.XMLHTTP.6.0\",\"MSXML2.XMLHTTP.3.0\",\"MSXML2.XMLHTTP\",\"Microsoft.XMLHTTP\"];for(c=0;d=e[c++];)try{new ActiveXObject(d),b=\"2\"}catch(h){}}a=b;if(\"2\"==a&&-1==location.search.indexOf(\"&gbv=2\")){var f=google.gbvu,g=document.getElementById(\"gbv\");g&&(g.value=a);f&&window.setTimeout(function(){location.href=f},0)};}).call(this);</script></form><div id=\"gac_scont\"></div><div style=\"font-size:83%;min-height:3.5em\"><br><div id=\"gws-output-pages-elements-homepage_additional_languages__als\"><style>#gws-output-pages-elements-homepage_additional_languages__als{font-size:small;margin-bottom:24px}#SIvCob{display:inline-block;line-height:28px;}#SIvCob a{padding:0 3px;}.H6sW5{display:inline-block;margin:0 2px;white-space:nowrap}.z4hgWe{display:inline-block;margin:0 2px}</style><div id=\"SIvCob\">Google offered in:  <a href=\"http://www.google.com/setprefs?sig=0_lp5G8169B_RGQ6cwkR6ZEAbvoyU%3D&amp;hl=hi&amp;source=homepage&amp;sa=X&amp;ved=0ahUKEwiF_LSU8tHhAhVNcCsKHR3HCQQQ2ZgBCAU\">&#2361;&#2367;&#2344;&#2381;&#2342;&#2368;</a>    <a href=\"http://www.google.com/setprefs?sig=0_lp5G8169B_RGQ6cwkR6ZEAbvoyU%3D&amp;hl=bn&amp;source=homepage&amp;sa=X&amp;ved=0ahUKEwiF_LSU8tHhAhVNcCsKHR3HCQQQ2ZgBCAY\">&#2476;&#2494;&#2434;&#2482;&#2494;</a>    <a href=\"http://www.google.com/setprefs?sig=0_lp5G8169B_RGQ6cwkR6ZEAbvoyU%3D&amp;hl=te&amp;source=homepage&amp;sa=X&amp;ved=0ahUKEwiF_LSU8tHhAhVNcCsKHR3HCQQQ2ZgBCAc\">&#3108;&#3142;&#3122;&#3137;&#3095;&#3137;</a>    <a href=\"http://www.google.com/setprefs?sig=0_lp5G8169B_RGQ6cwkR6ZEAbvoyU%3D&amp;hl=mr&amp;source=homepage&amp;sa=X&amp;ved=0ahUKEwiF_LSU8tHhAhVNcCsKHR3HCQQQ2ZgBCAg\">&#2350;&#2352;&#2366;&#2336;&#2368;</a>    <a href=\"http://www.google.com/setprefs?sig=0_lp5G8169B_RGQ6cwkR6ZEAbvoyU%3D&amp;hl=ta&amp;source=homepage&amp;sa=X&amp;ved=0ahUKEwiF_LSU8tHhAhVNcCsKHR3HCQQQ2ZgBCAk\">&#2980;&#2990;&#3007;&#2996;&#3021;</a>    <a href=\"http://www.google.com/setprefs?sig=0_lp5G8169B_RGQ6cwkR6ZEAbvoyU%3D&amp;hl=gu&amp;source=homepage&amp;sa=X&amp;ved=0ahUKEwiF_LSU8tHhAhVNcCsKHR3HCQQQ2ZgBCAo\">&#2711;&#2753;&#2716;&#2736;&#2750;&#2724;&#2752;</a>    <a href=\"http://www.google.com/setprefs?sig=0_lp5G8169B_RGQ6cwkR6ZEAbvoyU%3D&amp;hl=kn&amp;source=homepage&amp;sa=X&amp;ved=0ahUKEwiF_LSU8tHhAhVNcCsKHR3HCQQQ2ZgBCAs\">&#3221;&#3240;&#3277;&#3240;&#3233;</a>    <a href=\"http://www.google.com/setprefs?sig=0_lp5G8169B_RGQ6cwkR6ZEAbvoyU%3D&amp;hl=ml&amp;source=homepage&amp;sa=X&amp;ved=0ahUKEwiF_LSU8tHhAhVNcCsKHR3HCQQQ2ZgBCAw\">&#3374;&#3378;&#3375;&#3390;&#3379;&#3330;</a>    <a href=\"http://www.google.com/setprefs?sig=0_lp5G8169B_RGQ6cwkR6ZEAbvoyU%3D&amp;hl=pa&amp;source=homepage&amp;sa=X&amp;ved=0ahUKEwiF_LSU8tHhAhVNcCsKHR3HCQQQ2ZgBCA0\">&#2602;&#2672;&#2588;&#2622;&#2604;&#2624;</a>  </div></div></div><span id=\"footer\"><div style=\"font-size:10pt\"><div style=\"margin:19px auto;text-align:center\" id=\"fll\"><a href=\"/intl/en/ads/\">Advertising\\xa0Programs</a><a href=\"http://www.google.co.in/services/\">Business Solutions</a><a href=\"/intl/en/about.html\">About Google</a><a href=\"http://www.google.com/setprefdomain?prefdom=IN&amp;prev=http://www.google.co.in/&amp;sig=K_BTx8EGty2PPVR8XCUNglzUmqG2w%3D\">Google.co.in</a></div></div><p style=\"color:#767676;font-size:8pt\">&copy; 2019 - <a href=\"/intl/en/policies/privacy/\">Privacy</a> - <a href=\"/intl/en/policies/terms/\">Terms</a></p></span></center><script nonce=\"GDGHG1qhOgZQqPSYPIxc1Q==\">(function(){window.google.cdo={height:0,width:0};(function(){var a=window.innerWidth,b=window.innerHeight;if(!a||!b){var c=window.document,d=\"CSS1Compat\"==c.compatMode?c.documentElement:c.body;a=d.clientWidth;b=d.clientHeight}a&&b&&(a!=google.cdo.width||b!=google.cdo.height)&&google.log(\"\",\"\",\"/client_204?&atyp=i&biw=\"+a+\"&bih=\"+b+\"&ei=\"+google.kEI);}).call(this);})();(function(){var u=\\'/xjs/_/js/k\\\\x3dxjs.hp.en.m2KNlyu0Hzk.O/m\\\\x3dsb_he,d/am\\\\x3dBAOa/rt\\\\x3dj/d\\\\x3d1/rs\\\\x3dACT90oGfgSu3xKRIAHD8goZEg_GBzfsTGQ\\';setTimeout(function(){var a=document.createElement(\"script\");a.src=u;google.timers&&google.timers.load&&google.tick&&google.tick(\"load\",\"xjsls\");document.body.appendChild(a)},0);})();(function(){window.google.xjsu=\\'/xjs/_/js/k\\\\x3dxjs.hp.en.m2KNlyu0Hzk.O/m\\\\x3dsb_he,d/am\\\\x3dBAOa/rt\\\\x3dj/d\\\\x3d1/rs\\\\x3dACT90oGfgSu3xKRIAHD8goZEg_GBzfsTGQ\\';})();function _DumpException(e){throw e;}\\n(function(){google.spjs=false;})();(function(){var pmc=\\'{\\\\x22Qnk92g\\\\x22:{},\\\\x22U5B21g\\\\x22:{},\\\\x22YFCs/g\\\\x22:{},\\\\x22ZI/YVQ\\\\x22:{},\\\\x22d\\\\x22:{},\\\\x22sb_he\\\\x22:{\\\\x22agen\\\\x22:true,\\\\x22cgen\\\\x22:true,\\\\x22client\\\\x22:\\\\x22heirloom-hp\\\\x22,\\\\x22dh\\\\x22:true,\\\\x22dhqt\\\\x22:true,\\\\x22ds\\\\x22:\\\\x22\\\\x22,\\\\x22ffql\\\\x22:\\\\x22en\\\\x22,\\\\x22fl\\\\x22:true,\\\\x22host\\\\x22:\\\\x22google.com\\\\x22,\\\\x22isbh\\\\x22:28,\\\\x22jsonp\\\\x22:true,\\\\x22msgs\\\\x22:{\\\\x22cibl\\\\x22:\\\\x22Clear Search\\\\x22,\\\\x22dym\\\\x22:\\\\x22Did you mean:\\\\x22,\\\\x22lcky\\\\x22:\\\\x22I\\\\\\\\u0026#39;m Feeling Lucky\\\\x22,\\\\x22lml\\\\x22:\\\\x22Learn more\\\\x22,\\\\x22oskt\\\\x22:\\\\x22Input tools\\\\x22,\\\\x22psrc\\\\x22:\\\\x22This search was removed from your \\\\\\\\u003Ca href\\\\x3d\\\\\\\\\\\\x22/history\\\\\\\\\\\\x22\\\\\\\\u003EWeb History\\\\\\\\u003C/a\\\\\\\\u003E\\\\x22,\\\\x22psrl\\\\x22:\\\\x22Remove\\\\x22,\\\\x22sbit\\\\x22:\\\\x22Search by image\\\\x22,\\\\x22srch\\\\x22:\\\\x22Google Search\\\\x22},\\\\x22ovr\\\\x22:{},\\\\x22pq\\\\x22:\\\\x22\\\\x22,\\\\x22refpd\\\\x22:true,\\\\x22rfs\\\\x22:[],\\\\x22sbpl\\\\x22:24,\\\\x22sbpr\\\\x22:24,\\\\x22scd\\\\x22:10,\\\\x22sce\\\\x22:5,\\\\x22stok\\\\x22:\\\\x222Der1vAQJ6PIFoznmJlA7k-Kr1I\\\\x22,\\\\x22uhde\\\\x22:false}}\\';google.pmc=JSON.parse(pmc);})();</script>        </body></html>'\n"
     ]
    }
   ],
   "source": [
    "#30. Write a Python program to access and print a URL's content to the console.\n",
    "from http.client import HTTPConnection\n",
    "site= input(\"Enter a site name: \")\n",
    "conn = HTTPConnection(site)\n",
    "conn.request(\"GET\", \"/\")  \n",
    "result = conn.getresponse()\n",
    "contents = result.read() \n",
    "print(contents)\n"
   ]
  },
  {
   "cell_type": "code",
   "execution_count": 55,
   "metadata": {
    "ExecuteTime": {
     "end_time": "2019-04-15T06:59:57.170307Z",
     "start_time": "2019-04-15T06:59:57.154849Z"
    }
   },
   "outputs": [
    {
     "name": "stdout",
     "output_type": "stream",
     "text": [
      "dir command to list file and directory:  ML\\ prog\\ week1.ipynb  a.txt\n",
      "\n",
      "Present working dir:  /home/ubuntu/testingjupyterdata/Santoshi Kalskar/Week 1\n",
      "\n"
     ]
    }
   ],
   "source": [
    "# 31. Write a Python program to get system command output. \n",
    "\n",
    "import subprocess\n",
    "returned_text = subprocess.check_output(\"dir\", shell=True, universal_newlines=True)\n",
    "returned_text1 = subprocess.check_output(\"pwd\", shell=True, universal_newlines=True)\n",
    "print(\"dir command to list file and directory: \",returned_text)\n",
    "print(\"Present working dir: \",returned_text1)\n"
   ]
  },
  {
   "cell_type": "code",
   "execution_count": 56,
   "metadata": {
    "ExecuteTime": {
     "end_time": "2019-04-15T07:00:55.288200Z",
     "start_time": "2019-04-15T07:00:55.281915Z"
    }
   },
   "outputs": [
    {
     "name": "stdout",
     "output_type": "stream",
     "text": [
      "\n",
      "Effective group id:  1000\n",
      "Effective user id:  1000\n",
      "Real group id:  1000\n",
      "List of supplemental group ids:  [4, 20, 24, 25, 27, 29, 30, 44, 46, 108, 114, 1000]\n",
      "\n"
     ]
    }
   ],
   "source": [
    "#32. Write a Python program to get the effective group id, effective user id, real group id, a list of supplemental group ids associated with the current process. \n",
    "import os\n",
    "print(\"\\nEffective group id: \",os.getegid())\n",
    "print(\"Effective user id: \",os.geteuid())\n",
    "print(\"Real group id: \",os.getgid())\n",
    "print(\"List of supplemental group ids: \",os.getgroups())"
   ]
  },
  {
   "cell_type": "code",
   "execution_count": 60,
   "metadata": {
    "ExecuteTime": {
     "end_time": "2019-04-15T07:02:43.193541Z",
     "start_time": "2019-04-15T07:02:43.182472Z"
    }
   },
   "outputs": [
    {
     "name": "stdout",
     "output_type": "stream",
     "text": [
      "------Users Environment------\n",
      "MPLBACKEND : module://ipykernel.pylab.backend_inline\n",
      "HOME : /home/ubuntu\n",
      "PATH : /usr/local/sbin:/usr/local/bin:/usr/sbin:/usr/bin:/sbin:/bin\n",
      "GIT_PAGER : cat\n",
      "PAGER : cat\n",
      "CLICOLOR : 1\n",
      "JOURNAL_STREAM : 9:17366\n",
      "INVOCATION_ID : ac444103887640248a2f6fc94a1695f2\n",
      "USER : ubuntu\n",
      "LOGNAME : ubuntu\n",
      "JPY_PARENT_PID : 819\n",
      "LANG : C.UTF-8\n",
      "TERM : xterm-color\n",
      "SHELL : /bin/bash\n"
     ]
    }
   ],
   "source": [
    "#33. Write a Python program to get the users environment. \n",
    "import os\n",
    "print(\"------Users Environment------\")\n",
    "for s,n in os.environ.items():\n",
    "    print(s,\":\",n)\n"
   ]
  },
  {
   "cell_type": "code",
   "execution_count": 62,
   "metadata": {
    "ExecuteTime": {
     "end_time": "2019-04-15T07:04:06.047821Z",
     "start_time": "2019-04-15T07:04:02.515569Z"
    }
   },
   "outputs": [
    {
     "name": "stdout",
     "output_type": "stream",
     "text": [
      "enter a file name a.txt\n",
      "File : a.txt\n",
      "Access time  : Mon Apr 15 06:45:54 2019\n",
      "Modified time: Mon Apr 15 06:45:51 2019\n",
      "Change time  : Mon Apr 15 06:46:00 2019\n",
      "Size         : 0\n"
     ]
    }
   ],
   "source": [
    "#34. Write a Python program to retrieve file properties. \n",
    "import os.path\n",
    "import time\n",
    "f= input(\"enter a file name \")\n",
    "print('File :', f)\n",
    "print('Access time  :', time.ctime(os.path.getatime(f)))\n",
    "print('Modified time:', time.ctime(os.path.getmtime(f)))\n",
    "print('Change time  :', time.ctime(os.path.getctime(f)))\n",
    "print('Size         :', os.path.getsize(f))\n",
    "\n"
   ]
  },
  {
   "cell_type": "code",
   "execution_count": 68,
   "metadata": {
    "ExecuteTime": {
     "end_time": "2019-04-15T07:07:51.780604Z",
     "start_time": "2019-04-15T07:07:51.776404Z"
    }
   },
   "outputs": [
    {
     "name": "stdout",
     "output_type": "stream",
     "text": [
      "Numbers divisible by 15 are (45, 60, 90, 105)\n"
     ]
    }
   ],
   "source": [
    "#35. Write a Python program to get numbers divisible by fifteen from a list using an anonymous function. \n",
    "num_list = [45, 55, 60, 37,65,90, 100, 105, 220]\n",
    "result = tuple(filter(lambda x: (x % 15 == 0), num_list))\n",
    "print(\"Numbers divisible by 15 are\",result)"
   ]
  },
  {
   "cell_type": "code",
   "execution_count": 9,
   "metadata": {
    "ExecuteTime": {
     "end_time": "2019-04-16T06:39:19.621515Z",
     "start_time": "2019-04-16T06:39:19.616239Z"
    }
   },
   "outputs": [
    {
     "name": "stdout",
     "output_type": "stream",
     "text": [
      "Variable is defined.\n",
      "Variable is not defined....!\n"
     ]
    }
   ],
   "source": [
    "#36. Write a Python program to determine if variable is defined or not. \n",
    "try:\n",
    "  x = -10\n",
    "except NameError:\n",
    "  print(\"Variable is not defined....!\")\n",
    "else:\n",
    "  print(\"Variable is defined.\")\n",
    "try:\n",
    "  y\n",
    "except NameError:\n",
    "  print(\"Variable is not defined....!\")\n",
    "else:\n",
    "  print(\"Variable is defined.\")"
   ]
  },
  {
   "cell_type": "code",
   "execution_count": 82,
   "metadata": {
    "ExecuteTime": {
     "end_time": "2019-04-15T07:17:54.381953Z",
     "start_time": "2019-04-15T07:17:51.848860Z"
    }
   },
   "outputs": [
    {
     "name": "stdout",
     "output_type": "stream",
     "text": [
      "enter value of x: -3\n",
      "after empty a veriable : None\n"
     ]
    }
   ],
   "source": [
    "#37. Write a Python program to empty a variable without destroying it.\n",
    "x= input(\"enter value of x: \")\n",
    "x= None\n",
    "print(\"after empty a veriable :\",x)"
   ]
  },
  {
   "cell_type": "code",
   "execution_count": 126,
   "metadata": {
    "ExecuteTime": {
     "end_time": "2019-04-15T09:31:46.550266Z",
     "start_time": "2019-04-15T09:31:42.785812Z"
    }
   },
   "outputs": [
    {
     "name": "stdout",
     "output_type": "stream",
     "text": [
      "enter a string: san\n",
      "Original String:  san\n",
      "0000000san\n",
      "san0000000\n"
     ]
    }
   ],
   "source": [
    "#38. Write a Python program to add leading zeroes to a string. \n",
    "str1=input(\"enter a string: \")\n",
    "print(\"Original String: \",str1)\n",
    "str2 = str1.rjust(10, '0')\n",
    "print(str2)\n",
    "str2 = str1.ljust(10, '0')\n",
    "print(str2)"
   ]
  },
  {
   "cell_type": "code",
   "execution_count": 125,
   "metadata": {
    "ExecuteTime": {
     "end_time": "2019-04-15T09:29:58.447137Z",
     "start_time": "2019-04-15T09:29:58.442319Z"
    }
   },
   "outputs": [
    {
     "name": "stdout",
     "output_type": "stream",
     "text": [
      "ML prog week1.ipynb\n",
      "a.txt\n",
      "ML prog week1-checkpoint.ipynb\n"
     ]
    }
   ],
   "source": [
    "#39. Write a Python program to find files and skip directories of a given directory. \n",
    "\n",
    "from os import walk\n",
    "f = []\n",
    "for (dirpath, dirnames, filenames) in walk('/home/ubuntu/testingjupyterdata/Santoshi Kalskar/Week 1'):\n",
    "    f.extend(filenames)\n",
    "#print(f.extend(filenames))\n",
    "for files in f:\n",
    "    print(files)"
   ]
  },
  {
   "cell_type": "code",
   "execution_count": 123,
   "metadata": {
    "ExecuteTime": {
     "end_time": "2019-04-15T09:27:54.912956Z",
     "start_time": "2019-04-15T09:27:54.908861Z"
    }
   },
   "outputs": [
    {
     "name": "stdout",
     "output_type": "stream",
     "text": [
      "(1, 'Red')\n",
      "(2, 'Green')\n",
      "(3, 'Yello')\n"
     ]
    }
   ],
   "source": [
    "#40 a Python program to extract single key-value pair of a dictionary in variables. \n",
    "d = {1:'Red',2: 'Green',3: 'Yello'}\n",
    "n = d.items()\n",
    "for i in n:\n",
    "    print(i)"
   ]
  },
  {
   "cell_type": "code",
   "execution_count": 121,
   "metadata": {
    "ExecuteTime": {
     "end_time": "2019-04-15T09:26:51.587252Z",
     "start_time": "2019-04-15T09:26:51.583479Z"
    }
   },
   "outputs": [
    {
     "name": "stdout",
     "output_type": "stream",
     "text": [
      "01000001\n",
      "0001000001\n"
     ]
    }
   ],
   "source": [
    "# 41. Write a Python program to convert an integer to binary keep leading zeros. \n",
    "\n",
    "x = 65\n",
    "print(format(x, '08b'))\n",
    "print(format(x, '010b'))\n"
   ]
  },
  {
   "cell_type": "code",
   "execution_count": 115,
   "metadata": {
    "ExecuteTime": {
     "end_time": "2019-04-15T09:21:37.988472Z",
     "start_time": "2019-04-15T09:21:37.984563Z"
    }
   },
   "outputs": [
    {
     "name": "stdout",
     "output_type": "stream",
     "text": [
      " Python program is executing in:  64 bit\n"
     ]
    }
   ],
   "source": [
    "# 42. Write a Python program to determine if the python shell is executing in 32bit or 64bit mode on operating system.\n",
    "import struct\n",
    "print(\" Python program is executing in: \",struct.calcsize(\"P\") * 8,\"bit\")\n"
   ]
  },
  {
   "cell_type": "code",
   "execution_count": 106,
   "metadata": {
    "ExecuteTime": {
     "end_time": "2019-04-15T07:33:21.079204Z",
     "start_time": "2019-04-15T07:33:21.072835Z"
    }
   },
   "outputs": [
    {
     "name": "stdout",
     "output_type": "stream",
     "text": [
      "max: 75 min:  -5\n"
     ]
    }
   ],
   "source": [
    "# 43. Write a Python function to find the maximum and minimum numbers from a sequence of numbers. \n",
    "def max_min(data):\n",
    "  l = data[0]\n",
    "  s = data[0]\n",
    "  for num in data:\n",
    "    if num> l:\n",
    "      l = num\n",
    "    elif num< s:\n",
    "        s = num\n",
    "  return l, s\n",
    "x,y= max_min([0, 10, 15, 40, -5, 42, 17, 28, 75])\n",
    "print(\"max:\",x,\"min: \",y)"
   ]
  },
  {
   "cell_type": "code",
   "execution_count": 7,
   "metadata": {
    "ExecuteTime": {
     "end_time": "2019-04-16T06:38:56.066092Z",
     "start_time": "2019-04-16T06:38:56.061734Z"
    }
   },
   "outputs": [
    {
     "name": "stdout",
     "output_type": "stream",
     "text": [
      "Variable is defined.\n",
      "Variable is not defined....!\n"
     ]
    }
   ],
   "source": [
    "try:\n",
    "  x = 1\n",
    "except NameError:\n",
    "  print(\"Variable is not defined....!\")\n",
    "else:\n",
    "  print(\"Variable is defined.\")\n",
    "try:\n",
    "  y\n",
    "except NameError:\n",
    "  print(\"Variable is not defined....!\")\n",
    "else:\n",
    "  print(\"Variable is defined.\")\n",
    "  "
   ]
  },
  {
   "cell_type": "code",
   "execution_count": null,
   "metadata": {},
   "outputs": [],
   "source": []
  }
 ],
 "metadata": {
  "kernelspec": {
   "display_name": "Python 3",
   "language": "python",
   "name": "python3"
  },
  "language_info": {
   "codemirror_mode": {
    "name": "ipython",
    "version": 3
   },
   "file_extension": ".py",
   "mimetype": "text/x-python",
   "name": "python",
   "nbconvert_exporter": "python",
   "pygments_lexer": "ipython3",
   "version": "3.5.6"
  }
 },
 "nbformat": 4,
 "nbformat_minor": 2
}
