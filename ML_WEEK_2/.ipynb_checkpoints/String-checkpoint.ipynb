{
 "cells": [
  {
   "cell_type": "code",
   "execution_count": 119,
   "metadata": {},
   "outputs": [
    {
     "name": "stdout",
     "output_type": "stream",
     "text": [
      "Enter  your Age21a\n",
      "That's not an int!\n",
      "No.. input string is not an Integer. It's a string\n"
     ]
    }
   ],
   "source": [
    "def stringvalidation(str1):\n",
    "    name=str(input(\"What is your name? \"))\n",
    "    if not name.isalpha():\n",
    "        print(\"Your name must consist of letters only\")\n",
    "    else:\n",
    "        print(\"Thank you for entering your name.\")"
   ]
  },
  {
   "cell_type": "code",
   "execution_count": 3,
   "metadata": {},
   "outputs": [],
   "source": [
    "def stringvalidation1(str1):\n",
    "    if not str1.isalpha():\n",
    "        return False\n",
    "    else:\n",
    "        return True"
   ]
  },
  {
   "cell_type": "code",
   "execution_count": 29,
   "metadata": {},
   "outputs": [
    {
     "name": "stdout",
     "output_type": "stream",
     "text": [
      "Enter  your Agett\n",
      "That's not an int!\n",
      "No.. input string is not an Integer. It's a string\n"
     ]
    }
   ],
   "source": [
    "user_input = input (\"Enter  your Age\")\n",
    "try:\n",
    "   val = int(user_input)\n",
    "   print(\"Yes input string is an Integer.\")\n",
    "   print(\"Input number value is: \", val)\n",
    "except ValueError:\n",
    "   print(\"That's not an int!\")\n",
    "   print(\"No.. input string is not an Integer. It's a string\")"
   ]
  },
  {
   "cell_type": "code",
   "execution_count": 34,
   "metadata": {},
   "outputs": [],
   "source": [
    "def validateint(number):\n",
    "    try:\n",
    "        val = int(number)\n",
    "        return True\n",
    "    except ValueError:\n",
    "        return False"
   ]
  },
  {
   "cell_type": "code",
   "execution_count": 38,
   "metadata": {},
   "outputs": [],
   "source": [
    "def validateint1():\n",
    "    while True:\n",
    "        number = input(\"Enter a number: \")\n",
    "        try:\n",
    "            val = int(number)\n",
    "            if val < 0:  # if not a positive int print message and ask for input again\n",
    "                print(\"Sorry, input must be a positive integer, try again\")\n",
    "                continue\n",
    "            break\n",
    "        except ValueError:\n",
    "            print(\"That's not an int!\")     \n",
    "    # else all is good, val is >=  0 and an integer\n",
    "    return val"
   ]
  },
  {
   "cell_type": "code",
   "execution_count": 7,
   "metadata": {},
   "outputs": [
    {
     "name": "stdout",
     "output_type": "stream",
     "text": [
      "Enter a string: san1\n",
      "Your input must consist of letters only\n",
      "Enter a string: san\n",
      "Length of the input string is: 3\n"
     ]
    }
   ],
   "source": [
    "# 1. Write a Python program to calculate the length of a string.\n",
    "while True:\n",
    "    str1 = input(\"Enter a string: \")\n",
    "    if stringvalidation1(str1)==True:\n",
    "        ctr = 0\n",
    "        for s in str1:\n",
    "            ctr = ctr+1\n",
    "        print(\"Length of the input string is:\", ctr)\n",
    "        break\n",
    "    else:\n",
    "        print(\"Your input must consist of letters only\")"
   ]
  },
  {
   "cell_type": "code",
   "execution_count": 12,
   "metadata": {},
   "outputs": [
    {
     "name": "stdout",
     "output_type": "stream",
     "text": [
      "Enter a string: san1\n",
      "Your input must consist of letters only.\n",
      "Enter a string: san\n",
      "Count of all characters in MachineLearning is :\n",
      "  {'s': 1, 'a': 1, 'n': 1}\n"
     ]
    }
   ],
   "source": [
    "# 2. Write a Python program to count the number of characters (character frequency) in a string.\n",
    "while True:\n",
    "    str1 = input(\"Enter a string: \")\n",
    "    if stringvalidation1(str1)==True:\n",
    "        all_freq = {} \n",
    "        for i in str1:\n",
    "            if i in all_freq:\n",
    "                all_freq[i] += 1    \n",
    "            else:\n",
    "                all_freq[i] = 1\n",
    "        print (\"Count of all characters in MachineLearning is :\\n \", str(all_freq))\n",
    "        break\n",
    "    else:\n",
    "        print(\"Your input must consist of letters only.\")\n"
   ]
  },
  {
   "cell_type": "code",
   "execution_count": 14,
   "metadata": {},
   "outputs": [
    {
     "name": "stdout",
     "output_type": "stream",
     "text": [
      "Enter a Strig to Replace: santoshi1\n",
      "Your input must consist of letters only.\n",
      "Enter a Strig to Replace: santoshi1\n",
      "Your input must consist of letters only.\n",
      "Enter a Strig to Replace: santoshi\n",
      "Replaced string:  santo$hi\n"
     ]
    }
   ],
   "source": [
    "# 3. Write a Python program to get a string from a given string where all \n",
    "#occurrences of its first char have been changed to '$', except the first char itself.\n",
    "while True:\n",
    "    def char_change(str1):\n",
    "        char = str1[0]\n",
    "        str1 = str1.replace(char, '$')\n",
    "        str1 = char + str1[1:]\n",
    "        return str1  \n",
    "    str1= input(\"Enter a Strig to Replace: \")\n",
    "    if stringvalidation1(str1)==True:\n",
    "        print(\"Replaced string: \",char_change(str1))\n",
    "        break\n",
    "    else:\n",
    "        print(\"Your input must consist of letters only.\")"
   ]
  },
  {
   "cell_type": "code",
   "execution_count": 17,
   "metadata": {},
   "outputs": [
    {
     "name": "stdout",
     "output_type": "stream",
     "text": [
      "Enter a String :san1\n",
      "Your input must consist of letters only.\n",
      "Enter a String :san\n",
      "After Modifing String : saning\n"
     ]
    }
   ],
   "source": [
    "# 4. Write a Python program to add 'ing' at the end of a given string (length should be at least 3). \n",
    "#If the given string already ends with 'ing' then add 'ly' instead. If the string length of the given string is less than 3, leave it unchanged.\n",
    "\n",
    "def add_string(str1):\n",
    "    length = len(str1)\n",
    "    if length >= 3:\n",
    "        if str1[-3:] == 'ing':\n",
    "            str1 += 'ly'\n",
    "        else:\n",
    "            str1 += 'ing'\n",
    "        return str1\n",
    "\n",
    "while True:\n",
    "    str1= input(\"Enter a String :\")\n",
    "    if stringvalidation1(str1)==True:\n",
    "        print(\"After Modifing String :\",add_string(str1))\n",
    "        break\n",
    "    else:\n",
    "        print(\"Your input must consist of letters only.\")"
   ]
  },
  {
   "cell_type": "code",
   "execution_count": 50,
   "metadata": {},
   "outputs": [
    {
     "name": "stdout",
     "output_type": "stream",
     "text": [
      "Enter no of words:4\n",
      "Enter words separated by comma machine,learning,python,week2\n",
      "Largest word:  learning\n"
     ]
    }
   ],
   "source": [
    "# 5. Write a Python function that takes a list of words and returns the length of the longest one.\n",
    "\n",
    "def find_longest_word(words_list):\n",
    "    word_len = []\n",
    "    for n in words_list:\n",
    "        word_len.append((len(n), n))\n",
    "    word_len.sort()\n",
    "    return word_len[-1][1]\n",
    "family_list=list()\n",
    "    \n",
    "input_string = input(\"Enter words separated by comma: \")\n",
    "family_list  = input_string.split(\",\")\n",
    "\n",
    "print(\"Largest word: \",find_longest_word(family_list))\n"
   ]
  },
  {
   "cell_type": "code",
   "execution_count": 19,
   "metadata": {},
   "outputs": [
    {
     "name": "stdout",
     "output_type": "stream",
     "text": [
      "What's your favourite Subject? mach1\n",
      "Your input must consist of letters only.\n",
      "What's your favourite Subject? machineLearning\n",
      "My favourite Subject is:  MACHINELEARNING\n",
      "My favourite Subject is:  machinelearning\n"
     ]
    }
   ],
   "source": [
    "# 6. Write a Python script that takes input from the user and displays that input back in upper and lower cases.\n",
    "while True:\n",
    "    uinput = input(\"What's your favourite Subject? \")\n",
    "    if stringvalidation1(uinput)==True:\n",
    "        print(\"My favourite Subject in UPPER: \", uinput.upper())\n",
    "        print(\"My favourite Subject in lower: \", uinput.lower())\n",
    "        break\n",
    "    else:\n",
    "        print(\"Your input must consist of letters only.\")"
   ]
  },
  {
   "cell_type": "code",
   "execution_count": 21,
   "metadata": {},
   "outputs": [
    {
     "name": "stdout",
     "output_type": "stream",
     "text": [
      "Enter comma separated sequence of words: 4,3,2,1\n",
      "Sorted list: 1,2,3,4\n"
     ]
    }
   ],
   "source": [
    "# 7. Write a Python program that accepts a comma separated sequence of words as input and prints the unique words in sorted form (alphanumerically).\n",
    "\n",
    "items = input(\"Enter comma separated sequence of words: \")\n",
    "words = [word for word in items.split(\",\")]\n",
    "print(\"Sorted list:\",\",\".join(sorted(list(set(words)))))\n"
   ]
  },
  {
   "cell_type": "code",
   "execution_count": 69,
   "metadata": {},
   "outputs": [
    {
     "name": "stdout",
     "output_type": "stream",
     "text": [
      "given site:  https://www,google.com/python-exercises/specific-character\n",
      "Last part after /:  specific-character\n",
      "Last part after -:  character\n"
     ]
    }
   ],
   "source": [
    "# 8. Write a Python program to get the last part of a string before a specified character.\n",
    "str1 = 'https://www,google.com/python-exercises/specific-character'\n",
    "print(\"given site: \", str1)\n",
    "print(\"Last part after /: \",str1.rsplit('/', 1)[1])\n",
    "print(\"Last part after -: \",str1.rsplit('-', 1)[1])\n"
   ]
  },
  {
   "cell_type": "code",
   "execution_count": 99,
   "metadata": {},
   "outputs": [
    {
     "data": {
      "text/plain": [
       "' Python is a widely used high-level, general-purpose, interpreted, dynamic programming language.'"
      ]
     },
     "execution_count": 99,
     "metadata": {},
     "output_type": "execute_result"
    }
   ],
   "source": [
    "# 9. Write a Python program to display formatted text (width=50) as output\n",
    "width=50\n",
    "string = 'Python is a widely used high-level, general-purpose, interpreted, dynamic programming language.'\n",
    "f\" {string:{width}}\" "
   ]
  },
  {
   "cell_type": "code",
   "execution_count": 26,
   "metadata": {},
   "outputs": [
    {
     "name": "stdout",
     "output_type": "stream",
     "text": [
      "given string: \n",
      "Machine Learning technology by using python language.\n",
      "enter substring: san\n",
      "count:  0\n",
      "not matching\n"
     ]
    }
   ],
   "source": [
    "# 10. Write a Python program to count occurrences of a substring in a string.\n",
    "\n",
    "string = \"Machine Learning technology by using python language.\"\n",
    "print(\"given string: \")\n",
    "print(string)\n",
    "str= input(\"enter substring: \")\n",
    "print(\"count: \",string.count(str))\n",
    "print(\"not matching\")"
   ]
  },
  {
   "cell_type": "code",
   "execution_count": 27,
   "metadata": {},
   "outputs": [
    {
     "name": "stdout",
     "output_type": "stream",
     "text": [
      "Enter a string: san\n",
      "The original string is :  san\n",
      "The reversed string is :  nas\n"
     ]
    }
   ],
   "source": [
    "#11. Write a Python program to reverse a string.\n",
    "\n",
    "def reverse(s):\n",
    "    str = \"\" \n",
    "    for i in s:\n",
    "        str = i + str\n",
    "    return str\n",
    "while True:\n",
    "    s = input(\"Enter a string: \")\n",
    "    if stringvalidation1(s)==True:\n",
    "        print (\"The original string is : \",s) \n",
    "        print (\"The reversed string is : \",reverse(s))\n",
    "        break\n",
    "    else:\n",
    "        print(\"Your input must consist of letters only.\")\n"
   ]
  },
  {
   "cell_type": "code",
   "execution_count": 41,
   "metadata": {},
   "outputs": [
    {
     "name": "stdout",
     "output_type": "stream",
     "text": [
      "Enter a string: MACHINELEARNING\n",
      "Enter a number: -4\n",
      "Sorry, input must be a positive integer, try again\n",
      "Enter a number: 5\n",
      "String after Lower case:  machiNELEARNING\n"
     ]
    }
   ],
   "source": [
    "# 12. Write a Python program to lowercase first n characters in a string.\n",
    "str1 =input(\"Enter a string: \")\n",
    "n=validateint1()\n",
    "print(\"String after Lower case: \",str1[:n].lower() + str1[n:])"
   ]
  },
  {
   "cell_type": "code",
   "execution_count": null,
   "metadata": {},
   "outputs": [],
   "source": []
  }
 ],
 "metadata": {
  "kernelspec": {
   "display_name": "Python 3",
   "language": "python",
   "name": "python3"
  },
  "language_info": {
   "codemirror_mode": {
    "name": "ipython",
    "version": 3
   },
   "file_extension": ".py",
   "mimetype": "text/x-python",
   "name": "python",
   "nbconvert_exporter": "python",
   "pygments_lexer": "ipython3",
   "version": "3.7.3"
  }
 },
 "nbformat": 4,
 "nbformat_minor": 2
}
