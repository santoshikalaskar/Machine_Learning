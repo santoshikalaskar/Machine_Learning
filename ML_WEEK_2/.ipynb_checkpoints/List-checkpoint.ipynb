{
 "cells": [
  {
   "cell_type": "code",
   "execution_count": 2,
   "metadata": {},
   "outputs": [
    {
     "name": "stdout",
     "output_type": "stream",
     "text": [
      "enter no of Elements: 2\n",
      "Array Elements: \n",
      "1\n",
      "2\n",
      "sum =  3\n"
     ]
    }
   ],
   "source": [
    "#1. Write a Python program to sum all the items in a list.\n",
    "n=int(input(\"enter no of Elements: \"))\n",
    "l=[]\n",
    "print(\"Array Elements: \")\n",
    "for i in range(n):\n",
    "    x= int(input())\n",
    "    l.append(x)\n",
    "s=0\n",
    "for x in l:\n",
    "    s=s+x\n",
    "print(\"sum = \",s)"
   ]
  },
  {
   "cell_type": "code",
   "execution_count": 3,
   "metadata": {},
   "outputs": [
    {
     "name": "stdout",
     "output_type": "stream",
     "text": [
      "enter no of Elements: 4\n",
      "Array Elements: \n",
      "1\n",
      "2\n",
      "3\n",
      "4\n",
      "Result of Mul =  24\n"
     ]
    }
   ],
   "source": [
    "# 2 Write a Python program to multiplies all the items in a list.\n",
    "n=int(input(\"enter no of Elements: \"))\n",
    "l=[]\n",
    "print(\"Array Elements: \")\n",
    "for i in range(n):\n",
    "    x= int(input())\n",
    "    l.append(x)\n",
    "s=1\n",
    "for x in l:\n",
    "    s=s*x\n",
    "print(\"Result of Mul = \",s)"
   ]
  },
  {
   "cell_type": "code",
   "execution_count": 5,
   "metadata": {},
   "outputs": [
    {
     "name": "stdout",
     "output_type": "stream",
     "text": [
      "enter no of Elements: 3\n",
      "Array Elements: \n",
      "1\n",
      "2\n",
      "3\n",
      "Smallest element is: 1\n"
     ]
    }
   ],
   "source": [
    "# 3. Write a Python program to get the smallest number from a list.\n",
    "\n",
    "n=int(input(\"enter no of Elements: \"))\n",
    "l=[]\n",
    "print(\"Array Elements: \")\n",
    "for i in range(n):\n",
    "    x= int(input())\n",
    "    l.append(x)\n",
    "l.sort()  \n",
    "print(\"Smallest element is:\", *l[:1]) "
   ]
  },
  {
   "cell_type": "code",
   "execution_count": 6,
   "metadata": {
    "scrolled": true
   },
   "outputs": [
    {
     "name": "stdout",
     "output_type": "stream",
     "text": [
      "enter no of Elements: 5\n",
      "Array Elements: \n",
      "1\n",
      "2\n",
      "23\n",
      "3\n",
      "4\n",
      "Total String:  0\n"
     ]
    }
   ],
   "source": [
    "# 4. Write a Python program to count the number of strings where the string length is 2 or more and the first and last character are same from a given list of strings\n",
    "n=int(input(\"enter no of Elements: \"))\n",
    "l=[]\n",
    "print(\"Array Elements: \")\n",
    "for i in range(n):\n",
    "    x= input()\n",
    "    l.append(x)\n",
    "ctr = 0\n",
    "for w in l:\n",
    "    if len(w) > 1 and w[0] == w[-1]:\n",
    "        ctr +=1\n",
    "print(\"Total String: \",ctr)\n"
   ]
  },
  {
   "cell_type": "code",
   "execution_count": 5,
   "metadata": {},
   "outputs": [
    {
     "name": "stdout",
     "output_type": "stream",
     "text": [
      "2\n"
     ]
    }
   ],
   "source": [
    "# 5. Write a Python program to get a list, sorted in increasing order by the lastelement in each tuple from a given list of non-empty tuples.\n",
    "def match_words(words):\n",
    "  ctr = 0\n",
    "\n",
    "  for word in words:\n",
    "    if len(word) > 1 and word[0] == word[-1]:\n",
    "      ctr += 1\n",
    "  return ctr\n",
    "\n",
    "print(match_words(['abc', 'xyz', 'aba', '1221']))"
   ]
  },
  {
   "cell_type": "code",
   "execution_count": null,
   "metadata": {},
   "outputs": [],
   "source": [
    "# 6. Write a Python program to remove duplicates from a list.\n",
    "a = [10,20,30,20,10,50,60,40,80,50,40]\n",
    "\n",
    "dup_items = set()\n",
    "\n",
    "for x in a:\n",
    "    if x not in dup_items:\n",
    "        dup_items.add(x)\n",
    "print(\"Unique Items: \")\n",
    "print(dup_items)"
   ]
  },
  {
   "cell_type": "code",
   "execution_count": null,
   "metadata": {},
   "outputs": [],
   "source": [
    "#7. Write a Python program to clone or copy a list. \n",
    "li1 = [4, 8, 2, 10, 15, 18] \n",
    "li2 = li1[:] \n",
    "print(\"Original List:\", li1) \n",
    "print(\"After Cloning:\", li2)"
   ]
  },
  {
   "cell_type": "code",
   "execution_count": null,
   "metadata": {},
   "outputs": [],
   "source": [
    "# 8. Write a Python program to find the list of words that are longer than n from a given list of words.\n",
    "def long_words(n, str):\n",
    "    word_len = []\n",
    "    txt = str.split(\" \")\n",
    "    for x in txt:\n",
    "        if len(x) > n:\n",
    "            word_len.append(x)\n",
    "    return word_len\n",
    "print(long_words(3, \"hello everyone.. how  are you\"))"
   ]
  },
  {
   "cell_type": "code",
   "execution_count": null,
   "metadata": {},
   "outputs": [],
   "source": [
    "\n",
    "#9. Write a Python function that takes two lists and returns True if they have at least one common member.  \n",
    "def common_data(list1, list2):\n",
    "    result = False\n",
    "    for x in list1:\n",
    "         for y in list2:\n",
    "                if x == y:\n",
    "                    result = True\n",
    "                    return result\n",
    "print(common_data([1,2,3,4,5], [5,6,7,8,9]))\n",
    "print(common_data([1,2,3,4,5], [6,7,8,9]))\n"
   ]
  },
  {
   "cell_type": "code",
   "execution_count": null,
   "metadata": {},
   "outputs": [],
   "source": [
    "# 10. Write a Python program to print a specified list after removing the 0th, 4th and 5th elements.  \n",
    "def remove(list1, pos):\n",
    "    newlist = []\n",
    "    for x in range(len(list1)):\n",
    "        if x not in pos:\n",
    "            newlist.append(list1[x])\n",
    "    print(*newlist) \n",
    "\n",
    "list1 = [10, 20, 30, 40, 50,60,70] \n",
    "pos = [0,4,5]\n",
    "print(\"Removing elements in specific position: \")\n",
    "remove(list1, pos) "
   ]
  },
  {
   "cell_type": "code",
   "execution_count": null,
   "metadata": {},
   "outputs": [],
   "source": [
    "# 11. Write a Python program to generate all permutations of a list in Python.  \n",
    "\n",
    "from itertools import permutations \n",
    "perm = permutations([1, 2, 3], 2)  \n",
    "for i in perm:\n",
    "    print(i)"
   ]
  },
  {
   "cell_type": "markdown",
   "metadata": {},
   "source": [
    "## "
   ]
  },
  {
   "cell_type": "code",
   "execution_count": 3,
   "metadata": {},
   "outputs": [
    {
     "name": "stdout",
     "output_type": "stream",
     "text": [
      "Enter number of elements of 1st list: 2\n",
      "Enter Elements: \n",
      "1\n",
      "2\n",
      "Enter number of elements of 2nd list: 2\n",
      "Enter Elements: \n",
      "1\n",
      "2\n",
      "List difference: \n"
     ]
    }
   ],
   "source": [
    "#12. Write a Python program to get the difference between the two lists.\n",
    "\n",
    "n1 = int(input(\"Enter number of elements of 1st list: \")) \n",
    "list1 = []\n",
    "print(\"Enter Elements: \")\n",
    "for i in range(0, n1): \n",
    "    ele = int(input()) \n",
    "    list1.append(ele) # adding the element \n",
    "n2 = int(input(\"Enter number of elements of 2nd list: \")) \n",
    "list2 = []\n",
    "print(\"Enter Elements: \")\n",
    "for i in range(0, n2): \n",
    "    ele = int(input()) \n",
    "    list2.append(ele) # adding the element \n",
    "print(\"List difference: \",list(set(list1) - set(list2)))"
   ]
  },
  {
   "cell_type": "code",
   "execution_count": 10,
   "metadata": {},
   "outputs": [
    {
     "name": "stdout",
     "output_type": "stream",
     "text": [
      "[1, 2, 3, 0, 'Red', 'Green', 'Black']\n"
     ]
    }
   ],
   "source": [
    "# 13. Write a Python program to append a list to the second list.  \n",
    "list1 = [1, 2, 3, 0]\n",
    "list2 = ['Red', 'Green', 'Black']\n",
    "final_list = list1 + list2\n",
    "print(final_list)"
   ]
  },
  {
   "cell_type": "code",
   "execution_count": 13,
   "metadata": {},
   "outputs": [
    {
     "name": "stdout",
     "output_type": "stream",
     "text": [
      "False\n"
     ]
    }
   ],
   "source": [
    "#14. Write a python program to check whether two lists are circularly identical.\n",
    "list1 = [1, 1, 1, 0, 0]\n",
    "list2 = [1, 1, 0, 0, 1]\n",
    "print(' '.join(map(str, list2)) in ' '.join(map(str, list1 * 2)))"
   ]
  },
  {
   "cell_type": "code",
   "execution_count": 14,
   "metadata": {},
   "outputs": [
    {
     "name": "stdout",
     "output_type": "stream",
     "text": [
      "{'White', 'Green'}\n"
     ]
    }
   ],
   "source": [
    "# 15. Write a Python program to find common items from two lists.  \n",
    "color1 = \"Red\", \"Green\", \"Orange\", \"White\"\n",
    "color2 = \"Black\", \"Green\", \"White\", \"Pink\"\n",
    "print(set(color1) & set(color2))"
   ]
  },
  {
   "cell_type": "code",
   "execution_count": 27,
   "metadata": {},
   "outputs": [
    {
     "name": "stdout",
     "output_type": "stream",
     "text": [
      "a\n",
      "abc\n",
      "\n",
      "a\n",
      "acd\n",
      "\n",
      "p\n",
      "pqr\n",
      "\n",
      "q\n",
      "qrt\n",
      "\n"
     ]
    }
   ],
   "source": [
    "# 16. Write a Python program to split a list based on first character of word.\n",
    "from itertools import groupby\n",
    "\n",
    "somelist=[\"abc\",\"acd\",\"pqr\",\"qrt\"]\n",
    "somelist.sort()\n",
    "for letter, words in groupby(somelist):\n",
    "    for l in letter[:1]:\n",
    "        print(l)\n",
    "    for word in words:\n",
    "        print(word)\n",
    "    print()"
   ]
  },
  {
   "cell_type": "code",
   "execution_count": 28,
   "metadata": {},
   "outputs": [
    {
     "data": {
      "text/plain": [
       "[[1, 2], [3], [4], [5, 6, 2]]"
      ]
     },
     "execution_count": 28,
     "metadata": {},
     "output_type": "execute_result"
    }
   ],
   "source": [
    "k = [[1, 2], [4], [5, 6, 2], [1, 2], [3], [4]]\n",
    "k = sorted(k)\n",
    "dedup = [k[i] for i in range(len(k)) if i == 0 or k[i] != k[i-1]]\n",
    "dedup"
   ]
  },
  {
   "cell_type": "code",
   "execution_count": 30,
   "metadata": {},
   "outputs": [
    {
     "name": "stdout",
     "output_type": "stream",
     "text": [
      "[[1, 2], [4], [5, 6, 2], [3]]\n"
     ]
    }
   ],
   "source": [
    "k = [[1, 2], [4], [5, 6, 2], [1, 2], [3], [4]]\n",
    "new_k = []\n",
    "for elem in k:\n",
    "    if elem not in new_k:\n",
    "        new_k.append(elem)\n",
    "k = new_k\n",
    "print(k)"
   ]
  },
  {
   "cell_type": "code",
   "execution_count": null,
   "metadata": {},
   "outputs": [],
   "source": []
  }
 ],
 "metadata": {
  "kernelspec": {
   "display_name": "Python 3",
   "language": "python",
   "name": "python3"
  },
  "language_info": {
   "codemirror_mode": {
    "name": "ipython",
    "version": 3
   },
   "file_extension": ".py",
   "mimetype": "text/x-python",
   "name": "python",
   "nbconvert_exporter": "python",
   "pygments_lexer": "ipython3",
   "version": "3.7.3"
  }
 },
 "nbformat": 4,
 "nbformat_minor": 2
}
