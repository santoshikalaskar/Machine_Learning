{
 "cells": [
  {
   "cell_type": "code",
   "execution_count": 1,
   "metadata": {
    "ExecuteTime": {
     "end_time": "2019-04-17T07:00:39.337453Z",
     "start_time": "2019-04-17T07:00:39.331845Z"
    }
   },
   "outputs": [
    {
     "name": "stdout",
     "output_type": "stream",
     "text": [
      "array('d', [1.1, 3.5, 4.5])\n",
      "Access items individually\n",
      "1.1\n",
      "3.5\n",
      "4.5\n"
     ]
    }
   ],
   "source": [
    "#--------------- Array-------------#\n",
    "# 1. Write a Python program to create an array of 5 integers and display the array items.Access individual element through indexes.\n",
    "\n",
    "import array as arr\n",
    "a = arr.array('d', [1.1, 3.5, 4.5])\n",
    "print(a)\n",
    "print(\"Access items individually\")\n",
    "b= len(a)\n",
    "for i in range(0, b):\n",
    "    print(a[i])"
   ]
  },
  {
   "cell_type": "code",
   "execution_count": 2,
   "metadata": {
    "ExecuteTime": {
     "end_time": "2019-04-17T07:04:25.206124Z",
     "start_time": "2019-04-17T07:04:25.200885Z"
    }
   },
   "outputs": [
    {
     "name": "stdout",
     "output_type": "stream",
     "text": [
      "Original array:  array('d', [1.1, 3.5, 4.5])\n",
      "Reverse the order of the items: array('d', [4.5, 3.5, 1.1])\n"
     ]
    }
   ],
   "source": [
    "# 2. Write a Python program to reverse the order of the items in the array.\n",
    "import array as arr\n",
    "a = arr.array('d', [1.1, 3.5, 4.5])\n",
    "print(\"Original array: \",a)\n",
    "a.reverse()\n",
    "print(\"Reverse the order of the items:\",a)"
   ]
  },
  {
   "cell_type": "code",
   "execution_count": 23,
   "metadata": {
    "ExecuteTime": {
     "end_time": "2019-04-17T07:10:33.363398Z",
     "start_time": "2019-04-17T07:10:31.102812Z"
    }
   },
   "outputs": [
    {
     "name": "stdout",
     "output_type": "stream",
     "text": [
      "Original array:  array('d', [1.0, 2.0, 3.0, 1.0, 6.0, 2.0, 8.0, 9.0, 2.0, 4.0, 3.0])\n",
      "enter an element to count the number of occurrences: 2\n",
      "total times: 3\n"
     ]
    }
   ],
   "source": [
    "# 3. Write a Python program to get the number of occurrences of a specified element in an array.\n",
    "import array as arr\n",
    "a = arr.array('d', [1, 2, 3, 1, 6, 2, 8, 9, 2, 4, 3])\n",
    "print(\"Original array: \",a)\n",
    "b= int(input(\"enter an element to count the number of occurrences: \"))\n",
    "print(\"total times:\", a.count(b))\n"
   ]
  },
  {
   "cell_type": "code",
   "execution_count": 25,
   "metadata": {
    "ExecuteTime": {
     "end_time": "2019-04-17T07:13:47.414172Z",
     "start_time": "2019-04-17T07:13:44.025394Z"
    }
   },
   "outputs": [
    {
     "name": "stdout",
     "output_type": "stream",
     "text": [
      "Original array:  array('d', [1.0, 2.0, 3.0, 1.0, 6.0, 2.0, 8.0, 9.0, 2.0, 4.0, 3.0])\n",
      "enter an element to remove the first occurrence: 6\n",
      "After Removed:  array('d', [1.0, 2.0, 3.0, 1.0, 2.0, 8.0, 9.0, 2.0, 4.0, 3.0])\n"
     ]
    }
   ],
   "source": [
    "# 4. Write a Python program to remove the first occurrence of a specified element from an array.\n",
    "import array as arr\n",
    "a = arr.array('d', [1, 2, 3, 1, 6, 2, 8, 9, 2, 4, 3])\n",
    "print(\"Original array: \",a)\n",
    "b= int(input(\"enter an element to remove the first occurrence: \"))\n",
    "a.remove(b)\n",
    "print(\"After Removed: \",a)"
   ]
  },
  {
   "cell_type": "code",
   "execution_count": null,
   "metadata": {
    "ExecuteTime": {
     "end_time": "2019-04-17T07:25:21.012713Z",
     "start_time": "2019-04-17T07:25:21.003757Z"
    }
   },
   "outputs": [],
   "source": []
  },
  {
   "cell_type": "code",
   "execution_count": null,
   "metadata": {
    "ExecuteTime": {
     "end_time": "2019-04-17T07:32:47.251531Z",
     "start_time": "2019-04-17T07:32:47.246706Z"
    }
   },
   "outputs": [],
   "source": []
  },
  {
   "cell_type": "code",
   "execution_count": null,
   "metadata": {},
   "outputs": [],
   "source": []
  }
 ],
 "metadata": {
  "kernelspec": {
   "display_name": "Python 3",
   "language": "python",
   "name": "python3"
  },
  "language_info": {
   "codemirror_mode": {
    "name": "ipython",
    "version": 3
   },
   "file_extension": ".py",
   "mimetype": "text/x-python",
   "name": "python",
   "nbconvert_exporter": "python",
   "pygments_lexer": "ipython3",
   "version": "3.7.3"
  }
 },
 "nbformat": 4,
 "nbformat_minor": 2
}
