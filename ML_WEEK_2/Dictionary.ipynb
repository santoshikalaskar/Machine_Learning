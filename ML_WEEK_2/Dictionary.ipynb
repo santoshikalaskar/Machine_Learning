{
 "cells": [
  {
   "cell_type": "code",
   "execution_count": 11,
   "metadata": {},
   "outputs": [
    {
     "name": "stdout",
     "output_type": "stream",
     "text": [
      "Ascending order :\n",
      "[('d', 2), ('c', 4), ('a', 12), ('b', 13), ('e', 20)]\n",
      "Descending order\n",
      "[('e', 20), ('b', 13), ('a', 12), ('c', 4), ('d', 2)]\n"
     ]
    }
   ],
   "source": [
    "#--------------- Dictionary-------------#\n",
    "# 1. Write a Python script to sort (ascending and descending) a dictionary by value.\n",
    "a1 = {'a':12, 'b':13, 'c':4, 'd':2, 'e':30, 'e':31, 'e':20}\n",
    "a1_sorted_asc = sorted(a1.items(), key = lambda t: t[1])\n",
    "a1_sorted_desc = sorted(a1.items(), key = lambda t: t[1], reverse=True)\n",
    "print(\"Ascending order By Value:\")\n",
    "print(a1_sorted_asc)\n",
    "print(\"Descending order By Value: \")\n",
    "print(a1_sorted_desc)"
   ]
  },
  {
   "cell_type": "code",
   "execution_count": 4,
   "metadata": {},
   "outputs": [
    {
     "name": "stdout",
     "output_type": "stream",
     "text": [
      "Original dictionary. {'a': 12, 'b': 13, 'c': 4}\n",
      "Updated dictionary. {'a': 12, 'b': 13, 'c': 4, 'd': 2}\n"
     ]
    }
   ],
   "source": [
    "# 2. Write a Python script to add a key to a dictionary.\n",
    "a1 = {'a':12, 'b':13, 'c':4}\n",
    "print(\"Original dictionary.\",a1)\n",
    "a1.update({'d':2})\n",
    "print(\"Updated dictionary.\",a1)"
   ]
  },
  {
   "cell_type": "code",
   "execution_count": 13,
   "metadata": {},
   "outputs": [
    {
     "name": "stdout",
     "output_type": "stream",
     "text": [
      "Updated Dictionary:  {1: 10, 2: 20, 3: 30, 4: 40, 5: 50, 6: 60}\n"
     ]
    }
   ],
   "source": [
    "# 3.. Write a Python script to concatenate following dictionaries to create a new one.\n",
    "dic1={1:10, 2:20}\n",
    "dic2={3:30, 4:40}\n",
    "dic3={5:50,6:60}\n",
    "dic4 = {}\n",
    "for d in (dic1, dic2, dic3): \n",
    "    dic4.update(d)\n",
    "print(\"Updated Dictionary: \",dic4)"
   ]
  },
  {
   "cell_type": "code",
   "execution_count": 2,
   "metadata": {},
   "outputs": [
    {
     "name": "stdout",
     "output_type": "stream",
     "text": [
      "Red corresponds to  1\n",
      "Green corresponds to  2\n",
      "Blue corresponds to  3\n"
     ]
    }
   ],
   "source": [
    "# 4. Write a Python program to iterate over dictionaries using for loops.\n",
    "d = {'Red': 1, 'Green': 2, 'Blue': 3} \n",
    "for color_key, value in d.items():\n",
    "     print(color_key, 'corresponds to ', d[color_key]) "
   ]
  },
  {
   "cell_type": "code",
   "execution_count": 16,
   "metadata": {},
   "outputs": [
    {
     "name": "stdout",
     "output_type": "stream",
     "text": [
      "Input a number 5\n",
      "Square no:  {1: 1, 2: 4, 3: 9, 4: 16, 5: 25}\n"
     ]
    }
   ],
   "source": [
    "# 5. Write a Python script to generate and print a dictionary that contains a number (between 1 and n) in the form (x, x*x).\n",
    "\n",
    "n=int(input(\"Input a number \"))\n",
    "d = dict()\n",
    "for x in range(1,n+1):\n",
    "    d[x]=x*x\n",
    "print(\"Square no: \", d) "
   ]
  },
  {
   "cell_type": "code",
   "execution_count": 20,
   "metadata": {},
   "outputs": [
    {
     "name": "stdout",
     "output_type": "stream",
     "text": [
      "Updated Dictionary : {'Hello': 56, 'Everyone': 23, 'Have': 43, 'a': 43, 'Day': 45}\n"
     ]
    }
   ],
   "source": [
    "#6. Write a Python program to remove a key from a dictionary.\n",
    "\n",
    "wordFreqDic = {\"Hello\": 56,\"Everyone\" : 23 ,\"Have\" : 43,\"a\" : 43,\"Good\" : 21,\"Day\" : 45}\n",
    "if \"Good\" in wordFreqDic:\n",
    "    del wordFreqDic[\"Good\"]\n",
    "print(\"Updated Dictionary :\" , wordFreqDic)  "
   ]
  },
  {
   "cell_type": "code",
   "execution_count": 22,
   "metadata": {},
   "outputs": [
    {
     "name": "stdout",
     "output_type": "stream",
     "text": [
      "{56, 45, 43, 21}\n"
     ]
    }
   ],
   "source": [
    "#7. Write a Python program to print all unique values in a dictionary.\n",
    "\n",
    "wordFreqDic = {\"Hello\": 56,\"Everyone\" : 43 ,\"Have\" : 43,\"a\" : 43,\"Good\" : 21,\"Day\" : 45}\n",
    "uniqueValues = set(wordFreqDic.values())\n",
    "print(uniqueValues)"
   ]
  },
  {
   "cell_type": "code",
   "execution_count": 32,
   "metadata": {},
   "outputs": [
    {
     "name": "stdout",
     "output_type": "stream",
     "text": [
      "The count of all characters in GOODMORNING is :\n",
      " {'M': 1, 'N': 2, 'O': 3, 'D': 1, 'I': 1, 'G': 2, 'R': 1}\n"
     ]
    }
   ],
   "source": [
    "# 8. Write a Python program to create a dictionary from a string.\n",
    "\n",
    "test_str = \"GOODMORNING\"\n",
    "\n",
    "res = {i : test_str.count(i) for i in set(test_str)} \n",
    "print (\"The count of all characters in GOODMORNING is :\\n \"+  str(res)) "
   ]
  },
  {
   "cell_type": "code",
   "execution_count": 37,
   "metadata": {},
   "outputs": [
    {
     "name": "stdout",
     "output_type": "stream",
     "text": [
      "C1 C2 C3\n",
      "1 5 9\n",
      "2 6 10\n",
      "3 7 11\n"
     ]
    }
   ],
   "source": [
    "# 9.Write a Python program to print a dictionary in table format.\n",
    "my_dict = {'C1':[1,2,3],'C2':[5,6,7],'C3':[9,10,11]}\n",
    "for row in zip(*([key] + (value) for key, value in sorted(my_dict.items()))):\n",
    "    print(*row)"
   ]
  },
  {
   "cell_type": "code",
   "execution_count": 41,
   "metadata": {},
   "outputs": [
    {
     "name": "stdout",
     "output_type": "stream",
     "text": [
      "Value count:  3\n"
     ]
    }
   ],
   "source": [
    "# 10. Write a Python program to count the values associated with key in a dictionary.\n",
    "student = [{'id': 1, 'success': True, 'name': 'Lary'},\n",
    " {'id': 2, 'success': False, 'name': 'Rabi'},\n",
    " {'id': 3, 'success': True, 'name': 'Alex'},\n",
    "  {'id': 4, 'success': True, 'name': 'santa'}]\n",
    "print(\"Value count: \",sum(d['success'] for d in student))"
   ]
  },
  {
   "cell_type": "code",
   "execution_count": 54,
   "metadata": {},
   "outputs": [
    {
     "name": "stdout",
     "output_type": "stream",
     "text": [
      "{1: {2: {3: {4: {}}}}}\n"
     ]
    }
   ],
   "source": [
    "# 11.Write a Python program to convert a list into a nested dictionary of keys.\n",
    "num_list = [1, 2, 3, 4]\n",
    "new_dict = current = {}\n",
    "for name in num_list:\n",
    "    current[name] = {}\n",
    "    current = current[name]\n",
    "    new_dict.update(current)\n",
    "print(new_dict)\n"
   ]
  },
  {
   "cell_type": "code",
   "execution_count": 56,
   "metadata": {},
   "outputs": [
    {
     "name": "stdout",
     "output_type": "stream",
     "text": [
      "True\n",
      "False\n"
     ]
    }
   ],
   "source": [
    "# 12. Write a Python program to check multiple keys exists in a dictionary.\n",
    "\n",
    "sports = {\"santoshi\" : 1, \"rajesh\" : 2, \"kalaskar\" :3} \n",
    "s1 = set(['santoshi', 'kalaskar']) \n",
    "s2 = set(['santoshi', 'Bridgelabz']) \n",
    "print(s1.issubset(sports.keys())) \n",
    "print(s2.issubset(sports.keys())) "
   ]
  },
  {
   "cell_type": "code",
   "execution_count": 88,
   "metadata": {},
   "outputs": [
    {
     "name": "stdout",
     "output_type": "stream",
     "text": [
      " number of items in a dictionary value that is a list:  4\n"
     ]
    }
   ],
   "source": [
    "# 13. Write a Python program to count number of items in a dictionary value that is a list.\n",
    "\n",
    "d = { 'A' : [1, 2], \n",
    "'B' : 34, \n",
    "'C' : 12, \n",
    "'D' : [74,20] } \n",
    "count = 0\n",
    "for key, value in d.items(): \n",
    "    if isinstance(value, list):\n",
    "        count += len(value)\n",
    "print(\" number of items in a dictionary value that is a list: \",count) "
   ]
  },
  {
   "cell_type": "code",
   "execution_count": null,
   "metadata": {},
   "outputs": [],
   "source": []
  },
  {
   "cell_type": "code",
   "execution_count": null,
   "metadata": {},
   "outputs": [],
   "source": []
  }
 ],
 "metadata": {
  "kernelspec": {
   "display_name": "Python 3",
   "language": "python",
   "name": "python3"
  },
  "language_info": {
   "codemirror_mode": {
    "name": "ipython",
    "version": 3
   },
   "file_extension": ".py",
   "mimetype": "text/x-python",
   "name": "python",
   "nbconvert_exporter": "python",
   "pygments_lexer": "ipython3",
   "version": "3.7.3"
  }
 },
 "nbformat": 4,
 "nbformat_minor": 2
}
