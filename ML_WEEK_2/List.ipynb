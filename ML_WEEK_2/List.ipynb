{
 "cells": [
  {
   "cell_type": "code",
   "execution_count": 1,
   "metadata": {},
   "outputs": [],
   "source": [
    "def validateint1():\n",
    "    while True:\n",
    "        number = input(\"Enter a number: \")\n",
    "        try:\n",
    "            val = int(number)\n",
    "            if val < 0:  # if not a positive int print message and ask for input again\n",
    "                print(\"Sorry, input must be a positive integer, try again\")\n",
    "                continue\n",
    "            break\n",
    "        except ValueError:\n",
    "            print(\"That's not an int!\")     \n",
    "    # else all is good, val is >=  0 and an integer\n",
    "    return val"
   ]
  },
  {
   "cell_type": "code",
   "execution_count": 9,
   "metadata": {},
   "outputs": [
    {
     "ename": "SyntaxError",
     "evalue": "'continue' not properly in loop (<ipython-input-9-f77f3bd5993d>, line 8)",
     "output_type": "error",
     "traceback": [
      "\u001b[1;36m  File \u001b[1;32m\"<ipython-input-9-f77f3bd5993d>\"\u001b[1;36m, line \u001b[1;32m8\u001b[0m\n\u001b[1;31mSyntaxError\u001b[0m\u001b[1;31m:\u001b[0m 'continue' not properly in loop\n"
     ]
    }
   ],
   "source": [
    "def stringvalidation():\n",
    "    name=str(input())\n",
    "    if not name.isalpha():\n",
    "        print(\"sorry! input consist of letters only\")\n",
    "        continue\n",
    "    else:\n",
    "        return name"
   ]
  },
  {
   "cell_type": "code",
   "execution_count": 3,
   "metadata": {},
   "outputs": [],
   "source": [
    "def validateint2():\n",
    "    while True:\n",
    "        number = input(\"Enter a number: \")\n",
    "        try:\n",
    "            val = int(number)\n",
    "            break\n",
    "        except ValueError:\n",
    "            print(\"That's not an int!\")     \n",
    "    # else all is good, val is >=  0 and an integer\n",
    "    return val"
   ]
  },
  {
   "cell_type": "code",
   "execution_count": 4,
   "metadata": {},
   "outputs": [],
   "source": [
    "def validateint(number):\n",
    "    try:\n",
    "        val = int(number)\n",
    "        return True\n",
    "    except ValueError:\n",
    "        return False"
   ]
  },
  {
   "cell_type": "code",
   "execution_count": 8,
   "metadata": {},
   "outputs": [],
   "source": [
    "def stringvalidation1(str1):\n",
    "    if not str1.isalpha():\n",
    "        return False\n",
    "    else:\n",
    "        return True"
   ]
  },
  {
   "cell_type": "code",
   "execution_count": 11,
   "metadata": {},
   "outputs": [
    {
     "name": "stdout",
     "output_type": "stream",
     "text": [
      "Enter number of array elements for sum\n",
      "Enter a number: -2\n",
      "Sorry, input must be a positive integer, try again\n",
      "Enter a number: 2\n",
      "Array Elements: \n",
      "Enter a number: san\n",
      "That's not an int!\n",
      "Enter a number: -2\n",
      "Enter a number: -3\n",
      "sum =  -5\n"
     ]
    }
   ],
   "source": [
    "#1. Write a Python program to sum all the items in a list.\n",
    "\n",
    "print(\"Enter number of elements for sum\")\n",
    "n=validateint1()\n",
    "l=[]\n",
    "print(\"Array Elements: \")\n",
    "for i in range(n):\n",
    "    x= validateint2()\n",
    "    l.append(x)\n",
    "s=0\n",
    "for x in l:\n",
    "    s=s+x\n",
    "print(\"sum = \",s)"
   ]
  },
  {
   "cell_type": "code",
   "execution_count": 20,
   "metadata": {},
   "outputs": [
    {
     "name": "stdout",
     "output_type": "stream",
     "text": [
      "Enter number of array elements for multiplication\n",
      "Enter a number: -2\n",
      "Sorry, input must be a positive integer, try again\n",
      "Enter a number: 2\n",
      "Array Elements: \n",
      "Enter a number: s\n",
      "That's not an int!\n",
      "Enter a number: -2\n",
      "Enter a number: 2\n",
      "Result of multiplication =  -4\n"
     ]
    }
   ],
   "source": [
    "# 2 Write a Python program to multiplies all the items in a list.\n",
    "print(\"Enter number of  elements for multiplication\")\n",
    "n=validateint1()\n",
    "l=[]\n",
    "print(\"Array Elements: \")\n",
    "for i in range(n):\n",
    "    x= validateint2()\n",
    "    l.append(x)\n",
    "s=1\n",
    "for x in l:\n",
    "    s=s*x\n",
    "print(\"Result of multiplication = \",s)"
   ]
  },
  {
   "cell_type": "code",
   "execution_count": 21,
   "metadata": {},
   "outputs": [
    {
     "name": "stdout",
     "output_type": "stream",
     "text": [
      "Enter number of array elements to get the smallest number\n",
      "Enter a number: -2\n",
      "Sorry, input must be a positive integer, try again\n",
      "Enter a number: san\n",
      "That's not an int!\n",
      "Enter a number: 2\n",
      "Array Elements: \n",
      "Enter a number: -2\n",
      "Enter a number: -3\n",
      "Smallest element is: -3\n"
     ]
    }
   ],
   "source": [
    "# 3. Write a Python program to get the smallest number from a list.\n",
    "print(\"Enter number of elements to get the smallest number\")\n",
    "n=validateint1()\n",
    "l=[]\n",
    "print(\"List Elements: \")\n",
    "for i in range(n):\n",
    "    x= validateint2()\n",
    "    l.append(x)\n",
    "l.sort()  \n",
    "print(\"Smallest element is:\", *l[:1]) "
   ]
  },
  {
   "cell_type": "code",
   "execution_count": 13,
   "metadata": {
    "scrolled": true
   },
   "outputs": [
    {
     "name": "stdout",
     "output_type": "stream",
     "text": [
      "Enter number of elements to count the number of valid string\n",
      "Enter a number: 2\n",
      "List Elements: \n",
      "sa\n",
      "sas\n",
      "Total String:  1\n"
     ]
    }
   ],
   "source": [
    "# 4. Write a Python program to count the number of strings where the string length is 2 or more and the first and last character are same from a given list of strings\n",
    "print(\"Enter number of elements to count the number of valid string\")\n",
    "n=validateint1()\n",
    "l=[]\n",
    "print(\"List Elements: \")\n",
    "for i in range(n):\n",
    "        x= input()\n",
    "        l.append(x)\n",
    "ctr = 0\n",
    "for w in l:\n",
    "    if len(w) > 1 and w[0] == w[-1]:\n",
    "        ctr +=1\n",
    "print(\"Total String: \",ctr)\n"
   ]
  },
  {
   "cell_type": "code",
   "execution_count": 27,
   "metadata": {},
   "outputs": [
    {
     "name": "stdout",
     "output_type": "stream",
     "text": [
      "[('akash', 5), ('rishav', 10), ('gaurav', 15), ('ram', 20)]\n"
     ]
    }
   ],
   "source": [
    "# 5. Write a Python program to get a list, sorted in increasing order by the last element in each tuple from a given list of non-empty tuples.\n",
    "\n",
    "tup = [('rishav', 10), ('akash', 5), ('ram', 20), ('gaurav', 15)]\n",
    "tup.sort(key=lambda x:x[1])\n",
    "print(\"Assending order of tuple is: \",tup) "
   ]
  },
  {
   "cell_type": "code",
   "execution_count": 1,
   "metadata": {},
   "outputs": [
    {
     "name": "stdout",
     "output_type": "stream",
     "text": [
      "Unique Items: \n",
      "{40, 10, 80, 50, 20, 60, 30}\n"
     ]
    }
   ],
   "source": [
    "# 6. Write a Python program to remove duplicates from a list.\n",
    "a = [10,20,30,20,10,50,60,40,80,50,40]\n",
    "\n",
    "dup_items = set()\n",
    "\n",
    "for x in a:\n",
    "    if x not in dup_items:\n",
    "        dup_items.add(x)\n",
    "print(\"Unique Items: \")\n",
    "print(dup_items)"
   ]
  },
  {
   "cell_type": "code",
   "execution_count": 31,
   "metadata": {},
   "outputs": [
    {
     "name": "stdout",
     "output_type": "stream",
     "text": [
      "Original List: [4, 8, 2, 10, 15, 18]\n",
      "After Cloning: [4, 8, 2, 10, 15, 18]\n"
     ]
    }
   ],
   "source": [
    "#7. Write a Python program to clone or copy a list. \n",
    "li1 = [4, 8, 2, 10, 15, 18] \n",
    "li2 = li1.copy() \n",
    "print(\"Original List:\", li1) \n",
    "print(\"After Cloning:\", li2)\n"
   ]
  },
  {
   "cell_type": "code",
   "execution_count": 17,
   "metadata": {},
   "outputs": [
    {
     "name": "stdout",
     "output_type": "stream",
     "text": [
      "Enter a value to check length of string: \n",
      "Enter a number: -2\n",
      "Sorry, input must be a positive integer, try again\n",
      "Enter a number: 2\n",
      "enter string as a list of words:Machine Learning Technology is best for future work.\n",
      "Elements which is greater than  2  is :\n",
      "['Machine', 'Learning', 'Technology', 'best', 'for', 'future', 'work.']\n"
     ]
    }
   ],
   "source": [
    "# 8. Write a Python program to find the list of words that are longer than n from a given list of words.\n",
    "print(\"Enter a value to check length of string: \")\n",
    "n=validateint1()\n",
    "str = input(\"enter string as a list of words:\")\n",
    "word_len = []\n",
    "txt = str.split(\" \")\n",
    "for x in txt:\n",
    "    if len(x) > n:\n",
    "        word_len.append(x)\n",
    "print(\"Elements which is greater than \", n, \" is :\")\n",
    "print(word_len)"
   ]
  },
  {
   "cell_type": "code",
   "execution_count": 20,
   "metadata": {},
   "outputs": [
    {
     "name": "stdout",
     "output_type": "stream",
     "text": [
      "is Comman:  True\n",
      "is Comman:  None\n"
     ]
    }
   ],
   "source": [
    "#9. Write a Python function that takes two lists and returns True if they have at least one common member.  \n",
    "def common_data(list1, list2):\n",
    "    result = False\n",
    "    for x in list1:\n",
    "         for y in list2:\n",
    "                if x == y:\n",
    "                    result = True\n",
    "                    return result\n",
    "print(\"is Comman: \",common_data([1,2,3,4,5], [5,6,7,8,9]))\n",
    "print(\"is Comman: \",common_data([1,2,3,4,5], [6,7,8,9]))\n"
   ]
  },
  {
   "cell_type": "code",
   "execution_count": 23,
   "metadata": {},
   "outputs": [
    {
     "name": "stdout",
     "output_type": "stream",
     "text": [
      "original list:  [10, 20, 30, 40, 50, 60, 70]\n",
      "List after Removing elements in specific position: \n",
      "[20, 30, 40, 70]\n"
     ]
    }
   ],
   "source": [
    "# 10. Write a Python program to print a specified list after removing the 0th, 4th and 5th elements.  \n",
    "def remove(list1, pos):\n",
    "    newlist = []\n",
    "    for x in range(len(list1)):\n",
    "        if x not in pos:\n",
    "            newlist.append(list1[x])\n",
    "    print(newlist) \n",
    "\n",
    "list1 = [10, 20, 30, 40, 50,60,70] \n",
    "print(\"original list: \",list1)\n",
    "pos = [0,4,5]\n",
    "print(\"List after Removing elements in specific position: \")\n",
    "remove(list1, pos) "
   ]
  },
  {
   "cell_type": "code",
   "execution_count": 24,
   "metadata": {},
   "outputs": [
    {
     "name": "stdout",
     "output_type": "stream",
     "text": [
      "original list:  [1, 2, 3]\n",
      "Permutation of List: \n",
      "(1, 2)\n",
      "(1, 3)\n",
      "(2, 1)\n",
      "(2, 3)\n",
      "(3, 1)\n",
      "(3, 2)\n"
     ]
    }
   ],
   "source": [
    "# 11. Write a Python program to generate all permutations of a list in Python.  \n",
    "\n",
    "from itertools import permutations\n",
    "l=[1, 2, 3]\n",
    "print(\"original list: \",l)\n",
    "perm = permutations(l, 2) \n",
    "print(\"Permutation of List: \")\n",
    "for i in perm:\n",
    "    print(i)"
   ]
  },
  {
   "cell_type": "code",
   "execution_count": 25,
   "metadata": {},
   "outputs": [
    {
     "name": "stdout",
     "output_type": "stream",
     "text": [
      "Enter number of elements of 1st list: \n",
      "Enter a number: -2\n",
      "Sorry, input must be a positive integer, try again\n",
      "Enter a number: 3\n",
      "Enter Elements: \n",
      "1\n",
      "2\n",
      "3\n",
      "Enter number of elements of 2nd list: \n",
      "Enter a number: -2\n",
      "Sorry, input must be a positive integer, try again\n",
      "Enter a number: 2\n",
      "Enter Elements: \n",
      "2\n",
      "3\n",
      "List difference:  [1]\n"
     ]
    }
   ],
   "source": [
    "#12. Write a Python program to get the difference between the two lists.\n",
    "print(\"Enter number of elements of 1st list: \")\n",
    "n1=validateint1()\n",
    "list1 = []\n",
    "print(\"Enter Elements: \")\n",
    "for i in range(0, n1): \n",
    "    ele = int(input()) \n",
    "    list1.append(ele) # adding the element \n",
    "print(\"Enter number of elements of 2nd list: \")\n",
    "n2=validateint1()\n",
    "list2 = []\n",
    "print(\"Enter Elements: \")\n",
    "for i in range(0, n2): \n",
    "    ele = int(input()) \n",
    "    list2.append(ele) # adding the element \n",
    "print(\"List difference: \",list(set(list1) - set(list2)))"
   ]
  },
  {
   "cell_type": "code",
   "execution_count": 26,
   "metadata": {},
   "outputs": [
    {
     "name": "stdout",
     "output_type": "stream",
     "text": [
      "Appended List: \n",
      "[1, 2, 3, 0, 'Red', 'Green', 'Black']\n"
     ]
    }
   ],
   "source": [
    "# 13. Write a Python program to append a list to the second list.  \n",
    "list1 = [1, 2, 3, 0]\n",
    "list2 = ['Red', 'Green', 'Black']\n",
    "final_list = list1 + list2\n",
    "print(\"Appended List: \")\n",
    "print(final_list)"
   ]
  },
  {
   "cell_type": "code",
   "execution_count": 3,
   "metadata": {},
   "outputs": [
    {
     "name": "stdout",
     "output_type": "stream",
     "text": [
      "is List circularly identical? : True\n"
     ]
    }
   ],
   "source": [
    "#14. Write a python program to check whether two lists are circularly identical.\n",
    "list1 = [1, 1, 1, 0, 0]\n",
    "list2 = [1, 1, 0, 0, 1]\n",
    "\n",
    "print(\"is List circularly identical? :\",' '.join(map(str, list2)) in ' '.join(map(str, list1 * 2)))"
   ]
  },
  {
   "cell_type": "code",
   "execution_count": 6,
   "metadata": {},
   "outputs": [
    {
     "name": "stdout",
     "output_type": "stream",
     "text": [
      "Common items from two lists:  {'White', 'Green'}\n"
     ]
    }
   ],
   "source": [
    "# 15. Write a Python program to find common items from two lists.  \n",
    "color1 = [\"Red\", \"Green\", \"Orange\", \"White\"]\n",
    "color2 = [\"Black\", \"Green\", \"White\", \"Pink\"]\n",
    "print(\"Common items from two lists: \",set(color1) & set(color2))"
   ]
  },
  {
   "cell_type": "code",
   "execution_count": 17,
   "metadata": {},
   "outputs": [
    {
     "name": "stdout",
     "output_type": "stream",
     "text": [
      "b : \n",
      "be\n",
      "c : \n",
      "call\n",
      "d : \n",
      "do\n",
      "f : \n",
      "feel\n",
      "h : \n",
      "have\n",
      "l : \n",
      "leave\n",
      "s : \n",
      "say\n",
      "seem\n"
     ]
    }
   ],
   "source": [
    "# 16. Write a Python program to split a list based on first character of word.\n",
    "from itertools import groupby\n",
    "from operator import itemgetter\n",
    "\n",
    "word_list = ['be','have','do','say','seem','feel','leave','call']\n",
    "\n",
    "for letter, words in groupby(sorted(word_list), key=itemgetter(0)):\n",
    "    print(letter,\": \")\n",
    "    for word in words:\n",
    "        print(word)\n"
   ]
  },
  {
   "cell_type": "code",
   "execution_count": 22,
   "metadata": {},
   "outputs": [
    {
     "name": "stdout",
     "output_type": "stream",
     "text": [
      "new list:  [[1, 2], [4], [5, 6, 2], [3]]\n"
     ]
    }
   ],
   "source": [
    "# 17. Write a Python program to remove duplicates from a list of lists.\n",
    "k = [[1, 2], [4], [5, 6, 2], [1, 2], [3], [4]]\n",
    "new_k = []\n",
    "for elem in k:\n",
    "    if elem not in new_k:\n",
    "        new_k.append(elem)\n",
    "k = new_k\n",
    "print(\"new list: \",k)"
   ]
  },
  {
   "cell_type": "code",
   "execution_count": 24,
   "metadata": {},
   "outputs": [
    {
     "data": {
      "text/plain": [
       "[[1, 2], [3], [4], [5, 6, 2]]"
      ]
     },
     "execution_count": 24,
     "metadata": {},
     "output_type": "execute_result"
    }
   ],
   "source": [
    "# or...\n",
    "k = [[1, 2], [4], [5, 6, 2], [1, 2], [3], [4]]\n",
    "k = sorted(k)\n",
    "dedup = [k[i] for i in range(len(k)) if i == 0 or k[i] != k[i-1]]\n",
    "dedup"
   ]
  }
 ],
 "metadata": {
  "kernelspec": {
   "display_name": "Python 3",
   "language": "python",
   "name": "python3"
  },
  "language_info": {
   "codemirror_mode": {
    "name": "ipython",
    "version": 3
   },
   "file_extension": ".py",
   "mimetype": "text/x-python",
   "name": "python",
   "nbconvert_exporter": "python",
   "pygments_lexer": "ipython3",
   "version": "3.7.3"
  }
 },
 "nbformat": 4,
 "nbformat_minor": 2
}
