{
 "cells": [
  {
   "cell_type": "code",
   "execution_count": 4,
   "metadata": {},
   "outputs": [],
   "source": [
    "def validateint2():\n",
    "    while True:\n",
    "        number = input(\"Enter a number: \")\n",
    "        try:\n",
    "            val = int(number)\n",
    "            break\n",
    "        except ValueError:\n",
    "            print(\"That's not an int!\")     \n",
    "    # else all is good, val is >=  0 and an integer\n",
    "    return val"
   ]
  },
  {
   "cell_type": "code",
   "execution_count": 5,
   "metadata": {},
   "outputs": [
    {
     "name": "stdout",
     "output_type": "stream",
     "text": [
      "{0, 1, 2, 3, 4, 5}\n"
     ]
    }
   ],
   "source": [
    "\n",
    "# 1. Write a Python program to create a set.\n",
    "n = set([0, 1, 2, 3, 4, 5,5])\n",
    "print(n)"
   ]
  },
  {
   "cell_type": "code",
   "execution_count": 5,
   "metadata": {},
   "outputs": [
    {
     "name": "stdout",
     "output_type": "stream",
     "text": [
      "0\n",
      "1\n",
      "2\n",
      "3\n",
      "4\n",
      "5\n"
     ]
    }
   ],
   "source": [
    "# 2. Write a Python program to iteration over sets.\n",
    "num_set = set([0, 1, 2, 3, 4, 5,5])\n",
    "for n in num_set:\n",
    "    print(n)"
   ]
  },
  {
   "cell_type": "code",
   "execution_count": 6,
   "metadata": {},
   "outputs": [
    {
     "name": "stdout",
     "output_type": "stream",
     "text": [
      "{'Red'}\n",
      "{'Green', 'Red', 'Blue'}\n"
     ]
    }
   ],
   "source": [
    "# 3. Write a Python program to add member(s) in a set.\n",
    "color_set = set()\n",
    "color_set.add(\"Red\")\n",
    "print(color_set)\n",
    "color_set.update([\"Blue\", \"Green\"])\n",
    "print(color_set)"
   ]
  },
  {
   "cell_type": "code",
   "execution_count": 7,
   "metadata": {},
   "outputs": [
    {
     "name": "stdout",
     "output_type": "stream",
     "text": [
      "{1, 2, 3, 4, 5}\n",
      "{2, 3, 4, 5}\n"
     ]
    }
   ],
   "source": [
    "# 4. Write a Python program to remove item(s) from set\n",
    "num_set = set([0, 1, 2, 3, 4, 5])\n",
    "num_set.pop()\n",
    "print(num_set)\n",
    "num_set.pop()\n",
    "print(num_set)"
   ]
  },
  {
   "cell_type": "code",
   "execution_count": 13,
   "metadata": {},
   "outputs": [
    {
     "name": "stdout",
     "output_type": "stream",
     "text": [
      "original set: {0, 1, 2, 3, 4, 5}\n",
      "Enter number from set to remove\n",
      "Enter a number: -5\n",
      "key not found\n"
     ]
    }
   ],
   "source": [
    "# 5. Write a Python program to remove an item from a set if it is present in the set.\n",
    "num_set = set([0, 1, 2, 3, 4, 5])\n",
    "print(\"original set:\",num_set)\n",
    "print(\"Enter number from set to remove\")\n",
    "n=validateint2()\n",
    "try:\n",
    "    num_set.remove(n)\n",
    "    print(num_set)\n",
    "except KeyError:\n",
    "    print(\"key not found\")"
   ]
  },
  {
   "cell_type": "code",
   "execution_count": 12,
   "metadata": {},
   "outputs": [
    {
     "name": "stdout",
     "output_type": "stream",
     "text": [
      "intersection:  {'blue'}\n"
     ]
    }
   ],
   "source": [
    "# 6. Write a Python program to create an intersection of sets.\n",
    "setx = set([\"green\", \"blue\"])\n",
    "sety = set([\"blue\", \"yellow\"])\n",
    "setz = setx & sety\n",
    "print(\"intersection: \",setz)\n"
   ]
  },
  {
   "cell_type": "code",
   "execution_count": 11,
   "metadata": {},
   "outputs": [
    {
     "name": "stdout",
     "output_type": "stream",
     "text": [
      "{'green', 'blue', 'yellow'}\n"
     ]
    }
   ],
   "source": [
    "# 7. Write a Python program to create a union of sets.\n",
    "setx = set([\"green\", \"blue\"])\n",
    "sety = set([\"blue\", \"yellow\"])\n",
    "seta = setx | sety\n",
    "print (\"Uninon: \",seta)"
   ]
  },
  {
   "cell_type": "code",
   "execution_count": 18,
   "metadata": {},
   "outputs": [
    {
     "name": "stdout",
     "output_type": "stream",
     "text": [
      "setx.difference(sety):  {'green'}\n",
      "sety.difference(setx):  {'yellow'}\n"
     ]
    }
   ],
   "source": [
    "# 8. Write a Python program to create set difference.\n",
    "setx = set([\"green\", \"blue\"])\n",
    "sety = set([\"blue\", \"yellow\"])\n",
    "setz = setx.difference(sety)\n",
    "print(\"setx.difference(sety): \",setz)\n",
    "setb = sety.difference(setx)\n",
    "print(\"sety.difference(setx): \",setb)\n"
   ]
  },
  {
   "cell_type": "code",
   "execution_count": 22,
   "metadata": {},
   "outputs": [
    {
     "name": "stdout",
     "output_type": "stream",
     "text": [
      "A =  {'c', 'd', 'a'}\n",
      "B =  {'c', 'e', 'd'}\n",
      "result =  {'e', 'a'}\n"
     ]
    }
   ],
   "source": [
    "# 9. Write a Python program to create a symmetric difference.\n",
    "A = {'a', 'c', 'd'}\n",
    "B = {'c', 'd', 'e' }\n",
    "\n",
    "result= A.symmetric_difference(B)\n",
    "print('A = ', A)\n",
    "print('B = ', B)\n",
    "print('result = ', result)\n"
   ]
  },
  {
   "cell_type": "code",
   "execution_count": 20,
   "metadata": {},
   "outputs": [
    {
     "name": "stdout",
     "output_type": "stream",
     "text": [
      "set()\n"
     ]
    }
   ],
   "source": [
    "# 10. Write a Python program to clear a set.\n",
    "setx = set([\"green\", \"blue\"])\n",
    "sete = setx.copy()\n",
    "sete.clear()\n",
    "print(sete)"
   ]
  },
  {
   "cell_type": "code",
   "execution_count": 23,
   "metadata": {},
   "outputs": [
    {
     "name": "stdout",
     "output_type": "stream",
     "text": [
      "False\n",
      "frozenset({1, 2})\n",
      "frozenset({1, 2, 3, 4, 5, 6, 7})\n"
     ]
    },
    {
     "ename": "AttributeError",
     "evalue": "'frozenset' object has no attribute 'add'",
     "output_type": "error",
     "traceback": [
      "\u001b[1;31m---------------------------------------------------------------------------\u001b[0m",
      "\u001b[1;31mAttributeError\u001b[0m                            Traceback (most recent call last)",
      "\u001b[1;32m<ipython-input-23-288f07f5707f>\u001b[0m in \u001b[0;36m<module>\u001b[1;34m\u001b[0m\n\u001b[0;32m      8\u001b[0m \u001b[1;31m#new set with elements from both x and y\u001b[0m\u001b[1;33m\u001b[0m\u001b[1;33m\u001b[0m\u001b[1;33m\u001b[0m\u001b[0m\n\u001b[0;32m      9\u001b[0m \u001b[0mprint\u001b[0m\u001b[1;33m(\u001b[0m\u001b[0mx\u001b[0m \u001b[1;33m|\u001b[0m \u001b[0my\u001b[0m\u001b[1;33m)\u001b[0m\u001b[1;33m\u001b[0m\u001b[1;33m\u001b[0m\u001b[0m\n\u001b[1;32m---> 10\u001b[1;33m \u001b[0mprint\u001b[0m\u001b[1;33m(\u001b[0m\u001b[0mx\u001b[0m\u001b[1;33m.\u001b[0m\u001b[0madd\u001b[0m\u001b[1;33m(\u001b[0m\u001b[1;36m9\u001b[0m\u001b[1;33m)\u001b[0m\u001b[1;33m)\u001b[0m\u001b[1;33m\u001b[0m\u001b[1;33m\u001b[0m\u001b[0m\n\u001b[0m",
      "\u001b[1;31mAttributeError\u001b[0m: 'frozenset' object has no attribute 'add'"
     ]
    }
   ],
   "source": [
    "# 11. Write a Python program to use of frozensets.\n",
    "x = frozenset([1, 2, 3, 4, 5])\n",
    "y = frozenset([3, 4, 5, 6, 7])\n",
    "#use isdisjoint(). Return True if the set has no elements in common with other. \n",
    "print(x.isdisjoint(y))\n",
    "#use difference(). Return a new set with elements in the set that are not in the others.\n",
    "print(x.difference(y))\n",
    "#new set with elements from both x and y\n",
    "print(x | y)\n",
    "print(x.add(9))#immutable"
   ]
  },
  {
   "cell_type": "code",
   "execution_count": 18,
   "metadata": {},
   "outputs": [
    {
     "name": "stdout",
     "output_type": "stream",
     "text": [
      "Maximum:  65\n",
      "Minimum:  1\n"
     ]
    }
   ],
   "source": [
    "# 12 Python code to get the maximum & minimum element from a set \n",
    "sets = set([8, 16, 24, 1, 25, 3, 10, 65, 55]) \n",
    "print(\"Maximum: \",max(sets)) \n",
    "print(\"Minimum: \",min(sets)) "
   ]
  }
 ],
 "metadata": {
  "kernelspec": {
   "display_name": "Python 3",
   "language": "python",
   "name": "python3"
  },
  "language_info": {
   "codemirror_mode": {
    "name": "ipython",
    "version": 3
   },
   "file_extension": ".py",
   "mimetype": "text/x-python",
   "name": "python",
   "nbconvert_exporter": "python",
   "pygments_lexer": "ipython3",
   "version": "3.7.3"
  }
 },
 "nbformat": 4,
 "nbformat_minor": 2
}
