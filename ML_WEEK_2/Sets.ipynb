{
 "cells": [
  {
   "cell_type": "code",
   "execution_count": 2,
   "metadata": {},
   "outputs": [
    {
     "name": "stdout",
     "output_type": "stream",
     "text": [
      "{0, 1, 2, 3, 4, 5}\n"
     ]
    }
   ],
   "source": [
    "# 1. Write a Python program to create a set.\n",
    "n = set([0, 1, 2, 3, 4, 5,5])\n",
    "print(n)"
   ]
  },
  {
   "cell_type": "code",
   "execution_count": 5,
   "metadata": {},
   "outputs": [
    {
     "name": "stdout",
     "output_type": "stream",
     "text": [
      "0\n",
      "1\n",
      "2\n",
      "3\n",
      "4\n",
      "5\n"
     ]
    }
   ],
   "source": [
    "# 2. Write a Python program to iteration over sets.\n",
    "num_set = set([0, 1, 2, 3, 4, 5,5])\n",
    "for n in num_set:\n",
    "    print(n)"
   ]
  },
  {
   "cell_type": "code",
   "execution_count": 6,
   "metadata": {},
   "outputs": [
    {
     "name": "stdout",
     "output_type": "stream",
     "text": [
      "{'Red'}\n",
      "{'Green', 'Red', 'Blue'}\n"
     ]
    }
   ],
   "source": [
    "# 3. Write a Python program to add member(s) in a set.\n",
    "color_set = set()\n",
    "color_set.add(\"Red\")\n",
    "print(color_set)\n",
    "color_set.update([\"Blue\", \"Green\"])\n",
    "print(color_set)"
   ]
  },
  {
   "cell_type": "code",
   "execution_count": 7,
   "metadata": {},
   "outputs": [
    {
     "name": "stdout",
     "output_type": "stream",
     "text": [
      "{1, 2, 3, 4, 5}\n",
      "{2, 3, 4, 5}\n"
     ]
    }
   ],
   "source": [
    "# 4. Write a Python program to remove item(s) from set\n",
    "num_set = set([0, 1, 2, 3, 4, 5])\n",
    "num_set.pop()\n",
    "print(num_set)\n",
    "num_set.pop()\n",
    "print(num_set)"
   ]
  },
  {
   "cell_type": "code",
   "execution_count": 8,
   "metadata": {},
   "outputs": [
    {
     "name": "stdout",
     "output_type": "stream",
     "text": [
      "{1, 2, 3, 4, 5}\n"
     ]
    }
   ],
   "source": [
    "# 5. Write a Python program to remove an item from a set if it is present in the set.\n",
    "num_set = set([0, 1, 2, 3, 4, 5])\n",
    "num_set.remove(0)\n",
    "print(num_set)"
   ]
  },
  {
   "cell_type": "code",
   "execution_count": 9,
   "metadata": {},
   "outputs": [
    {
     "name": "stdout",
     "output_type": "stream",
     "text": [
      "{'blue'}\n"
     ]
    }
   ],
   "source": [
    "# 6. Write a Python program to create an intersection of sets.\n",
    "setx = set([\"green\", \"blue\"])\n",
    "sety = set([\"blue\", \"yellow\"])\n",
    "setz = setx & sety\n",
    "print(setz)\n"
   ]
  },
  {
   "cell_type": "code",
   "execution_count": 10,
   "metadata": {},
   "outputs": [
    {
     "name": "stdout",
     "output_type": "stream",
     "text": [
      "{'yellow', 'blue', 'green'}\n"
     ]
    }
   ],
   "source": [
    "# 7. Write a Python program to create a union of sets.\n",
    "setx = set([\"green\", \"blue\"])\n",
    "sety = set([\"blue\", \"yellow\"])\n",
    "seta = setx | sety\n",
    "print (seta)"
   ]
  },
  {
   "cell_type": "code",
   "execution_count": 11,
   "metadata": {},
   "outputs": [
    {
     "name": "stdout",
     "output_type": "stream",
     "text": [
      "{'blue'}\n",
      "{'green'}\n"
     ]
    }
   ],
   "source": [
    "# 8. Write a Python program to create set difference.\n",
    "setx = set([\"green\", \"blue\"])\n",
    "sety = set([\"blue\", \"yellow\"])\n",
    "setz = setx & sety\n",
    "print(setz)\n",
    "setb = setx - setz\n",
    "print(setb)\n"
   ]
  },
  {
   "cell_type": "code",
   "execution_count": 12,
   "metadata": {},
   "outputs": [
    {
     "name": "stdout",
     "output_type": "stream",
     "text": [
      "{'yellow', 'green'}\n"
     ]
    }
   ],
   "source": [
    "# 9. Write a Python program to create a symmetric difference.\n",
    "setx = set([\"green\", \"blue\"])\n",
    "sety = set([\"blue\", \"yellow\"])\n",
    "setc = setx ^ sety\n",
    "print(setc)\n"
   ]
  },
  {
   "cell_type": "code",
   "execution_count": 13,
   "metadata": {},
   "outputs": [
    {
     "name": "stdout",
     "output_type": "stream",
     "text": [
      "set()\n"
     ]
    }
   ],
   "source": [
    "# 10. Write a Python program to clear a set.\n",
    "setx = set([\"green\", \"blue\"])\n",
    "sete = setx.copy()\n",
    "sete.clear()\n",
    "print(sete)"
   ]
  },
  {
   "cell_type": "code",
   "execution_count": 14,
   "metadata": {},
   "outputs": [
    {
     "name": "stdout",
     "output_type": "stream",
     "text": [
      "False\n",
      "frozenset({1, 2})\n",
      "frozenset({1, 2, 3, 4, 5, 6, 7})\n"
     ]
    }
   ],
   "source": [
    "# 11. Write a Python program to use of frozensets.\n",
    "x = frozenset([1, 2, 3, 4, 5])\n",
    "y = frozenset([3, 4, 5, 6, 7])\n",
    "#use isdisjoint(). Return True if the set has no elements in common with other. \n",
    "print(x.isdisjoint(y))\n",
    "#use difference(). Return a new set with elements in the set that are not in the others.\n",
    "print(x.difference(y))\n",
    "#new set with elements from both x and y\n",
    "print(x | y)"
   ]
  },
  {
   "cell_type": "code",
   "execution_count": 18,
   "metadata": {},
   "outputs": [
    {
     "name": "stdout",
     "output_type": "stream",
     "text": [
      "Maximum:  65\n",
      "Minimum:  1\n"
     ]
    }
   ],
   "source": [
    "# 12 Python code to get the maximum & minimum element from a set \n",
    "sets = set([8, 16, 24, 1, 25, 3, 10, 65, 55]) \n",
    "print(\"Maximum: \",max(sets)) \n",
    "print(\"Minimum: \",min(sets)) "
   ]
  },
  {
   "cell_type": "code",
   "execution_count": null,
   "metadata": {},
   "outputs": [],
   "source": []
  }
 ],
 "metadata": {
  "kernelspec": {
   "display_name": "Python 3",
   "language": "python",
   "name": "python3"
  },
  "language_info": {
   "codemirror_mode": {
    "name": "ipython",
    "version": 3
   },
   "file_extension": ".py",
   "mimetype": "text/x-python",
   "name": "python",
   "nbconvert_exporter": "python",
   "pygments_lexer": "ipython3",
   "version": "3.7.3"
  }
 },
 "nbformat": 4,
 "nbformat_minor": 2
}
