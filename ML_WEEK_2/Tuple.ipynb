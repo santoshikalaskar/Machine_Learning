{
 "cells": [
  {
   "cell_type": "code",
   "execution_count": 17,
   "metadata": {},
   "outputs": [],
   "source": [
    "def validateint1():\n",
    "    while True:\n",
    "        number = input(\"Enter a number: \")\n",
    "        try:\n",
    "            val = int(number)\n",
    "            if val < 0:  # if not a positive int print message and ask for input again\n",
    "                print(\"Sorry, input must be a positive integer, try again\")\n",
    "                continue\n",
    "            break\n",
    "        except ValueError:\n",
    "            print(\"That's not an int!\")     \n",
    "    # else all is good, val is >=  0 and an integer\n",
    "    return val"
   ]
  },
  {
   "cell_type": "code",
   "execution_count": 16,
   "metadata": {},
   "outputs": [
    {
     "name": "stdout",
     "output_type": "stream",
     "text": [
      "Tuple :  ()\n"
     ]
    }
   ],
   "source": [
    "\n",
    "#1.Write a Python program to create a tuple.\n",
    "tuplex = ()\n",
    "print(\"Tuple : \",tuplex)"
   ]
  },
  {
   "cell_type": "code",
   "execution_count": 14,
   "metadata": {},
   "outputs": [
    {
     "name": "stdout",
     "output_type": "stream",
     "text": [
      "('tuple', False, 3.2, 1)\n"
     ]
    }
   ],
   "source": [
    "# 2. Write a Python program to create a tuple with different data types.\n",
    "\n",
    "tuplex = (\"tuple\", False, 3.2, 1)\n",
    "print(tuplex)"
   ]
  },
  {
   "cell_type": "code",
   "execution_count": 16,
   "metadata": {},
   "outputs": [
    {
     "name": "stdout",
     "output_type": "stream",
     "text": [
      "(4, 8, 3)\n",
      "15\n"
     ]
    }
   ],
   "source": [
    "# 3. Write a Python program to unpack a tuple in several variables.\n",
    "\n",
    "tuplex =( 4, 8, 3) \n",
    "print(tuplex)\n",
    "n1, n2, n3 = tuplex\n",
    "print(n1 + n2 + n3) \n"
   ]
  },
  {
   "cell_type": "code",
   "execution_count": 17,
   "metadata": {},
   "outputs": [
    {
     "name": "stdout",
     "output_type": "stream",
     "text": [
      "('HELLO', 5, [], True)\n",
      "('HELLO', 5, [50], True)\n",
      "('HELLO', 5, [], True)\n"
     ]
    }
   ],
   "source": [
    "# 4. Write a Python program to create the colon of a tuple.\n",
    "from copy import deepcopy\n",
    "\n",
    "tuplex = (\"HELLO\", 5, [], True) \n",
    "print(tuplex)\n",
    "tuplex_colon = deepcopy(tuplex)\n",
    "tuplex_colon[2].append(50)\n",
    "print(tuplex_colon)\n",
    "print(tuplex)"
   ]
  },
  {
   "cell_type": "code",
   "execution_count": 19,
   "metadata": {},
   "outputs": [
    {
     "name": "stdout",
     "output_type": "stream",
     "text": [
      "Given Tuple:  (2, 4, 5, 6, 2, 3, 4, 4, 7)\n",
      "Enter a number: SAN\n",
      "That's not an int!\n",
      "Enter a number: 4\n",
      "Count:  3\n"
     ]
    }
   ],
   "source": [
    "# 5. Write a Python program to find the repeated items of a tuple.\n",
    "\n",
    "tuplex = (2, 4, 5, 6, 2, 3, 4, 4, 7 )\n",
    "print(\"Given Tuple: \",tuplex)\n",
    "n=validateint1()\n",
    "count = tuplex.count(n)\n",
    "print(\"Count: \",count)\n"
   ]
  },
  {
   "cell_type": "code",
   "execution_count": 11,
   "metadata": {},
   "outputs": [
    {
     "name": "stdout",
     "output_type": "stream",
     "text": [
      "True\n",
      "False\n"
     ]
    }
   ],
   "source": [
    "# 6. Write a Python program to check whether an element exists within a tuple.\n",
    "tuplex = ('M','a','c','h','i','n','e','L','e','a','r','n','i','n','g')\n",
    "print(\"M\" in tuplex)\n",
    "print(\"z\" in tuplex)\n"
   ]
  },
  {
   "cell_type": "code",
   "execution_count": 1,
   "metadata": {},
   "outputs": [
    {
     "name": "stdout",
     "output_type": "stream",
     "text": [
      "List:  [5, 10, 7, 4, 15, 3]\n",
      "tuple:  (5, 10, 7, 4, 15, 3)\n"
     ]
    }
   ],
   "source": [
    "# 7. Write a Python program to convert a list to a tuple.\n",
    "\n",
    "listx = [5, 10, 7, 4, 15, 3]\n",
    "print(\"List: \",listx)\n",
    "tuplex = tuple(listx)\n",
    "print(\"tuple: \",tuplex)\n"
   ]
  },
  {
   "cell_type": "code",
   "execution_count": 2,
   "metadata": {},
   "outputs": [
    {
     "name": "stdout",
     "output_type": "stream",
     "text": [
      "original tuple:  ('M', 'a', 'c', 'h', 'i', 'n', 'e', 'L', 'e', 'a', 'r', 'n', 'i', 'n', 'g')\n",
      "after removr:  ('a', 'c', 'h', 'i', 'n', 'e', 'L', 'e', 'a', 'r', 'n', 'i', 'n', 'g')\n"
     ]
    }
   ],
   "source": [
    "# 8. Write a Python program to remove an item from a tuple.\n",
    "\n",
    "tuplex = ('M','a','c','h','i','n','e','L','e','a','r','n','i','n','g')\n",
    "print(\"original tuple: \",tuplex)\n",
    "\n",
    "listx = list(tuplex) \n",
    "\n",
    "listx.remove('M') \n",
    "\n",
    "tuplex = tuple(listx)\n",
    "print(\"after removr: \",tuplex)\n"
   ]
  },
  {
   "cell_type": "code",
   "execution_count": 5,
   "metadata": {},
   "outputs": [
    {
     "name": "stdout",
     "output_type": "stream",
     "text": [
      "('a', 'c', 'h')\n",
      "('M', 'a', 'c', 'h', 'i', 'n', 'e')\n",
      "('L', 'e', 'a', 'r', 'n', 'i', 'n', 'g')\n",
      "('M', 'a', 'c', 'h', 'i', 'n', 'e', 'L', 'e', 'a', 'r', 'n', 'i', 'n', 'g')\n"
     ]
    }
   ],
   "source": [
    "# 9. Write a Python program to slice a tuple.\n",
    "\n",
    "my_tuple = ('M','a','c','h','i','n','e','L','e','a','r','n','i','n','g')\n",
    "\n",
    "print(my_tuple[1:4])\n",
    "\n",
    "print(my_tuple[:-8])\n",
    "\n",
    "print(my_tuple[7:])\n",
    "\n",
    "print(my_tuple[:])"
   ]
  },
  {
   "cell_type": "code",
   "execution_count": 3,
   "metadata": {},
   "outputs": [
    {
     "name": "stdout",
     "output_type": "stream",
     "text": [
      "original tuple:  (5, 10, 15, 20, 45, 67, 89)\n",
      "Reverse Tuples:  (89, 67, 45, 20, 15, 10, 5)\n"
     ]
    }
   ],
   "source": [
    "# 10. Write a Python program to reverse a tuple.\n",
    "\n",
    "x = (5, 10, 15, 20,45, 67, 89)\n",
    "print(\"original tuple: \", tuple(x))\n",
    "y = reversed(x)\n",
    "print(\"Reverse Tuples: \",tuple(y))\n"
   ]
  }
 ],
 "metadata": {
  "kernelspec": {
   "display_name": "Python 3",
   "language": "python",
   "name": "python3"
  },
  "language_info": {
   "codemirror_mode": {
    "name": "ipython",
    "version": 3
   },
   "file_extension": ".py",
   "mimetype": "text/x-python",
   "name": "python",
   "nbconvert_exporter": "python",
   "pygments_lexer": "ipython3",
   "version": "3.7.3"
  }
 },
 "nbformat": 4,
 "nbformat_minor": 2
}
