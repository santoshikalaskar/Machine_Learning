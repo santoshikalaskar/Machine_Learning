{
 "cells": [
  {
   "cell_type": "code",
   "execution_count": 7,
   "metadata": {},
   "outputs": [
    {
     "name": "stdout",
     "output_type": "stream",
     "text": [
      "Addition of Two Matrices:\n",
      "[17, 15, 4]\n",
      "[10, 12, 9]\n",
      "[11, 13, 18]\n"
     ]
    }
   ],
   "source": [
    "# 1. Write a python program to add below matrices \n",
    "\n",
    "X = [[12,7,3],\n",
    "    [4 ,5,6],\n",
    "    [7 ,8,9]]\n",
    "\n",
    "Y = [[5,8,1],\n",
    "    [6,7,3],\n",
    "    [4,5,9]]\n",
    "\n",
    "result = [[0,0,0],\n",
    "         [0,0,0],\n",
    "         [0,0,0]]\n",
    "\n",
    "for i in range(len(X)):\n",
    "    for j in range(len(X[0])):\n",
    "        result[i][j] = X[i][j] + Y[i][j]\n",
    "print(\"Addition of Two Matrices:\")      \n",
    "for r in result:\n",
    "    print(r)"
   ]
  },
  {
   "cell_type": "code",
   "execution_count": 23,
   "metadata": {},
   "outputs": [
    {
     "name": "stdout",
     "output_type": "stream",
     "text": [
      "Enter scalar matrix number: 4\n",
      "Scalar Product Matrix is : \n",
      "[4, 8, 12]\n",
      "[16, 20, 24]\n",
      "[28, 32, 36]\n"
     ]
    }
   ],
   "source": [
    "# 2. Write a program to perform scalar multiplication of matrix and a number\n",
    "\n",
    "N = 3    \n",
    "mat = [[ 1, 2, 3 ],[ 4, 5, 6 ], [ 7, 8, 9 ]] \n",
    "k = int(input(\"Enter scalar matrix number: \"))\n",
    "for i in range( N):\n",
    "        for j in range( N):\n",
    "            mat[i][j] = mat[i][j] * k\n",
    "print(\"Scalar Product Matrix is : \") \n",
    "for i in mat:\n",
    "    print(i)"
   ]
  },
  {
   "cell_type": "code",
   "execution_count": 5,
   "metadata": {},
   "outputs": [
    {
     "name": "stdout",
     "output_type": "stream",
     "text": [
      "----Matrix---\n",
      "[5, 1, 3]\n",
      "[1, 1, 1]\n",
      "[1, 2, 1]\n",
      "\n",
      "Vector:\n",
      "[1]\n",
      "[2]\n",
      "[3]\n",
      "\n",
      " Vector Multiplication:\n",
      "[ 16 ]\n",
      "[ 6 ]\n",
      "[ 8 ]\n"
     ]
    }
   ],
   "source": [
    "#3. Write a program to perform multiplication of given matrix and vector\n",
    "matrix_first = ([5, 1, 3],[1, 1, 1],[1, 2, 1])\n",
    "vector_first = [[1], [2], [3]]\n",
    "print(\"----Matrix---\")\n",
    "for value in matrix_first:\n",
    "    print(value)\n",
    "print(\"\\nVector:\")\n",
    "for value2 in vector_first:\n",
    "    print(value2)\n",
    "print(\"\\n Vector Multiplication:\")\n",
    "first = len(matrix_first)\n",
    "second = len(vector_first)\n",
    "list_new = [ 0 ] * first\n",
    "\n",
    "for i in range(first):\n",
    "    row1 = matrix_first[ i ]\n",
    "    sum1=0\n",
    "    for j in range(second):\n",
    "        sum1 += sum(row1[ j ] * vector_first[ j ])\n",
    "        list_new[ i ] = sum1\n",
    "for i in list_new:\n",
    "    print(\"[\",i,\"]\")"
   ]
  },
  {
   "cell_type": "code",
   "execution_count": 11,
   "metadata": {},
   "outputs": [
    {
     "name": "stdout",
     "output_type": "stream",
     "text": [
      "Multiplication of two matrices:\n",
      "[3, 10, 7, 2]\n",
      "[14, 50, 36, 9]\n",
      "[10, 39, 28, 6]\n"
     ]
    }
   ],
   "source": [
    "# 4. Write a program to multiply matrices in problem 1\n",
    "\n",
    "X = [[1,1,1],\n",
    "    [3 ,5,6],\n",
    "    [1 ,4,5]]\n",
    "# 3x4 matrix\n",
    "Y = [[1,1,1,1],\n",
    "    [1,7,3,0],\n",
    "    [1,2,3,1]]\n",
    "# result is 3x4\n",
    "result = [[0,0,0,0],\n",
    "         [0,0,0,0],\n",
    "         [0,0,0,0]]\n",
    "\n",
    "# iterate through rows of X\n",
    "for i in range(len(X)):\n",
    "   # iterate through columns of Y\n",
    "   for j in range(len(Y[0])):\n",
    "       # iterate through rows of Y\n",
    "       for k in range(len(Y)):\n",
    "            result[i][j] += X[i][k] * Y[k][j]\n",
    "print(\"Multiplication of two matrices:\")\n",
    "for r in result:\n",
    "    print(r)\n"
   ]
  },
  {
   
   "cell_type": "code",
   "execution_count": 1,
   "metadata": {},
   "outputs": [
    {
     "name": "stdout",
     "output_type": "stream",
     "text": [
      " the matrix is:\n",
      "[1, 3, 7]\n",
      "[4, 2, 3]\n",
      "[1, 2, 1]\n",
      "transpose matrix\n",
      "determinant is  35  and inverse matrix is \n",
      " the matrix is:\n",
      "[-0.11428571428571428, 0.3142857142857143, -0.14285714285714285]\n",
      "[-0.02857142857142857, -0.17142857142857143, 0.7142857142857143]\n",
      "[0.17142857142857143, 0.02857142857142857, -0.2857142857142857]\n",
      "or \n",
      " 1/ 35 x\n",
      " the matrix is:\n",
      "[-4, 11, -5]\n",
      "[-1, -6, 25]\n",
      "[6, 1, -10]\n",
      "checking if inverse is right\n",
      "multiplication is\n",
      " the matrix is:\n",
      "[1.0, 1.0, 1.0]\n",
      "[1.0, 1.0, 1.0]\n",
      "[1.0, 1.0, 1.0]\n",
      "To exit press 0 \n",
      "0\n"
     ]
    }
   ],
   "source": [
    "#5. Write a program to find inverse matrix of matrix X in problem 1 \n",
    "\n",
    "class Matrix:\n",
    "\n",
    "    def __set__(self, matrix_value):\n",
    "        self.main_matrix = matrix_value\n",
    "\n",
    "    def __get__(self):\n",
    "        return self.main_matrix\n",
    "\n",
    "    # Function to print matrix\n",
    "    def print_Matrix(self, matrix_value):\n",
    "        print(\" the matrix is:\")\n",
    "        for item in matrix_value:\n",
    "            print(item)\n",
    "\n",
    "    # calculate the co factors of the elements of specific row and column\n",
    "    def cofactors(self, row, column, matrix_value):\n",
    "        list1 = list()\n",
    "        for row_one in range(0, len(matrix_value[row])):\n",
    "            for column_one in range(0, len(matrix_value[row])):\n",
    "                # eliminating the current row and column and entering rest to the list\n",
    "                if row_one != row and column_one != column:\n",
    "                    list1.append(matrix_value[row_one][column_one])\n",
    "        counter = 0\n",
    "        # multiplying the cross elements that is first and last element in the list\n",
    "        item = (list1[counter] * list1[-(counter + 1)])\n",
    "        counter += 1\n",
    "        # subtracting the multiplication of the rest 2 values from the previous one calculated\n",
    "        item = item - (list1[counter] * list1[-(counter + 1)])\n",
    "        return item\n",
    "\n",
    "    # returns the transpose of any matrix\n",
    "    def transpose_Matrix(self, matrix_value) :\n",
    "        print(\"transpose matrix\")\n",
    "        # new matrix will be calculated by exchanging the elements of previous matrix\n",
    "        transpose_adj_matrix = [[matrix_value[row][col] for row in range(0, len(matrix_value[0]))] for col in\n",
    "                                range(0, len(matrix_value))]\n",
    "        return transpose_adj_matrix\n",
    "\n",
    "    def calculate_adjoint(self, matrix_value):\n",
    "        adjoint_matrix = []\n",
    "        for row in range(0, len(matrix_value[0])):\n",
    "            list1 = list()\n",
    "            for col in range(0, len(matrix_value)):\n",
    "                # adding each element returned by co factor method in list\n",
    "                list1.append(self.cofactors(row, col, matrix_value))\n",
    "            # the list contains the co factors of each row so appends for each row\n",
    "            adjoint_matrix.append(list1)\n",
    "        temp = -1\n",
    "        # Here we'll multiply each elements by +-+ signs respectively\n",
    "        for row in range(0, matrix_value.__len__()):\n",
    "            for col in range(0, matrix_value[row].__len__()):\n",
    "                temp *= -1\n",
    "                adjoint_matrix[row][col] *= temp\n",
    "\n",
    "        return adjoint_matrix\n",
    "\n",
    "    def calculate_determinant(self, matrix_value):\n",
    "        temp = -1\n",
    "        item = 0\n",
    "        for col in range(0, len(matrix_value)):\n",
    "            cofactor = self.cofactors(0, col, matrix_value)\n",
    "            # as we need to add first subtract second and add third that is + - + hence multiplying with -1\n",
    "            temp *= -1\n",
    "            item += temp * (matrix_value[0][col] * cofactor)\n",
    "            # print(\"col is\", col, ', element taken is ', matrix_passed[0][col], 'and co factor is ', co factor)\n",
    "        return item\n",
    "\n",
    "    def matrix_multiply(self, matrix_one, matrix_two):\n",
    "        matrix_three = [[0, 0, 0]] * 3\n",
    "\n",
    "        for row in range(0, matrix_one[0].__len__()):\n",
    "            for col in range(0, len(matrix_two)):\n",
    "                for count in range(0, matrix_two[0].__len__()):\n",
    "                    matrix_three[row][col] += matrix_one[row][count] * matrix_two[count][col]\n",
    "        print(\"multiplication is\")\n",
    "        self.print_Matrix(matrix_three)\n",
    "\n",
    "    def inverse_Matrix(self, ):\n",
    "        original_matrix = [[1, 3, 7],\n",
    "                   [4, 2, 3],\n",
    "                   [1, 2, 1]]\n",
    "        self.print_Matrix(original_matrix)\n",
    "        adjoint_matrix = self.calculate_adjoint(original_matrix)\n",
    "        adjoint_matrix = self.transpose_Matrix(adjoint_matrix)\n",
    "        determinant = self.calculate_determinant(original_matrix)\n",
    "        print(\"determinant is \", determinant, \" and inverse matrix is \")\n",
    "        inverse_matrix = [[adjoint_matrix[row][col] / determinant for col in range(0, len(original_matrix[row]))] for row in range(0, len(original_matrix)) ]\n",
    "        self.print_Matrix(inverse_matrix)\n",
    "        print(\"or \\n 1/\", determinant, 'x')\n",
    "        self.print_Matrix(adjoint_matrix)\n",
    "        print(\"checking if inverse is right\")\n",
    "        self.matrix_multiply(original_matrix, inverse_matrix)\n",
    "\n",
    "\n",
    "try :\n",
    "    matrix_object = Matrix()\n",
    "    flag: bool = True\n",
    "    while flag:\n",
    "        matrix_object.inverse_Matrix()\n",
    "        print(\"To exit press 0 \")\n",
    "        if int(input()) == 0:\n",
    "            flag = False\n",
    "except Exception as e:\n",
    "    print(\"Process stopped because %s\" % e)\n"
   ]
  },
  {
   "cell_type": "code",
   "execution_count": 1,
   "metadata": {},
   "outputs": [
    {
     "name": "stdout",
     "output_type": "stream",
     "text": [
      "Original matrix:\n",
      "[1, 1, 1]\n",
      "[3, 5, 6]\n",
      "[1, 4, 5]\n",
      "transpose matrix:\n",
      "[1, 3, 1]\n",
      "[1, 5, 4]\n",
      "[1, 6, 5]\n"
     ]
    }
   ],
   "source": [
    "#6 Write a program to find transpose matrix of matrix Y in problem 1\n",
    "print(\"Original matrix:\")\n",
    "first_matrix = [[1,1,1],\n",
    "    [3 ,5,6],\n",
    "    [1 ,4,5]]\n",
    "for value in first_matrix:\n",
    "    print(value)\n",
    "\n",
    "\n",
    "print(\"transpose matrix:\")\n",
    "result = [ [ first_matrix[ column ][ row ] for column in range(len(first_matrix)) ] for row in\n",
    "                   range(len(first_matrix[ 0 ])) ]\n",
    "for value in result:\n",
    "    print(value)"
   ]
  },
  {
   "cell_type": "code",
   "execution_count": 2,
   "metadata": {},
   "outputs": [
    {
     "name": "stdout",
     "output_type": "stream",
     "text": [
      "Original matrix:\n",
      "[5, 8, 1]\n",
      "[6, 7, 3]\n",
      "[4, 5, 9]\n",
      "transpose matrix:\n",
      "[5, 6, 4]\n",
      "[8, 7, 5]\n",
      "[1, 3, 9]\n"
     ]
    }
   ],
   "source": [
    "#6.Write a program to find transpose matrix of matrix Y in problem 1\n",
    "\n",
    "print(\"Original matrix:\")\n",
    "first_matrix=[[5,8,1],\n",
    "    [6,7,3],\n",
    "    [4,5,9]]\n",
    "\n",
    "for value in first_matrix:\n",
    "    print(value)\n",
    "\n",
    "\n",
    "print(\"transpose matrix:\")\n",
    "result = [ [ first_matrix[ column ][ row ] for column in range(len(first_matrix)) ] for row in\n",
    "                   range(len(first_matrix[ 0 ])) ]\n",
    "for value in result:\n",
    "    print(value)"
   ]
  },
  {
   "cell_type": "code",
   "execution_count": null,
   "metadata": {},
   "outputs": [],
   "source": []
  }
 ],
 "metadata": {
  "kernelspec": {
   "display_name": "Python 3",
   "language": "python",
   "name": "python3"
  },
  "language_info": {
   "codemirror_mode": {
    "name": "ipython",
    "version": 3
   },
   "file_extension": ".py",
   "mimetype": "text/x-python",
   "name": "python",
   "nbconvert_exporter": "python",
   "pygments_lexer": "ipython3",
   "version": "3.7.3"
  }
 },
 "nbformat": 4,
 "nbformat_minor": 2
}
