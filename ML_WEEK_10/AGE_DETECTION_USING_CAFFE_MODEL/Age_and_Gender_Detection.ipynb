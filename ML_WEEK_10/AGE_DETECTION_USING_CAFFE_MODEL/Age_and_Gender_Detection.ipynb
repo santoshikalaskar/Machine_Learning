{
 "cells": [
  {
   "cell_type": "code",
   "execution_count": 20,
   "metadata": {},
   "outputs": [],
   "source": [
    "import cv2 as cv\n",
    "import numpy as np\n",
    "\n",
    "face = cv.imread('A5.jpg')\n",
    "cv.imshow(\"A1\",face)\n",
    "cv.waitKey(1000)\n",
    "cv.destroyAllWindows()"
   ]
  },
  {
   "cell_type": "code",
   "execution_count": 6,
   "metadata": {},
   "outputs": [
    {
     "name": "stdout",
     "output_type": "stream",
     "text": [
      "Gender Output : [[9.9978620e-01 2.1385906e-04]]\n",
      "Gender : Male\n"
     ]
    }
   ],
   "source": [
    "genderProto = \"/home/admin238/Desktop/ML_WEEK_10/OpenCV/Age_Detection/gender_net_definitions/deploy.prototxt\"\n",
    "\n",
    "genderModel = \"/home/admin238/Desktop/ML_WEEK_10/OpenCV/Age_Detection/models/gender_net.caffemodel\"\n",
    "genderNet = cv.dnn.readNet(genderModel, genderProto)\n",
    " \n",
    "genderList = ['Male', 'Female']\n",
    " \n",
    "blob = cv.dnn.blobFromImage(face, 1, (227, 227), swapRB=False)\n",
    "\n",
    "# set the blob as input to the network and perform a forward-pass to\n",
    "# obtain our output classification\n",
    "genderNet.setInput(blob)\n",
    "genderPreds = genderNet.forward()\n",
    "\n",
    "gender = genderList[genderPreds[0].argmax()]\n",
    "print(\"Gender Output : {}\".format(genderPreds))\n",
    "print(\"Gender : {}\".format(gender))"
   ]
  },
  {
   "cell_type": "code",
   "execution_count": 10,
   "metadata": {},
   "outputs": [
    {
     "name": "stdout",
     "output_type": "stream",
     "text": [
      "(1, 2)\n"
     ]
    }
   ],
   "source": [
    "print(genderPreds.shape)"
   ]
  },
  {
   "cell_type": "code",
   "execution_count": 21,
   "metadata": {},
   "outputs": [
    {
     "name": "stdout",
     "output_type": "stream",
     "text": [
      "4\n",
      "Age Output : [[2.9883699e-07 5.5977597e-07 6.8409972e-05 1.2364583e-03 9.9303532e-01\n",
      "  5.5960990e-03 3.1831252e-05 3.0977000e-05]]\n",
      "Age : (21 - 32)\n"
     ]
    }
   ],
   "source": [
    "ageProto = \"/home/admin238/Desktop/ML_WEEK_10/OpenCV/Age_Detection/age_net_definitions/deploy.prototxt\"\n",
    "ageModel = \"/home/admin238/Desktop/ML_WEEK_10/OpenCV/Age_Detection/models/age_net.caffemodel\"\n",
    "ageNet = cv.dnn.readNet(ageModel, ageProto)\n",
    " \n",
    "ageList = ['(0 - 2)', '(3 - 6)', '(7 - 12)', '(13 - 20)', '(21 - 32)', '(33 - 43)', '(44 - 53)', '(54 - 100)']\n",
    "#ageList = ['young','middle','old']\n",
    " \n",
    "ageNet.setInput(blob)\n",
    "agePreds = ageNet.forward()\n",
    "print(np.argmax(agePreds))\n",
    "age = ageList[(agePreds[0].argmax())]\n",
    "print(\"Age Output : {}\".format(agePreds))\n",
    "print(\"Age : {}\".format(age))"
   ]
  },
  {
   "cell_type": "code",
   "execution_count": null,
   "metadata": {},
   "outputs": [],
   "source": []
  }
 ],
 "metadata": {
  "kernelspec": {
   "display_name": "Python 3",
   "language": "python",
   "name": "python3"
  },
  "language_info": {
   "codemirror_mode": {
    "name": "ipython",
    "version": 3
   },
   "file_extension": ".py",
   "mimetype": "text/x-python",
   "name": "python",
   "nbconvert_exporter": "python",
   "pygments_lexer": "ipython3",
   "version": "3.7.3"
  }
 },
 "nbformat": 4,
 "nbformat_minor": 2
}
