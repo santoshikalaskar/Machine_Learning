{
 "cells": [
  {
   "cell_type": "code",
   "execution_count": 26,
   "metadata": {
    "collapsed": true
   },
   "outputs": [],
   "source": [
    "import matplotlib.pyplot as plt\n",
    "import pandas as pd\n",
    "import numpy as np\n",
    "import seaborn as sb\n",
    "#import pandas.api.types as  ptypes\n",
    "\n",
    "%matplotlib inline"
   ]
  },
  {
   "cell_type": "code",
   "execution_count": 27,
   "metadata": {
    "collapsed": false
   },
   "outputs": [
    {
     "data": {
      "text/html": [
       "<div>\n",
       "<table border=\"1\" class=\"dataframe\">\n",
       "  <thead>\n",
       "    <tr style=\"text-align: right;\">\n",
       "      <th></th>\n",
       "      <th>Formatted Date</th>\n",
       "      <th>Summary</th>\n",
       "      <th>Precip Type</th>\n",
       "      <th>Temperature (C)</th>\n",
       "      <th>Apparent Temperature (C)</th>\n",
       "      <th>Humidity</th>\n",
       "      <th>Wind Speed (km/h)</th>\n",
       "      <th>Wind Bearing (degrees)</th>\n",
       "      <th>Visibility (km)</th>\n",
       "      <th>Loud Cover</th>\n",
       "      <th>Pressure (millibars)</th>\n",
       "      <th>Daily Summary</th>\n",
       "    </tr>\n",
       "  </thead>\n",
       "  <tbody>\n",
       "    <tr>\n",
       "      <th>0</th>\n",
       "      <td>2006-04-01 00:00:00.000 +0200</td>\n",
       "      <td>Partly Cloudy</td>\n",
       "      <td>rain</td>\n",
       "      <td>9.472222</td>\n",
       "      <td>7.388889</td>\n",
       "      <td>0.89</td>\n",
       "      <td>14.1197</td>\n",
       "      <td>251.0</td>\n",
       "      <td>15.8263</td>\n",
       "      <td>0.0</td>\n",
       "      <td>1015.13</td>\n",
       "      <td>Partly cloudy throughout the day.</td>\n",
       "    </tr>\n",
       "    <tr>\n",
       "      <th>1</th>\n",
       "      <td>2006-04-01 01:00:00.000 +0200</td>\n",
       "      <td>Partly Cloudy</td>\n",
       "      <td>rain</td>\n",
       "      <td>9.355556</td>\n",
       "      <td>7.227778</td>\n",
       "      <td>0.86</td>\n",
       "      <td>14.2646</td>\n",
       "      <td>259.0</td>\n",
       "      <td>15.8263</td>\n",
       "      <td>0.0</td>\n",
       "      <td>1015.63</td>\n",
       "      <td>Partly cloudy throughout the day.</td>\n",
       "    </tr>\n",
       "    <tr>\n",
       "      <th>2</th>\n",
       "      <td>2006-04-01 02:00:00.000 +0200</td>\n",
       "      <td>Mostly Cloudy</td>\n",
       "      <td>rain</td>\n",
       "      <td>9.377778</td>\n",
       "      <td>9.377778</td>\n",
       "      <td>0.89</td>\n",
       "      <td>3.9284</td>\n",
       "      <td>204.0</td>\n",
       "      <td>14.9569</td>\n",
       "      <td>0.0</td>\n",
       "      <td>1015.94</td>\n",
       "      <td>Partly cloudy throughout the day.</td>\n",
       "    </tr>\n",
       "    <tr>\n",
       "      <th>3</th>\n",
       "      <td>2006-04-01 03:00:00.000 +0200</td>\n",
       "      <td>Partly Cloudy</td>\n",
       "      <td>rain</td>\n",
       "      <td>8.288889</td>\n",
       "      <td>5.944444</td>\n",
       "      <td>0.83</td>\n",
       "      <td>14.1036</td>\n",
       "      <td>269.0</td>\n",
       "      <td>15.8263</td>\n",
       "      <td>0.0</td>\n",
       "      <td>1016.41</td>\n",
       "      <td>Partly cloudy throughout the day.</td>\n",
       "    </tr>\n",
       "    <tr>\n",
       "      <th>4</th>\n",
       "      <td>2006-04-01 04:00:00.000 +0200</td>\n",
       "      <td>Mostly Cloudy</td>\n",
       "      <td>rain</td>\n",
       "      <td>8.755556</td>\n",
       "      <td>6.977778</td>\n",
       "      <td>0.83</td>\n",
       "      <td>11.0446</td>\n",
       "      <td>259.0</td>\n",
       "      <td>15.8263</td>\n",
       "      <td>0.0</td>\n",
       "      <td>1016.51</td>\n",
       "      <td>Partly cloudy throughout the day.</td>\n",
       "    </tr>\n",
       "  </tbody>\n",
       "</table>\n",
       "</div>"
      ],
      "text/plain": [
       "                  Formatted Date        Summary Precip Type  Temperature (C)  \\\n",
       "0  2006-04-01 00:00:00.000 +0200  Partly Cloudy        rain         9.472222   \n",
       "1  2006-04-01 01:00:00.000 +0200  Partly Cloudy        rain         9.355556   \n",
       "2  2006-04-01 02:00:00.000 +0200  Mostly Cloudy        rain         9.377778   \n",
       "3  2006-04-01 03:00:00.000 +0200  Partly Cloudy        rain         8.288889   \n",
       "4  2006-04-01 04:00:00.000 +0200  Mostly Cloudy        rain         8.755556   \n",
       "\n",
       "   Apparent Temperature (C)  Humidity  Wind Speed (km/h)  \\\n",
       "0                  7.388889      0.89            14.1197   \n",
       "1                  7.227778      0.86            14.2646   \n",
       "2                  9.377778      0.89             3.9284   \n",
       "3                  5.944444      0.83            14.1036   \n",
       "4                  6.977778      0.83            11.0446   \n",
       "\n",
       "   Wind Bearing (degrees)  Visibility (km)  Loud Cover  Pressure (millibars)  \\\n",
       "0                   251.0          15.8263         0.0               1015.13   \n",
       "1                   259.0          15.8263         0.0               1015.63   \n",
       "2                   204.0          14.9569         0.0               1015.94   \n",
       "3                   269.0          15.8263         0.0               1016.41   \n",
       "4                   259.0          15.8263         0.0               1016.51   \n",
       "\n",
       "                       Daily Summary  \n",
       "0  Partly cloudy throughout the day.  \n",
       "1  Partly cloudy throughout the day.  \n",
       "2  Partly cloudy throughout the day.  \n",
       "3  Partly cloudy throughout the day.  \n",
       "4  Partly cloudy throughout the day.  "
      ]
     },
     "execution_count": 27,
     "metadata": {},
     "output_type": "execute_result"
    }
   ],
   "source": [
    "# read weatherHistory.csv file\n",
    "dataset = pd.read_csv(\"weatherHistory.csv\")\n",
    "dataset.head()"
   ]
  },
  {
   "cell_type": "code",
   "execution_count": 28,
   "metadata": {
    "collapsed": false
   },
   "outputs": [
    {
     "data": {
      "text/plain": [
       "Formatted Date               object\n",
       "Summary                      object\n",
       "Precip Type                  object\n",
       "Temperature (C)             float64\n",
       "Apparent Temperature (C)    float64\n",
       "Humidity                    float64\n",
       "Wind Speed (km/h)           float64\n",
       "Wind Bearing (degrees)      float64\n",
       "Visibility (km)             float64\n",
       "Loud Cover                  float64\n",
       "Pressure (millibars)        float64\n",
       "Daily Summary                object\n",
       "dtype: object"
      ]
     },
     "execution_count": 28,
     "metadata": {},
     "output_type": "execute_result"
    }
   ],
   "source": [
    "dataset.dtypes"
   ]
  },
  {
   "cell_type": "code",
   "execution_count": 29,
   "metadata": {
    "collapsed": true
   },
   "outputs": [],
   "source": [
    "# rename column Apparent Temperature\n",
    "dataset.rename(columns={'Apparent Temperature (C)':'y','Humidity':'x'},inplace = True)"
   ]
  },
  {
   "cell_type": "code",
   "execution_count": 30,
   "metadata": {
    "collapsed": false
   },
   "outputs": [
    {
     "data": {
      "text/html": [
       "<div>\n",
       "<table border=\"1\" class=\"dataframe\">\n",
       "  <thead>\n",
       "    <tr style=\"text-align: right;\">\n",
       "      <th></th>\n",
       "      <th>Temperature (C)</th>\n",
       "      <th>y</th>\n",
       "      <th>x</th>\n",
       "      <th>Wind Speed (km/h)</th>\n",
       "      <th>Wind Bearing (degrees)</th>\n",
       "      <th>Visibility (km)</th>\n",
       "      <th>Loud Cover</th>\n",
       "      <th>Pressure (millibars)</th>\n",
       "    </tr>\n",
       "  </thead>\n",
       "  <tbody>\n",
       "    <tr>\n",
       "      <th>count</th>\n",
       "      <td>96453.000000</td>\n",
       "      <td>96453.000000</td>\n",
       "      <td>96453.000000</td>\n",
       "      <td>96453.000000</td>\n",
       "      <td>96453.000000</td>\n",
       "      <td>96453.000000</td>\n",
       "      <td>96453.0</td>\n",
       "      <td>96453.000000</td>\n",
       "    </tr>\n",
       "    <tr>\n",
       "      <th>mean</th>\n",
       "      <td>11.932678</td>\n",
       "      <td>10.855029</td>\n",
       "      <td>0.734899</td>\n",
       "      <td>10.810640</td>\n",
       "      <td>187.509232</td>\n",
       "      <td>10.347325</td>\n",
       "      <td>0.0</td>\n",
       "      <td>1003.235956</td>\n",
       "    </tr>\n",
       "    <tr>\n",
       "      <th>std</th>\n",
       "      <td>9.551546</td>\n",
       "      <td>10.696847</td>\n",
       "      <td>0.195473</td>\n",
       "      <td>6.913571</td>\n",
       "      <td>107.383428</td>\n",
       "      <td>4.192123</td>\n",
       "      <td>0.0</td>\n",
       "      <td>116.969906</td>\n",
       "    </tr>\n",
       "    <tr>\n",
       "      <th>min</th>\n",
       "      <td>-21.822222</td>\n",
       "      <td>-27.716667</td>\n",
       "      <td>0.000000</td>\n",
       "      <td>0.000000</td>\n",
       "      <td>0.000000</td>\n",
       "      <td>0.000000</td>\n",
       "      <td>0.0</td>\n",
       "      <td>0.000000</td>\n",
       "    </tr>\n",
       "    <tr>\n",
       "      <th>25%</th>\n",
       "      <td>4.688889</td>\n",
       "      <td>2.311111</td>\n",
       "      <td>0.600000</td>\n",
       "      <td>5.828200</td>\n",
       "      <td>116.000000</td>\n",
       "      <td>8.339800</td>\n",
       "      <td>0.0</td>\n",
       "      <td>1011.900000</td>\n",
       "    </tr>\n",
       "    <tr>\n",
       "      <th>50%</th>\n",
       "      <td>12.000000</td>\n",
       "      <td>12.000000</td>\n",
       "      <td>0.780000</td>\n",
       "      <td>9.965900</td>\n",
       "      <td>180.000000</td>\n",
       "      <td>10.046400</td>\n",
       "      <td>0.0</td>\n",
       "      <td>1016.450000</td>\n",
       "    </tr>\n",
       "    <tr>\n",
       "      <th>75%</th>\n",
       "      <td>18.838889</td>\n",
       "      <td>18.838889</td>\n",
       "      <td>0.890000</td>\n",
       "      <td>14.135800</td>\n",
       "      <td>290.000000</td>\n",
       "      <td>14.812000</td>\n",
       "      <td>0.0</td>\n",
       "      <td>1021.090000</td>\n",
       "    </tr>\n",
       "    <tr>\n",
       "      <th>max</th>\n",
       "      <td>39.905556</td>\n",
       "      <td>39.344444</td>\n",
       "      <td>1.000000</td>\n",
       "      <td>63.852600</td>\n",
       "      <td>359.000000</td>\n",
       "      <td>16.100000</td>\n",
       "      <td>0.0</td>\n",
       "      <td>1046.380000</td>\n",
       "    </tr>\n",
       "  </tbody>\n",
       "</table>\n",
       "</div>"
      ],
      "text/plain": [
       "       Temperature (C)             y             x  Wind Speed (km/h)  \\\n",
       "count     96453.000000  96453.000000  96453.000000       96453.000000   \n",
       "mean         11.932678     10.855029      0.734899          10.810640   \n",
       "std           9.551546     10.696847      0.195473           6.913571   \n",
       "min         -21.822222    -27.716667      0.000000           0.000000   \n",
       "25%           4.688889      2.311111      0.600000           5.828200   \n",
       "50%          12.000000     12.000000      0.780000           9.965900   \n",
       "75%          18.838889     18.838889      0.890000          14.135800   \n",
       "max          39.905556     39.344444      1.000000          63.852600   \n",
       "\n",
       "       Wind Bearing (degrees)  Visibility (km)  Loud Cover  \\\n",
       "count            96453.000000     96453.000000     96453.0   \n",
       "mean               187.509232        10.347325         0.0   \n",
       "std                107.383428         4.192123         0.0   \n",
       "min                  0.000000         0.000000         0.0   \n",
       "25%                116.000000         8.339800         0.0   \n",
       "50%                180.000000        10.046400         0.0   \n",
       "75%                290.000000        14.812000         0.0   \n",
       "max                359.000000        16.100000         0.0   \n",
       "\n",
       "       Pressure (millibars)  \n",
       "count          96453.000000  \n",
       "mean            1003.235956  \n",
       "std              116.969906  \n",
       "min                0.000000  \n",
       "25%             1011.900000  \n",
       "50%             1016.450000  \n",
       "75%             1021.090000  \n",
       "max             1046.380000  "
      ]
     },
     "execution_count": 30,
     "metadata": {},
     "output_type": "execute_result"
    }
   ],
   "source": [
    "dataset.describe()"
   ]
  },
  {
   "cell_type": "code",
   "execution_count": 31,
   "metadata": {
    "collapsed": false
   },
   "outputs": [
    {
     "name": "stdout",
     "output_type": "stream",
     "text": [
      "<class 'pandas.core.frame.DataFrame'>\n",
      "RangeIndex: 96453 entries, 0 to 96452\n",
      "Data columns (total 12 columns):\n",
      "Formatted Date            96453 non-null object\n",
      "Summary                   96453 non-null object\n",
      "Precip Type               96453 non-null object\n",
      "Temperature (C)           96453 non-null float64\n",
      "y                         96453 non-null float64\n",
      "x                         96453 non-null float64\n",
      "Wind Speed (km/h)         96453 non-null float64\n",
      "Wind Bearing (degrees)    96453 non-null float64\n",
      "Visibility (km)           96453 non-null float64\n",
      "Loud Cover                96453 non-null float64\n",
      "Pressure (millibars)      96453 non-null float64\n",
      "Daily Summary             96453 non-null object\n",
      "dtypes: float64(8), object(4)\n",
      "memory usage: 8.8+ MB\n"
     ]
    }
   ],
   "source": [
    "dataset.info()"
   ]
  },
  {
   "cell_type": "code",
   "execution_count": 32,
   "metadata": {
    "collapsed": false
   },
   "outputs": [
    {
     "data": {
      "text/plain": [
       "Formatted Date            0\n",
       "Summary                   0\n",
       "Precip Type               0\n",
       "Temperature (C)           0\n",
       "y                         0\n",
       "x                         0\n",
       "Wind Speed (km/h)         0\n",
       "Wind Bearing (degrees)    0\n",
       "Visibility (km)           0\n",
       "Loud Cover                0\n",
       "Pressure (millibars)      0\n",
       "Daily Summary             0\n",
       "dtype: int64"
      ]
     },
     "execution_count": 32,
     "metadata": {},
     "output_type": "execute_result"
    }
   ],
   "source": [
    "# calculating  sum of null values\n",
    "#dataset.isna().sum()\n",
    "dataset.isnull().sum()\n"
   ]
  },
  {
   "cell_type": "code",
   "execution_count": 33,
   "metadata": {
    "collapsed": false
   },
   "outputs": [
    {
     "data": {
      "text/html": [
       "<div>\n",
       "<table border=\"1\" class=\"dataframe\">\n",
       "  <thead>\n",
       "    <tr style=\"text-align: right;\">\n",
       "      <th></th>\n",
       "      <th>y</th>\n",
       "      <th>x</th>\n",
       "    </tr>\n",
       "  </thead>\n",
       "  <tbody>\n",
       "    <tr>\n",
       "      <th>0</th>\n",
       "      <td>7.388889</td>\n",
       "      <td>0.89</td>\n",
       "    </tr>\n",
       "    <tr>\n",
       "      <th>1</th>\n",
       "      <td>7.227778</td>\n",
       "      <td>0.86</td>\n",
       "    </tr>\n",
       "    <tr>\n",
       "      <th>2</th>\n",
       "      <td>9.377778</td>\n",
       "      <td>0.89</td>\n",
       "    </tr>\n",
       "    <tr>\n",
       "      <th>3</th>\n",
       "      <td>5.944444</td>\n",
       "      <td>0.83</td>\n",
       "    </tr>\n",
       "    <tr>\n",
       "      <th>4</th>\n",
       "      <td>6.977778</td>\n",
       "      <td>0.83</td>\n",
       "    </tr>\n",
       "  </tbody>\n",
       "</table>\n",
       "</div>"
      ],
      "text/plain": [
       "          y     x\n",
       "0  7.388889  0.89\n",
       "1  7.227778  0.86\n",
       "2  9.377778  0.89\n",
       "3  5.944444  0.83\n",
       "4  6.977778  0.83"
      ]
     },
     "execution_count": 33,
     "metadata": {},
     "output_type": "execute_result"
    }
   ],
   "source": [
    "# getting column x and y in dataset\n",
    "dataset = dataset.loc[:,['y','x']]\n",
    "dataset.head()"
   ]
  },
  {
   "cell_type": "code",
   "execution_count": 34,
   "metadata": {
    "collapsed": true
   },
   "outputs": [],
   "source": [
    "# replacing missing values with mean\n",
    "\n",
    "dataset['x'].replace(np.NaN,dataset['x'].mean(), inplace = True)\n",
    "       \n",
    "dataset['y'].replace(np.NaN,dataset['y'].mean(), inplace = True)"
   ]
  },
  {
   "cell_type": "code",
   "execution_count": 35,
   "metadata": {
    "collapsed": false
   },
   "outputs": [
    {
     "data": {
      "text/plain": [
       "<matplotlib.axes._subplots.AxesSubplot at 0x144f35d4048>"
      ]
     },
     "execution_count": 35,
     "metadata": {},
     "output_type": "execute_result"
    },
    {
     "data": {
      "image/png": "[encoded data removed]",
      "text/plain": [
       "<matplotlib.figure.Figure at 0x144f0ee5c88>"
      ]
     },
     "metadata": {},
     "output_type": "display_data"
    }
   ],
   "source": [
    "# boxplot to  find outliers of datatset\n",
    "\n",
    "sb.boxplot(data = dataset)"
   ]
  },
  {
   "cell_type": "code",
   "execution_count": 36,
   "metadata": {
    "collapsed": true
   },
   "outputs": [],
   "source": [
    "def feature_scaling(dataset):\n",
    "    for name in dataset.columns:\n",
    "        dataset[name] = (dataset[name] - dataset[name].min()) / (dataset[name].max()-dataset[name].min())\n",
    "    return dataset"
   ]
  },
  {
   "cell_type": "code",
   "execution_count": 37,
   "metadata": {
    "collapsed": false
   },
   "outputs": [
    {
     "data": {
      "text/html": [
       "<div>\n",
       "<table border=\"1\" class=\"dataframe\">\n",
       "  <thead>\n",
       "    <tr style=\"text-align: right;\">\n",
       "      <th></th>\n",
       "      <th>y</th>\n",
       "      <th>x</th>\n",
       "    </tr>\n",
       "  </thead>\n",
       "  <tbody>\n",
       "    <tr>\n",
       "      <th>0</th>\n",
       "      <td>0.523486</td>\n",
       "      <td>0.89</td>\n",
       "    </tr>\n",
       "    <tr>\n",
       "      <th>1</th>\n",
       "      <td>0.521084</td>\n",
       "      <td>0.86</td>\n",
       "    </tr>\n",
       "    <tr>\n",
       "      <th>2</th>\n",
       "      <td>0.553144</td>\n",
       "      <td>0.89</td>\n",
       "    </tr>\n",
       "    <tr>\n",
       "      <th>3</th>\n",
       "      <td>0.501947</td>\n",
       "      <td>0.83</td>\n",
       "    </tr>\n",
       "    <tr>\n",
       "      <th>4</th>\n",
       "      <td>0.517356</td>\n",
       "      <td>0.83</td>\n",
       "    </tr>\n",
       "  </tbody>\n",
       "</table>\n",
       "</div>"
      ],
      "text/plain": [
       "          y     x\n",
       "0  0.523486  0.89\n",
       "1  0.521084  0.86\n",
       "2  0.553144  0.89\n",
       "3  0.501947  0.83\n",
       "4  0.517356  0.83"
      ]
     },
     "execution_count": 37,
     "metadata": {},
     "output_type": "execute_result"
    }
   ],
   "source": [
    "# feature  scaling\n",
    "dataset = feature_scaling(dataset)\n",
    "dataset.head()"
   ]
  },
  {
   "cell_type": "code",
   "execution_count": 38,
   "metadata": {
    "collapsed": false
   },
   "outputs": [
    {
     "data": {
      "text/plain": [
       "<matplotlib.axes._subplots.AxesSubplot at 0x144f4bb1588>"
      ]
     },
     "execution_count": 38,
     "metadata": {},
     "output_type": "execute_result"
    },
    {
     "data": {
      "image/png": "[encoded data removed]",
      "text/plain": [
       "<matplotlib.figure.Figure at 0x144f4d7e198>"
      ]
     },
     "metadata": {},
     "output_type": "display_data"
    }
   ],
   "source": [
    "# boxplot to see outliers of datatset\n",
    "sb.boxplot(data = dataset)"
   ]
  },
  {
   "cell_type": "code",
   "execution_count": 39,
   "metadata": {
    "collapsed": true
   },
   "outputs": [],
   "source": [
    "\n",
    "# split dataset into train data and test data\n",
    "\n",
    "def train_and_test_dataset(dataset):\n",
    "\n",
    "        train_per = int(0.80*len(dataset))\n",
    "        test_per = len(dataset)-train_per\n",
    "        \n",
    "        train_set = dataset.head(train_per)\n",
    "        test_set = dataset.tail(test_per)\n",
    "        \n",
    "        x_array_train_data = np.array(train_set.x)\n",
    "        y_array_train_data = np.array(train_set.y)\n",
    "        \n",
    "        x_array_test_data = np.array(test_set.x)\n",
    "        y_array_test_data = np.array(test_set.y)\n",
    "  \n",
    "        return train_set,test_set,x_array_train_data,y_array_train_data, x_array_test_data,y_array_test_data\n",
    "\n",
    "\n"
   ]
  },
  {
   "cell_type": "code",
   "execution_count": 40,
   "metadata": {
    "collapsed": true
   },
   "outputs": [],
   "source": [
    "train_data,test_data,x_array_train_data,y_array_train_data, x_array_test_data,y_array_test_data = train_and_test_dataset(dataset)"
   ]
  },
  {
   "cell_type": "code",
   "execution_count": 41,
   "metadata": {
    "collapsed": true
   },
   "outputs": [],
   "source": [
    " class Simple_Linear_regression:\n",
    "    \n",
    "    #initialize input variables\n",
    "    def __init__(self):\n",
    "        self.learning_rate = 0.03\n",
    "        self.epoch = 1000\n",
    "        self.theta_0 = 0.4\n",
    "        self.theta_1 = 0.7   \n",
    "  \n",
    "    # Calculate Gradient Decent \n",
    "    # th0 - (learning_rate * 1/ iterations )* sum_of_i_1_to_iterations[(th0+th1*Xi)-Yi]\n",
    "    # th1 - (learning_rate * 1/ iterations )* sum_of_i_1_to_iterations[[(th0+th1*Xi)-Yi]*Xi]\n",
    "    def Gradient_Decent(self,x_array_train_data,y_array_train_data):\n",
    "        size = len(x_array_train_data)\n",
    "        itration = self.epoch\n",
    "        fig = plt.figure()\n",
    "        fig, (ax1, ax2, ax3,ax4) = plt.subplots(nrows=4, ncols=1, figsize=(5, 20))\n",
    "        for itr in range(itration):\n",
    "            #total_cost_fun=[0]*len(self.epoch)\n",
    "            total_cost_fun = 0\n",
    "            derivative_cost1 = 0.0\n",
    "            derivative_cost2 = 0.0\n",
    "            cost_fun = 0.0\n",
    "            \n",
    "            \n",
    "            for row in range(len(x_array_train_data)):\n",
    "                \n",
    "                derivative_cost1 += self.theta_0 + self.theta_1*x_array_train_data[row]- y_array_train_data[row]\n",
    "                derivative_cost2 += (self.theta_0 + self.theta_1*x_array_train_data[row]- y_array_train_data[row])*x_array_train_data[row]\n",
    "        \n",
    "                cost_fun += np.square((self.theta_0 + self.theta_1*x_array_train_data[row])-y_array_train_data[row])            \n",
    "           \n",
    "            self.theta_0 = self.theta_0-(self.learning_rate*derivative_cost1)/size\n",
    "            #print(\"theta_0: \", self.theta_0)\n",
    "            self.theta_1 = self.theta_1-(self.learning_rate*derivative_cost2)/size\n",
    "            #print(\"theta_1: \", self.theta_1)\n",
    "            \n",
    "            total_cost_fun= ((1/2)*size)*cost_fun\n",
    "            #print(\"Cost ..\",total_cost_fun)\n",
    "\n",
    "            #  ploting graphs  on each 50 epochs \n",
    "            if(itr%50 == 0):\n",
    "                ax1.plot(itr,self.theta_0,color='r')\n",
    "                ax1.set_title('iteration vs theta 0')\n",
    "                ax2.plot(itr,self.theta_1,color='g')\n",
    "                ax2.set_title('iteration vs theta 1')\n",
    "                ax3.plot(itr,total_cost_fun,marker='*',color='b')\n",
    "                ax3.set_title('iteration vs cost')\n",
    "                ax4.plot(self.theta_0,self.theta_1,marker = 'x', color='black')\n",
    "                ax4.set_title('theta_0 vs theta_1')\n",
    "            if(total_cost_fun<=0.00009): \n",
    "                break\n",
    "\n",
    "        plt.subplots_adjust(hspace=1)\n",
    "        plt.show()\n",
    "                \n",
    "            \n",
    "        thetas=[self.theta_0 , self.theta_1]\n",
    "        \n",
    "        return thetas\n",
    "    \n",
    "    \n",
    "    # Find y_predict values\n",
    "    def test_datas(self, x_array_test_data, thitas):\n",
    "        y_predict = [0]* len(x_array_test_data)\n",
    "        for i in range(len(x_array_test_data)):\n",
    "            y_predict[i]=thitas[0]+(thitas[1]*x_array_test_data[i])\n",
    "        return y_predict\n",
    "    \n",
    "        # find the Accuracy\n",
    "    def Accuracy(self,y_predict,y_array_test_data):\n",
    "        total_error = 0\n",
    "        accuracy = 0\n",
    "        for i in range(0,len(y_array_test_data)):\n",
    "            total_error += abs((y_predict[i]-y_array_test_data[i])/y_array_test_data[i])\n",
    "        total_error = (total_error/len(y_array_test_data))\n",
    "        accuracy = (1-total_error)*100\n",
    "        print(\"Accuracy:\",accuracy)\n",
    "        return accuracy\n",
    "    \n",
    "#     def plotgraph(self,x_test_data,y_test_data, y_predict):\n",
    "\n",
    "#         plt.scatter(x_test_data, y_test_data, marker = \"x\",color='g', label='Test Data Set')\n",
    "#         plt.plot(x_test_data, y_predict, color='r', label='Predicted Values')\n",
    "#         plt.legend()\n",
    "#         plt.show()\n",
    "        \n",
    "#     def plotgraph_one(self,x_train_data, y_train_data, y_predict):\n",
    "#         plt.scatter(x_train_data, y_train_data, marker = \"x\",color='g', label='Train Data Set')\n",
    "#         plt.plot(x_train_data, y_predict, color='r', label='Predicted Values')\n",
    "#         plt.legend()\n",
    "    \n",
    "#         plt.show()\n",
    "    \n",
    "\n",
    "        "
   ]
  },
  {
   "cell_type": "code",
   "execution_count": 42,
   "metadata": {
    "collapsed": true
   },
   "outputs": [],
   "source": [
    "# Initialize values\n",
    "obj = Simple_Linear_regression()"
   ]
  },
  {
   "cell_type": "code",
   "execution_count": 43,
   "metadata": {
    "collapsed": false
   },
   "outputs": [
    {
     "data": {
      "text/plain": [
       "<matplotlib.figure.Figure at 0x144f4bdb080>"
      ]
     },
     "metadata": {},
     "output_type": "display_data"
    },
    {
     "data": {
      "image/png": "[encoded data removed]",
      "text/plain": [
       "<matplotlib.figure.Figure at 0x144f0edafd0>"
      ]
     },
     "metadata": {},
     "output_type": "display_data"
    }
   ],
   "source": [
    "# Call Gradient_Decent Algorithm\n",
    "Thitas = obj.Gradient_Decent(x_array_train_data,y_array_train_data)\n"
   ]
  },
  {
   "cell_type": "code",
   "execution_count": 44,
   "metadata": {
    "collapsed": false
   },
   "outputs": [
    {
     "data": {
      "text/plain": [
       "[0.57437778546920626, -0.013628928451021281]"
      ]
     },
     "execution_count": 44,
     "metadata": {},
     "output_type": "execute_result"
    }
   ],
   "source": [
    "Thitas"
   ]
  },
  {
   "cell_type": "code",
   "execution_count": 45,
   "metadata": {
    "collapsed": false
   },
   "outputs": [
    {
     "name": "stdout",
     "output_type": "stream",
     "text": [
      "19291\n"
     ]
    }
   ],
   "source": [
    "# call for Y_predict values\n",
    "y_predict = obj.test_datas(x_array_test_data, Thitas)\n",
    "print(len(y_predict))"
   ]
  },
  {
   "cell_type": "code",
   "execution_count": 46,
   "metadata": {
    "collapsed": false
   },
   "outputs": [
    {
     "name": "stdout",
     "output_type": "stream",
     "text": [
      "Accuracy: 77.426712546\n"
     ]
    }
   ],
   "source": [
    "# calculate Accuracy\n",
    "accuracy_print =obj.Accuracy(y_array_test_data,y_predict)"
   ]
  },
  {
   "cell_type": "code",
   "execution_count": null,
   "metadata": {
    "collapsed": true
   },
   "outputs": [],
   "source": [
    "#obj.plotgraph(x_array_test_data,y_array_test_data, y_predict)"
   ]
  },
  {
   "cell_type": "code",
   "execution_count": null,
   "metadata": {
    "collapsed": true
   },
   "outputs": [],
   "source": [
    "#obj.plotgraph_one(x_array_train_data, y_array_train_data, y_predict)"
   ]
  },
  {
   "cell_type": "code",
   "execution_count": null,
   "metadata": {
    "collapsed": true
   },
   "outputs": [],
   "source": [
    "#obj.test_datas(x_array_train_data, thitas)"
   ]
  },
  {
   "cell_type": "code",
   "execution_count": null,
   "metadata": {
    "collapsed": true
   },
   "outputs": [],
   "source": []
  }
 ],
 "metadata": {
  "anaconda-cloud": {},
  "kernelspec": {
   "display_name": "Python [default]",
   "language": "python",
   "name": "python3"
  },
  "language_info": {
   "codemirror_mode": {
    "name": "ipython",
    "version": 3
   },
   "file_extension": ".py",
   "mimetype": "text/x-python",
   "name": "python",
   "nbconvert_exporter": "python",
   "pygments_lexer": "ipython3",
   "version": "3.5.2"
  }
 },
 "nbformat": 4,
 "nbformat_minor": 2
}
