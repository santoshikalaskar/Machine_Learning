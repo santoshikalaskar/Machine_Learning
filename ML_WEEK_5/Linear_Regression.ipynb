{
 "cells": [
  {
   "cell_type": "code",
   "execution_count": 1,
   "metadata": {
    "collapsed": true
   },
   "outputs": [],
   "source": [
    "import numpy as np\n",
    "import matplotlib.pyplot as plt\n",
    "import pandas as pd\n",
    "from sklearn.preprocessing import LabelEncoder\n",
    "from sklearn.preprocessing import OneHotEncoder\n",
    "from sklearn import preprocessing\n",
    "\n",
    "%matplotlib inline"
   ]
  },
  {
   "cell_type": "code",
   "execution_count": 2,
   "metadata": {
    "collapsed": true
   },
   "outputs": [],
   "source": [
    "class Simple_Linear_regression:\n",
    "    \n",
    "    #initialize input variables\n",
    "    def __init__(self):\n",
    "        self.learning_rate = 0.03\n",
    "        self.epoch = 1000\n",
    "        self.theta_0 = 0.4\n",
    "        self.theta_1 = 0.7\n",
    "        \n",
    "        \n",
    "    #load the csv file\n",
    "    def import_data(self):\n",
    "        self.train_data = pd.read_csv(\"train.csv\")\n",
    "        self.test_data = pd.read_csv(\"test.csv\")\n",
    "        #print(self.train_data)\n",
    "        #print(self.test_data)\n",
    "        \n",
    "    #handle the missing data from train data\n",
    "    def train_missing_data_handling(self):\n",
    "        print(\"display datatype:\\n\",self.train_data.dtypes)  \n",
    "        print(\"\\n\")\n",
    "        print(\"check null value:\\n\", self.train_data.isnull().sum()) \n",
    "        self.train_data.replace(np.NaN, self.train_data.mean(), inplace = True) \n",
    "    \n",
    "    #handle the missing data from test data\n",
    "    def test_missing_data_handling(self):\n",
    "        print(\"display datatype:\\n\",self.test_data.dtypes)\n",
    "        print(\"\\n\")\n",
    "        print(\"check null value:\\n\",self.test_data.isnull().sum()) \n",
    "        self.test_data.replace(np.NaN, self.test_data.mean(), inplace = True)\n",
    "        \n",
    "    #feature scalling on train data\n",
    "    def feature_scalling(self):\n",
    "        \n",
    "        # Feature Scalling using Standardization \n",
    "        #self.train_data = pd.DataFrame(preprocessing.StandardScaler().fit(self.train_data).transform(self.train_data))\n",
    "        \n",
    "        # Feature Scalling using Normalization\n",
    "        self.train_data = self.train_data - self.train_data.min()/self.train_data.max()-self.train_data.min() \n",
    "        #print(\"Standardization feature scaling\\n\",self.train_data)\n",
    "        \n",
    "        return self.train_data\n",
    "   \n",
    "    #Split the Dataset using numpy in Train,Test\n",
    "    def split(self):\n",
    "            x_array_train_data = np.array(self.train_data.x)\n",
    "            y_array_train_data = np.array(self.train_data.y)\n",
    "        \n",
    "            x_array_test_data = np.array(self.test_data.x)\n",
    "            y_array_test_data = np.array(self.test_data.y)\n",
    "        \n",
    "            return x_array_train_data,  y_array_train_data, x_array_test_data,y_array_test_data\n",
    "    \n",
    "    #Calculate Hypothesis Function\n",
    "    #  H(x) = th0 + th1*Xi\n",
    "    def hypothesis(self,x_array_train_data):\n",
    "        hypothesis= self.theta_0 + self.theta_1*x_array_train_data\n",
    "        return hypothesis\n",
    "    \n",
    "    # Calculate Gradient Decent \n",
    "    # th0 - (learning_rate * 1/ iterations )* sum_of_i_1_to_iterations[(th0+th1*Xi)-Yi]\n",
    "    # th1 - (learning_rate * 1/ iterations )* sum_of_i_1_to_iterations[[(th0+th1*Xi)-Yi]*Xi]\n",
    "    def Gradient_Decent(self):\n",
    "        size = len(x_array_train_data)\n",
    "        itration = self.epoch\n",
    "        fig = plt.figure()\n",
    "        fig, (ax1, ax2, ax3,ax4) = plt.subplots(nrows=4, ncols=1, figsize=(5, 20))\n",
    "        for itr in range(itration):\n",
    "            #total_cost_fun=[0]*len(self.epoch)\n",
    "            for row in range(len(x_array_train_data)):\n",
    "                \n",
    "                derivative_cost1 = self.hypothesis(x_array_train_data[row])- y_array_train_data[row]\n",
    "                derivative_cost2 = (self.hypothesis(x_array_train_data[row])- y_array_train_data[row])*x_array_train_data[row]\n",
    "                \n",
    "                cost_fun = np.square((self.hypothesis(x_array_train_data[row]))-y_array_train_data[row])\n",
    "            \n",
    "            self.theta_0 = self.theta_0-(self.learning_rate* 1/size)*derivative_cost1\n",
    "            #print(\"theta_0: \", self.theta_0)\n",
    "            self.theta_1 = self.theta_1-(self.learning_rate* 1/size)*derivative_cost2\n",
    "            #print(\"theta_1: \", self.theta_1)\n",
    "            \n",
    "            total_cost_fun= ((1/2)*size)*cost_fun\n",
    "            #print(\"Cost ..\",total_cost_fun)\n",
    "            \n",
    "            # ploting graphs  on each 50 epochs \n",
    "            if(itr%50 == 0):\n",
    "                ax1.plot(itr,self.theta_0,color='r')\n",
    "                ax1.set_title('iteration vs theta 0')\n",
    "                ax2.plot(itr,self.theta_1,color='g')\n",
    "                ax2.set_title('iteration vs theta 1')\n",
    "                ax3.plot(itr, total_cost_fun,marker='*',color='b')\n",
    "                ax3.set_title('iteration vs cost')\n",
    "                ax4.plot(self.theta_0,self.theta_1,marker = 'x', color='black')\n",
    "                ax4.set_title('theta_0 vs theta_1')\n",
    "            if( total_cost_fun<=0.00009): \n",
    "                break\n",
    "        plt.subplots_adjust(hspace=1)\n",
    "        plt.show()    \n",
    "            \n",
    "        thetas=[self.theta_0 , self.theta_1]\n",
    "        \n",
    "        return thetas\n",
    "    \n",
    "        \n",
    "#     def Cost_function(self):\n",
    "#         for row in range(self.epoch):\n",
    "#             for i in range(len(train_data_array_y)):\n",
    "#                 temp4 = np.square((self.hypothesis(train_data_array_x[i]))-train_data_array_y[i])\n",
    "#             temp3= ((1/2)*self.epoch)*temp4\n",
    "#             print(temp3)\n",
    "    \n",
    "    # Find y_predict values\n",
    "    def test_datas(self, x_array_test_data, thitas):\n",
    "        y_predict = [0]* len(x_array_test_data)\n",
    "        for i in range(len(x_array_test_data)):\n",
    "            y_predict[i]=thitas[0]+(thitas[1]*x_array_test_data[i])\n",
    "        return y_predict\n",
    "     \n",
    "        # find the Accuracy\n",
    "    def Accuracy(self,y_predict,y_array_test_data):\n",
    "        total_error = 0\n",
    "        accuracy = 0\n",
    "        for i in range(0,len(y_array_test_data)):\n",
    "            total_error += abs((y_predict[i]-y_array_test_data[i])/y_array_test_data[i])\n",
    "        total_error = (total_error/len(y_array_test_data))\n",
    "        accuracy = (1-total_error)*100\n",
    "        print(\"Accuracy:\",accuracy)\n",
    "        return accuracy\n",
    "    \n",
    "\n",
    "        "
   ]
  },
  {
   "cell_type": "code",
   "execution_count": 3,
   "metadata": {
    "collapsed": true
   },
   "outputs": [],
   "source": [
    "# Initialize values\n",
    "obj = Simple_Linear_regression()\n"
   ]
  },
  {
   "cell_type": "code",
   "execution_count": 4,
   "metadata": {
    "collapsed": true
   },
   "outputs": [],
   "source": [
    "# Importing dataet\n",
    "obj.import_data()"
   ]
  },
  {
   "cell_type": "code",
   "execution_count": 5,
   "metadata": {
    "collapsed": false
   },
   "outputs": [
    {
     "name": "stdout",
     "output_type": "stream",
     "text": [
      "display datatype:\n",
      " x    float64\n",
      "y    float64\n",
      "dtype: object\n",
      "\n",
      "\n",
      "check null value:\n",
      " x    0\n",
      "y    1\n",
      "dtype: int64\n"
     ]
    }
   ],
   "source": [
    "# Call for handling missing data of train\n",
    "obj.train_missing_data_handling()"
   ]
  },
  {
   "cell_type": "code",
   "execution_count": 6,
   "metadata": {
    "collapsed": false
   },
   "outputs": [
    {
     "name": "stdout",
     "output_type": "stream",
     "text": [
      "display datatype:\n",
      " x      int64\n",
      "y    float64\n",
      "dtype: object\n",
      "\n",
      "\n",
      "check null value:\n",
      " x    0\n",
      "y    0\n",
      "dtype: int64\n"
     ]
    }
   ],
   "source": [
    "# Call for handling missing data of test\n",
    "obj.test_missing_data_handling()"
   ]
  },
  {
   "cell_type": "code",
   "execution_count": 7,
   "metadata": {
    "collapsed": false
   },
   "outputs": [
    {
     "data": {
      "text/html": [
       "<div>\n",
       "<style scoped>\n",
       "    .dataframe tbody tr th:only-of-type {\n",
       "        vertical-align: middle;\n",
       "    }\n",
       "\n",
       "    .dataframe tbody tr th {\n",
       "        vertical-align: top;\n",
       "    }\n",
       "\n",
       "    .dataframe thead th {\n",
       "        text-align: right;\n",
       "    }\n",
       "</style>\n",
       "<table border=\"1\" class=\"dataframe\">\n",
       "  <thead>\n",
       "    <tr style=\"text-align: right;\">\n",
       "      <th></th>\n",
       "      <th>x</th>\n",
       "      <th>y</th>\n",
       "    </tr>\n",
       "  </thead>\n",
       "  <tbody>\n",
       "    <tr>\n",
       "      <th>0</th>\n",
       "      <td>24.0</td>\n",
       "      <td>25.424704</td>\n",
       "    </tr>\n",
       "    <tr>\n",
       "      <th>1</th>\n",
       "      <td>50.0</td>\n",
       "      <td>51.339715</td>\n",
       "    </tr>\n",
       "    <tr>\n",
       "      <th>2</th>\n",
       "      <td>15.0</td>\n",
       "      <td>21.093908</td>\n",
       "    </tr>\n",
       "    <tr>\n",
       "      <th>3</th>\n",
       "      <td>38.0</td>\n",
       "      <td>40.461650</td>\n",
       "    </tr>\n",
       "    <tr>\n",
       "      <th>4</th>\n",
       "      <td>87.0</td>\n",
       "      <td>91.164236</td>\n",
       "    </tr>\n",
       "    <tr>\n",
       "      <th>5</th>\n",
       "      <td>36.0</td>\n",
       "      <td>36.339127</td>\n",
       "    </tr>\n",
       "    <tr>\n",
       "      <th>6</th>\n",
       "      <td>12.0</td>\n",
       "      <td>14.656149</td>\n",
       "    </tr>\n",
       "    <tr>\n",
       "      <th>7</th>\n",
       "      <td>81.0</td>\n",
       "      <td>84.638650</td>\n",
       "    </tr>\n",
       "    <tr>\n",
       "      <th>8</th>\n",
       "      <td>25.0</td>\n",
       "      <td>28.487403</td>\n",
       "    </tr>\n",
       "    <tr>\n",
       "      <th>9</th>\n",
       "      <td>5.0</td>\n",
       "      <td>10.838571</td>\n",
       "    </tr>\n",
       "  </tbody>\n",
       "</table>\n",
       "</div>"
      ],
      "text/plain": [
       "      x          y\n",
       "0  24.0  25.424704\n",
       "1  50.0  51.339715\n",
       "2  15.0  21.093908\n",
       "3  38.0  40.461650\n",
       "4  87.0  91.164236\n",
       "5  36.0  36.339127\n",
       "6  12.0  14.656149\n",
       "7  81.0  84.638650\n",
       "8  25.0  28.487403\n",
       "9   5.0  10.838571"
      ]
     },
     "execution_count": 7,
     "metadata": {},
     "output_type": "execute_result"
    }
   ],
   "source": [
    "# done Feature Scaling \n",
    "data = obj.feature_scalling()\n",
    "data.head(10)"
   ]
  },
  {
   "cell_type": "code",
   "execution_count": 8,
   "metadata": {
    "collapsed": true
   },
   "outputs": [],
   "source": [
    "# call for Splitting Dataset\n",
    "x_array_train_data,  y_array_train_data, x_array_test_data,y_array_test_data =  obj.split()"
   ]
  },
  {
   "cell_type": "code",
   "execution_count": 9,
   "metadata": {
    "collapsed": false
   },
   "outputs": [
    {
     "data": {
      "text/plain": [
       "<Figure size 432x288 with 0 Axes>"
      ]
     },
     "metadata": {},
     "output_type": "display_data"
    },
    {
     "data": {
      "image/png": "[encoded data removed]",
      "text/plain": [
       "<Figure size 360x1440 with 4 Axes>"
      ]
     },
     "metadata": {
      "needs_background": "light"
     },
     "output_type": "display_data"
    }
   ],
   "source": [
    "# Call Gradient_Decent Algorithm\n",
    "Thitas = obj.Gradient_Decent()\n"
   ]
  },
  {
   "cell_type": "code",
   "execution_count": 10,
   "metadata": {
    "collapsed": false
   },
   "outputs": [
    {
     "name": "stdout",
     "output_type": "stream",
     "text": [
      "300\n"
     ]
    }
   ],
   "source": [
    "# call for Y_predict values\n",
    "y_predict = obj.test_datas(x_array_test_data, Thitas)\n",
    "print(len(y_predict))"
   ]
  },
  {
   "cell_type": "code",
   "execution_count": null,
   "metadata": {
    "collapsed": true
   },
   "outputs": [],
   "source": []
  },
  {
   "cell_type": "code",
   "execution_count": 11,
   "metadata": {
    "collapsed": false
   },
   "outputs": [
    {
     "name": "stdout",
     "output_type": "stream",
     "text": [
      "Accuracy: 81.86348964914426\n"
     ]
    }
   ],
   "source": [
    "# calculate Accuracy\n",
    "accuracy_print =obj.Accuracy(y_array_test_data,y_predict)"
   ]
  },
  {
   "cell_type": "code",
   "execution_count": 12,
   "metadata": {
    "collapsed": false
   },
   "outputs": [
    {
     "name": "stdout",
     "output_type": "stream",
     "text": [
      "81.86348964914426\n"
     ]
    }
   ],
   "source": [
    "print(accuracy_print)"
   ]
  },
  {
   "cell_type": "code",
   "execution_count": 13,
   "metadata": {
    "collapsed": true
   },
   "outputs": [],
   "source": [
    "#obj.Cost_function()"
   ]
  },
  {
   "cell_type": "code",
   "execution_count": null,
   "metadata": {
    "collapsed": true
   },
   "outputs": [],
   "source": []
  },
  {
   "cell_type": "code",
   "execution_count": null,
   "metadata": {
    "collapsed": true
   },
   "outputs": [],
   "source": []
  },
  {
   "cell_type": "code",
   "execution_count": null,
   "metadata": {
    "collapsed": true
   },
   "outputs": [],
   "source": []
  }
 ],
 "metadata": {
  "kernelspec": {
   "display_name": "Python [default]",
   "language": "python",
   "name": "python3"
  },
  "language_info": {
   "codemirror_mode": {
    "name": "ipython",
    "version": 3
   },
   "file_extension": ".py",
   "mimetype": "text/x-python",
   "name": "python",
   "nbconvert_exporter": "python",
   "pygments_lexer": "ipython3",
   "version": "3.5.2"
  }
 },
 "nbformat": 4,
 "nbformat_minor": 2
}
