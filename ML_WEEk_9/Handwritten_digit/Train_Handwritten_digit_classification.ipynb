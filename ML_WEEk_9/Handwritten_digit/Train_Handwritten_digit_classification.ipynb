{
 "cells": [
  {
   "cell_type": "markdown",
   "metadata": {},
   "source": [
    "# CNN_Hanwritten_Digit_classification_Train\n"
   ]
  },
  {
   "cell_type": "code",
   "execution_count": 16,
   "metadata": {},
   "outputs": [],
   "source": [
    "#Importing all packages\n",
    "\n",
    "import tensorflow as tf\n",
    "import matplotlib.pyplot as plt\n",
    "%matplotlib inline\n",
    "import numpy as np\n",
    "from keras.datasets import mnist\n",
    "from tensorflow.keras.optimizers import Adam\n",
    "from keras.utils import np_utils\n",
    "from tensorflow.keras import backend\n",
    "from tensorflow.keras.models import Sequential\n",
    "from tensorflow.keras.layers import Convolution2D,Dropout\n",
    "from tensorflow.keras.layers import MaxPooling2D\n",
    "from tensorflow.keras.layers import Flatten\n",
    "from tensorflow.keras.layers import Dense\n",
    "from tensorflow.keras.callbacks import TensorBoard"
   ]
  },
  {
   "cell_type": "code",
   "execution_count": 17,
   "metadata": {},
   "outputs": [
    {
     "name": "stdout",
     "output_type": "stream",
     "text": [
      "('shape of X_train: ', 60000, 28, 28)\n",
      "('shape of y_train: ', 60000)\n",
      "('shape of X_test: ', 10000, 28, 28)\n",
      "('shape of y_test: ', 10000)\n"
     ]
    }
   ],
   "source": [
    "# load data\n",
    "\n",
    "(X_train, y_train), (X_test, y_test) = mnist.load_data()\n",
    "\n",
    "print(\"shape of X_train: \",X_train.shape[0],X_train.shape[1],X_train.shape[2])\n",
    "print(\"shape of y_train: \",y_train.shape[0])\n",
    "print(\"shape of X_test: \",X_test.shape[0],X_test.shape[1],X_test.shape[2])\n",
    "print(\"shape of y_test: \",y_test.shape[0])        "
   ]
  },
  {
   "cell_type": "code",
   "execution_count": 18,
   "metadata": {},
   "outputs": [],
   "source": [
    "# Reshaping to format (batch, height, width, channels)\n",
    "\n",
    "X_train = X_train.reshape(X_train.shape[0], X_train.shape[1], X_train.shape[2], 1).astype('float32')\n",
    "X_test = X_test.reshape(X_test.shape[0], X_test.shape[1], X_test.shape[2], 1).astype('float32')\n"
   ]
  },
  {
   "cell_type": "code",
   "execution_count": 19,
   "metadata": {},
   "outputs": [],
   "source": [
    "# normalize inputs from 0-255 to 0-1\n",
    "\n",
    "X_train/=255\n",
    "X_test/=255\n"
   ]
  },
  {
   "cell_type": "code",
   "execution_count": 20,
   "metadata": {},
   "outputs": [
    {
     "name": "stdout",
     "output_type": "stream",
     "text": [
      "('Y_train shape:', (60000, 10))\n",
      "('Y_test_shape:', (10000, 10))\n"
     ]
    }
   ],
   "source": [
    "# one hot encode\n",
    "\n",
    "number_of_classes = 10\n",
    "y_train = np_utils.to_categorical(y_train, number_of_classes)\n",
    "y_test = np_utils.to_categorical(y_test, number_of_classes)\n",
    "print(\"Y_train shape:\",y_train.shape)\n",
    "print(\"Y_test_shape:\",y_test.shape)"
   ]
  },
  {
   "cell_type": "code",
   "execution_count": 21,
   "metadata": {},
   "outputs": [],
   "source": [
    "# create model\n",
    "model = Sequential()\n",
    "model.add(Convolution2D(32, (5, 5), input_shape=(X_train.shape[1], X_train.shape[2], 1), activation='relu'))\n",
    "model.add(MaxPooling2D(pool_size=(2, 2)))\n",
    "model.add(Convolution2D(32, (3, 3), activation='relu'))\n",
    "model.add(MaxPooling2D(pool_size=(2, 2)))\n",
    "model.add(Dropout(0.2))\n",
    "model.add(Flatten())\n",
    "model.add(Dense(128, activation='relu'))\n",
    "model.add(Dense(number_of_classes, activation='softmax'))"
   ]
  },
  {
   "cell_type": "code",
   "execution_count": 22,
   "metadata": {},
   "outputs": [],
   "source": [
    "# Compile model\n",
    "model.compile( optimizer=\"adam\",loss='categorical_crossentropy', metrics=['accuracy'])"
   ]
  },
  {
   "cell_type": "code",
   "execution_count": 23,
   "metadata": {},
   "outputs": [
    {
     "name": "stdout",
     "output_type": "stream",
     "text": [
      "Train on 60000 samples, validate on 10000 samples\n",
      "Epoch 1/10\n",
      "60000/60000 [==============================] - 12s 202us/sample - loss: 0.3017 - accuracy: 0.9099 - val_loss: 0.0690 - val_accuracy: 0.9785\n",
      "Epoch 2/10\n",
      "60000/60000 [==============================] - 11s 190us/sample - loss: 0.0774 - accuracy: 0.9766 - val_loss: 0.0454 - val_accuracy: 0.9856\n",
      "Epoch 3/10\n",
      "60000/60000 [==============================] - 11s 189us/sample - loss: 0.0563 - accuracy: 0.9829 - val_loss: 0.0349 - val_accuracy: 0.9889\n",
      "Epoch 4/10\n",
      "60000/60000 [==============================] - 14s 229us/sample - loss: 0.0456 - accuracy: 0.9858 - val_loss: 0.0341 - val_accuracy: 0.9889\n",
      "Epoch 5/10\n",
      "60000/60000 [==============================] - 22s 372us/sample - loss: 0.0376 - accuracy: 0.9883 - val_loss: 0.0300 - val_accuracy: 0.9895\n",
      "Epoch 6/10\n",
      "60000/60000 [==============================] - 22s 361us/sample - loss: 0.0324 - accuracy: 0.9897 - val_loss: 0.0269 - val_accuracy: 0.9902\n",
      "Epoch 7/10\n",
      "60000/60000 [==============================] - 22s 360us/sample - loss: 0.0293 - accuracy: 0.9908 - val_loss: 0.0255 - val_accuracy: 0.9910\n",
      "Epoch 8/10\n",
      "60000/60000 [==============================] - 20s 330us/sample - loss: 0.0248 - accuracy: 0.9917 - val_loss: 0.0245 - val_accuracy: 0.9917\n",
      "Epoch 9/10\n",
      "60000/60000 [==============================] - 22s 360us/sample - loss: 0.0215 - accuracy: 0.9932 - val_loss: 0.0236 - val_accuracy: 0.9925\n",
      "Epoch 10/10\n",
      "60000/60000 [==============================] - 23s 375us/sample - loss: 0.0193 - accuracy: 0.9940 - val_loss: 0.0240 - val_accuracy: 0.9916\n"
     ]
    },
    {
     "data": {
      "text/plain": [
       "<tensorflow.python.keras.callbacks.History at 0x7f3b2aac8e90>"
      ]
     },
     "execution_count": 23,
     "metadata": {},
     "output_type": "execute_result"
    }
   ],
   "source": [
    "# Fit the model\n",
    "\n",
    "model.fit(X_train, y_train, validation_data=(X_test, y_test), epochs=10, batch_size=200)"
   ]
  },
  {
   "cell_type": "code",
   "execution_count": 24,
   "metadata": {},
   "outputs": [],
   "source": [
    "# Save the model\n",
    "model.save('mnistCNN.h5')\n"
   ]
  },
  {
   "cell_type": "code",
   "execution_count": 33,
   "metadata": {},
   "outputs": [
    {
     "name": "stdout",
     "output_type": "stream",
     "text": [
      "Train on 60000 samples, validate on 10000 samples\n",
      "Epoch 1/5\n",
      "60000/60000 [==============================] - 12s 202us/sample - loss: 0.0128 - accuracy: 0.9957 - val_loss: 0.0209 - val_accuracy: 0.9934\n",
      "Epoch 2/5\n",
      "60000/60000 [==============================] - 12s 204us/sample - loss: 0.0111 - accuracy: 0.9962 - val_loss: 0.0263 - val_accuracy: 0.9921\n",
      "Epoch 3/5\n",
      "60000/60000 [==============================] - 13s 215us/sample - loss: 0.0124 - accuracy: 0.9957 - val_loss: 0.0302 - val_accuracy: 0.9913\n",
      "Epoch 4/5\n",
      "60000/60000 [==============================] - 13s 216us/sample - loss: 0.0103 - accuracy: 0.9966 - val_loss: 0.0232 - val_accuracy: 0.9934\n",
      "Epoch 5/5\n",
      "60000/60000 [==============================] - 12s 207us/sample - loss: 0.0095 - accuracy: 0.9968 - val_loss: 0.0240 - val_accuracy: 0.9927\n"
     ]
    },
    {
     "data": {
      "text/plain": [
       "<tensorflow.python.keras.callbacks.History at 0x7f3ae473e890>"
      ]
     },
     "execution_count": 33,
     "metadata": {},
     "output_type": "execute_result"
    }
   ],
   "source": [
    "NAME = \"Handwritten-digit-classification-CNN\"\n",
    "\n",
    "tensorboard = TensorBoard(log_dir=\"logs/{}\".format(NAME))\n",
    "model.fit(X_train, y_train,batch_size=200, validation_data=(X_test, y_test), epochs=5, callbacks=[tensorboard])\n"
   ]
  },
  {
   "cell_type": "code",
   "execution_count": 34,
   "metadata": {},
   "outputs": [
    {
     "name": "stdout",
     "output_type": "stream",
     "text": [
      "Test loss & Test Accuracy: \n",
      "10000/10000 [==============================] - 1s 78us/sample - loss: 0.0240 - accuracy: 0.9927\n",
      "('Validation/Test Loss: ', 0.023974009877079608)\n",
      "('Validation/Test Accuracy: ', 0.9927)\n"
     ]
    }
   ],
   "source": [
    "# Final evaluation of the model\n",
    "\n",
    "print(\"Test loss & Test Accuracy: \")\n",
    "\n",
    "val_loss, val_acc = model.evaluate(X_test, y_test)\n",
    "print(\"Validation/Test Loss: \",val_loss)\n",
    "print(\"Validation/Test Accuracy: \",val_acc)"
   ]
  },
  {
   "cell_type": "code",
   "execution_count": 35,
   "metadata": {},
   "outputs": [],
   "source": [
    "new_model = tf.keras.models.load_model('mnistCNN.h5')\n"
   ]
  },
  {
   "cell_type": "code",
   "execution_count": 36,
   "metadata": {},
   "outputs": [],
   "source": [
    "prediction = new_model.predict([X_test])"
   ]
  },
  {
   "cell_type": "code",
   "execution_count": 37,
   "metadata": {},
   "outputs": [
    {
     "name": "stdout",
     "output_type": "stream",
     "text": [
      "[[1.2458963e-10 5.3505040e-08 3.7428831e-07 ... 9.9998307e-01\n",
      "  1.1460575e-08 1.1918027e-07]\n",
      " [3.7635002e-09 1.6803382e-05 9.9998319e-01 ... 1.7330766e-08\n",
      "  3.2390535e-09 9.8637602e-13]\n",
      " [1.2068638e-06 9.9989486e-01 1.5610398e-06 ... 2.6758200e-05\n",
      "  2.3927454e-05 6.3204147e-06]\n",
      " ...\n",
      " [2.0455429e-15 3.0679095e-10 5.9367572e-12 ... 1.0307359e-07\n",
      "  1.5509544e-08 5.3943592e-07]\n",
      " [6.1467227e-09 7.8359525e-13 4.3473166e-11 ... 3.3274800e-11\n",
      "  4.5118015e-04 4.5538942e-09]\n",
      " [4.6085988e-09 7.5263777e-09 1.6233813e-08 ... 1.2701566e-12\n",
      "  7.5316558e-07 1.0892159e-11]]\n"
     ]
    }
   ],
   "source": [
    "print(prediction)"
   ]
  },
  {
   "cell_type": "code",
   "execution_count": 38,
   "metadata": {},
   "outputs": [
    {
     "name": "stdout",
     "output_type": "stream",
     "text": [
      "6\n"
     ]
    }
   ],
   "source": [
    "print(np.argmax(prediction[11]))"
   ]
  },
  {
   "cell_type": "code",
   "execution_count": null,
   "metadata": {},
   "outputs": [],
   "source": []
  }
 ],
 "metadata": {
  "kernelspec": {
   "display_name": "Python 2",
   "language": "python",
   "name": "python2"
  },
  "language_info": {
   "codemirror_mode": {
    "name": "ipython",
    "version": 2
   },
   "file_extension": ".py",
   "mimetype": "text/x-python",
   "name": "python",
   "nbconvert_exporter": "python",
   "pygments_lexer": "ipython2",
   "version": "2.7.15rc1"
  }
 },
 "nbformat": 4,
 "nbformat_minor": 2
}
