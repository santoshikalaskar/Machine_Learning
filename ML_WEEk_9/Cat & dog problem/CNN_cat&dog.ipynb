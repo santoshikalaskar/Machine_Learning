{
 "cells": [
  {
   "cell_type": "markdown",
   "metadata": {},
   "source": [
    "# CNN cat_dog_classification\n"
   ]
  },
  {
   "cell_type": "code",
   "execution_count": 1,
   "metadata": {},
   "outputs": [],
   "source": [
    "# import libraries\n",
    "\n",
    "from tensorflow.keras.models import Sequential\n",
    "from tensorflow.keras.layers import Convolution2D                                                                  \n",
    "from tensorflow.keras.layers import MaxPooling2D\n",
    "from tensorflow.keras.layers import Flatten\n",
    "from tensorflow.keras.layers import Dense\n",
    "\n",
    "from tensorflow.keras.callbacks import TensorBoard"
   ]
  },
  {
   "cell_type": "code",
   "execution_count": 2,
   "metadata": {},
   "outputs": [],
   "source": [
    "#initializing CNN\n",
    "\n",
    "classifier=Sequential()"
   ]
  },
  {
   "cell_type": "code",
   "execution_count": 3,
   "metadata": {},
   "outputs": [],
   "source": [
    "# step-1: convolution_layer1\n",
    "\n",
    "classifier.add(Convolution2D(32, 3, 3, input_shape = (64,64,3), activation='relu'))\n",
    "\n",
    "# step-2:pooling_layer1\n",
    "\n",
    "classifier.add(MaxPooling2D(pool_size=(2,2)))\n",
    "\n",
    "# step-1: convolution_layer2\n",
    "\n",
    "classifier.add(Convolution2D(32, 3, 3, activation='relu'))#no need to give input image size as output from last pooling layer\n",
    "\n",
    "# step-2:pooling_layer2\n",
    "\n",
    "classifier.add(MaxPooling2D(pool_size=(2,2)))\n",
    "\n",
    "# step-3: Flatten\n",
    "\n",
    "classifier.add(Flatten())\n",
    "\n",
    "# step-4: Fully Connection\n",
    "\n",
    "classifier.add(Dense( 128, activation ='relu'))\n",
    "classifier.add(Dense( 64, activation = 'relu'))\n",
    "classifier.add(Dense(1, activation ='sigmoid'))"
   ]
  },
  {
   "cell_type": "code",
   "execution_count": 4,
   "metadata": {},
   "outputs": [],
   "source": [
    "# compliling the CNN\n",
    "\n",
    "classifier.compile(optimizer='adam',loss= 'binary_crossentropy',metrics=['accuracy'])"
   ]
  },
  {
   "cell_type": "code",
   "execution_count": 9,
   "metadata": {},
   "outputs": [
    {
     "name": "stdout",
     "output_type": "stream",
     "text": [
      "Found 8000 images belonging to 2 classes.\n",
      "Found 2000 images belonging to 2 classes.\n",
      "Epoch 1/4\n",
      "8000/8000 [==============================] - 507s 63ms/step - loss: 0.4984 - accuracy: 0.7537 - val_loss: 0.5934 - val_accuracy: 0.7020\n",
      "Epoch 2/4\n",
      "8000/8000 [==============================] - 497s 62ms/step - loss: 0.4722 - accuracy: 0.7705 - val_loss: 0.5875 - val_accuracy: 0.7033\n",
      "Epoch 3/4\n",
      "8000/8000 [==============================] - 498s 62ms/step - loss: 0.4543 - accuracy: 0.7813 - val_loss: 0.6402 - val_accuracy: 0.6767\n",
      "Epoch 4/4\n",
      "8000/8000 [==============================] - 499s 62ms/step - loss: 0.4388 - accuracy: 0.7901 - val_loss: 0.6180 - val_accuracy: 0.7044\n"
     ]
    },
    {
     "data": {
      "text/plain": [
       "<tensorflow.python.keras.callbacks.History at 0x7fd230332ad0>"
      ]
     },
     "execution_count": 9,
     "metadata": {},
     "output_type": "execute_result"
    }
   ],
   "source": [
    "from keras.preprocessing.image import ImageDataGenerator\n",
    "\n",
    "NAME = \"Cats-vs-dogs-CNN\"\n",
    "\n",
    "tensorboard = TensorBoard(log_dir=\"logs/{}\".format(NAME))\n",
    "\n",
    "train_datagen = ImageDataGenerator(\n",
    "        rescale=1./255,\n",
    "        shear_range=0.2,\n",
    "        zoom_range=0.2,\n",
    "        horizontal_flip=True)\n",
    "\n",
    "test_datagen = ImageDataGenerator(rescale=1./255)\n",
    "\n",
    "train_set = train_datagen.flow_from_directory(\n",
    "                                                'dataset/train_set',\n",
    "                                                target_size=(64, 64),\n",
    "                                                batch_size=32,\n",
    "                                                class_mode='binary')\n",
    "\n",
    "test_set = test_datagen.flow_from_directory(\n",
    "                                            'dataset/test_set',\n",
    "                                            target_size=(64, 64),\n",
    "                                            batch_size=32,\n",
    "                                            class_mode='binary')\n",
    "\n",
    "classifier.fit_generator(train_set,\n",
    "                        steps_per_epoch=8000,\n",
    "                        epochs=4,\n",
    "                        validation_data=test_set,\n",
    "                        validation_steps=2000,\n",
    "                        callbacks=[tensorboard]\n",
    "                        )"
   ]
  },
  {
   "cell_type": "code",
   "execution_count": 6,
   "metadata": {},
   "outputs": [
    {
     "data": {
      "text/plain": [
       "array([[0.37204283],\n",
       "       [0.15677297],\n",
       "       [0.17066783],\n",
       "       ...,\n",
       "       [0.36436278],\n",
       "       [0.9860979 ],\n",
       "       [0.87279415]], dtype=float32)"
      ]
     },
     "execution_count": 6,
     "metadata": {},
     "output_type": "execute_result"
    }
   ],
   "source": [
    "predict = classifier.predict_generator(train_set,  callbacks=[tensorboard], max_queue_size=10, verbose=0)\n",
    "predict"
   ]
  },
  {
   "cell_type": "code",
   "execution_count": 7,
   "metadata": {},
   "outputs": [],
   "source": [
    "\n",
    "classifier.save(\"model.h5\")\n"
   ]
  },
  {
   "cell_type": "code",
   "execution_count": null,
   "metadata": {},
   "outputs": [],
   "source": []
  }
 ],
 "metadata": {
  "kernelspec": {
   "display_name": "Python 2",
   "language": "python",
   "name": "python2"
  },
  "language_info": {
   "codemirror_mode": {
    "name": "ipython",
    "version": 2
   },
   "file_extension": ".py",
   "mimetype": "text/x-python",
   "name": "python",
   "nbconvert_exporter": "python",
   "pygments_lexer": "ipython2",
   "version": "2.7.15rc1"
  }
 },
 "nbformat": 4,
 "nbformat_minor": 2
}
