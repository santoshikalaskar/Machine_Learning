{
 "cells": [
  {
   "cell_type": "code",
   "execution_count": 20,
   "metadata": {},
   "outputs": [],
   "source": [
    "#import dataset\n",
    "\n",
    "import tensorflow as tf\n",
    "from tensorflow.keras.preprocessing.image import ImageDataGenerator\n",
    "from tensorflow.keras.models import Sequential\n",
    "from tensorflow.keras.layers import Dense, Dropout, Activation, Flatten\n",
    "from tensorflow.keras.layers import Convolution2D\n",
    "from tensorflow.keras.layers import MaxPooling2D\n",
    "\n",
    "from tensorflow.keras.callbacks import TensorBoard\n",
    "\n",
    "import pickle"
   ]
  },
  {
   "cell_type": "code",
   "execution_count": 21,
   "metadata": {},
   "outputs": [],
   "source": [
    "# import the pickle file\n",
    "\n",
    "X1 = pickle.load(open(\"X1.pickle\",\"rb\")) #X1: Features of Training\n",
    "\n",
    "y1 = pickle.load(open(\"y1.pickle\",\"rb\")) #y1: Labels of Training\n",
    "\n",
    "test_pickle = pickle.load(open(\"test.pickle\",\"rb\"))\n",
    "\n",
    "X2 = pickle.load(open(\"X2.pickle\",\"rb\")) #X2: Features of Testing\n",
    "\n",
    "y2 = pickle.load(open(\"y2.pickle\",\"rb\")) #y2: Labels of Testing"
   ]
  },
  {
   "cell_type": "code",
   "execution_count": 22,
   "metadata": {},
   "outputs": [],
   "source": [
    "X1 = X1/255.0 #scaling\n",
    "X2 = X2/255.0"
   ]
  },
  {
   "cell_type": "code",
   "execution_count": 25,
   "metadata": {},
   "outputs": [
    {
     "name": "stdout",
     "output_type": "stream",
     "text": [
      "Train on 8004 samples, validate on 2000 samples\n",
      "Epoch 1/8\n",
      "8004/8004 [==============================] - 18s 2ms/sample - loss: 0.6940 - accuracy: 0.4913 - val_loss: 0.6931 - val_accuracy: 0.5000\n",
      "Epoch 2/8\n",
      "8004/8004 [==============================] - 18s 2ms/sample - loss: 0.6932 - accuracy: 0.4973 - val_loss: 0.6931 - val_accuracy: 0.5000\n",
      "Epoch 3/8\n",
      "8004/8004 [==============================] - 18s 2ms/sample - loss: 0.6932 - accuracy: 0.4890 - val_loss: 0.6931 - val_accuracy: 0.5000\n",
      "Epoch 4/8\n",
      "8004/8004 [==============================] - 19s 2ms/sample - loss: 0.6932 - accuracy: 0.5007 - val_loss: 0.6931 - val_accuracy: 0.5000\n",
      "Epoch 5/8\n",
      "8004/8004 [==============================] - 18s 2ms/sample - loss: 0.6932 - accuracy: 0.4955 - val_loss: 0.6931 - val_accuracy: 0.5000\n",
      "Epoch 6/8\n",
      "8004/8004 [==============================] - 18s 2ms/sample - loss: 0.6932 - accuracy: 0.5000 - val_loss: 0.6931 - val_accuracy: 0.5000\n",
      "Epoch 7/8\n",
      "8004/8004 [==============================] - 19s 2ms/sample - loss: 0.6932 - accuracy: 0.4943 - val_loss: 0.6931 - val_accuracy: 0.5000\n",
      "Epoch 8/8\n",
      "8004/8004 [==============================] - 19s 2ms/sample - loss: 0.6932 - accuracy: 0.5002 - val_loss: 0.6931 - val_accuracy: 0.5000\n"
     ]
    },
    {
     "data": {
      "text/plain": [
       "<tensorflow.python.keras.callbacks.History at 0x7f2cb8188850>"
      ]
     },
     "execution_count": 25,
     "metadata": {},
     "output_type": "execute_result"
    }
   ],
   "source": [
    "from keras.preprocessing.image import ImageDataGenerator\n",
    "\n",
    "# Define Model\n",
    "model = Sequential()\n",
    "\n",
    "# 1st Layer\n",
    "model.add(Convolution2D(32, (3, 3), input_shape=X1.shape[1:], activation='relu'))# Convolution 1\n",
    "model.add(MaxPooling2D(pool_size=(2, 2)))# Maxpooling 1\n",
    "\n",
    "# 2nd layer\n",
    "model.add(Convolution2D(256, (3, 3), activation='relu'))# Convolution 2\n",
    "model.add(MaxPooling2D(pool_size=(2, 2)))# Maxpooling 2\n",
    "\n",
    "# Flattening layer\n",
    "model.add(Flatten())  # this converts our 3D feature maps to 1D feature vectors\n",
    "\n",
    "# Fully connected layer\n",
    "model.add(Dense(128, activation ='relu')) #fc 1\n",
    "model.add(Dense( 64, activation ='relu')) #fc 2\n",
    "model.add(Dense(1, activation ='sigmoid')) # output layer\n",
    "\n",
    "\n",
    "model.compile(loss='binary_crossentropy',\n",
    "              optimizer='adam',\n",
    "              metrics=['accuracy'])\n",
    "\n",
    "model.fit(X1, y1, batch_size=32, epochs=8, validation_data= (X2,y2))\n",
    "#model.fit(X1,y1,batch_size = 16,epochs = 5, validation_split=0.2)\n"
   ]
  },
  {
   "cell_type": "code",
   "execution_count": 30,
   "metadata": {},
   "outputs": [
    {
     "name": "stdout",
     "output_type": "stream",
     "text": [
      "Train on 8004 samples, validate on 2000 samples\n",
      "Epoch 1/3\n",
      "8004/8004 [==============================] - 18s 2ms/sample - loss: 0.6932 - accuracy: 0.4948 - val_loss: 0.6931 - val_accuracy: 0.5000\n",
      "Epoch 2/3\n",
      "8004/8004 [==============================] - 19s 2ms/sample - loss: 0.6932 - accuracy: 0.5005 - val_loss: 0.6931 - val_accuracy: 0.5000\n",
      "Epoch 3/3\n",
      "8004/8004 [==============================] - 19s 2ms/sample - loss: 0.6932 - accuracy: 0.4953 - val_loss: 0.6931 - val_accuracy: 0.5000\n"
     ]
    },
    {
     "data": {
      "text/plain": [
       "<tensorflow.python.keras.callbacks.History at 0x7f2d8020fbd0>"
      ]
     },
     "execution_count": 30,
     "metadata": {},
     "output_type": "execute_result"
    }
   ],
   "source": [
    "from tensorflow.keras.callbacks import TensorBoard\n",
    "\n",
    "NAME = \"Cats-vs-dogs-CNN\"\n",
    "\n",
    "tensorboard = TensorBoard(log_dir=\"logs/{}\".format(NAME))\n",
    "\n",
    "model.fit(X1, y1,\n",
    "          batch_size=32,\n",
    "          epochs=3,\n",
    "          validation_data= (X2,y2),\n",
    "          callbacks=[tensorboard])\n"
   ]
  },
  {
   "cell_type": "code",
   "execution_count": null,
   "metadata": {},
   "outputs": [],
   "source": []
  }
 ],
 "metadata": {
  "kernelspec": {
   "display_name": "Python 2",
   "language": "python",
   "name": "python2"
  },
  "language_info": {
   "codemirror_mode": {
    "name": "ipython",
    "version": 2
   },
   "file_extension": ".py",
   "mimetype": "text/x-python",
   "name": "python",
   "nbconvert_exporter": "python",
   "pygments_lexer": "ipython2",
   "version": "2.7.15rc1"
  }
 },
 "nbformat": 4,
 "nbformat_minor": 2
}
